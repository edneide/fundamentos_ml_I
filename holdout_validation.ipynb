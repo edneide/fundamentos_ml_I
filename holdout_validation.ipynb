{
 "cells": [
  {
   "cell_type": "markdown",
   "id": "f1e58cbb",
   "metadata": {},
   "source": [
    "# 0. Imports"
   ]
  },
  {
   "cell_type": "code",
   "execution_count": 10,
   "id": "078fec52",
   "metadata": {
    "ExecuteTime": {
     "end_time": "2024-05-10T09:38:23.827243Z",
     "start_time": "2024-05-10T09:38:22.989000Z"
    }
   },
   "outputs": [],
   "source": [
    "\n",
    "\n"
   ]
  },
  {
   "cell_type": "markdown",
   "id": "2101759b",
   "metadata": {},
   "source": [
    "# 1. Treinamento do DS Novato"
   ]
  },
  {
   "cell_type": "markdown",
   "id": "3180a8a5",
   "metadata": {},
   "source": [
    "## Dados sintéticos"
   ]
  },
  {
   "cell_type": "code",
   "execution_count": 51,
   "id": "13ef9fb6",
   "metadata": {
    "ExecuteTime": {
     "end_time": "2024-05-10T10:59:10.953128Z",
     "start_time": "2024-05-10T10:59:10.944769Z"
    }
   },
   "outputs": [],
   "source": [
    "# valores dos parâmetros\n",
    "n_samples = 20000\n",
    "n_features=2\n",
    "n_informative=2\n",
    "n_redundant=0\n",
    "random_state=123\n",
    "\n",
    "# dataset\n",
    "from sklearn import datasets as ds\n",
    "\n",
    "X, y = ds.make_classification(n_samples=n_samples,\n",
    "                   n_features=n_features,\n",
    "                   n_informative=n_informative,\n",
    "                   n_redundant=n_redundant,\n",
    "                   random_state=random_state)\n",
    "\n"
   ]
  },
  {
   "cell_type": "code",
   "execution_count": 52,
   "id": "1c1d063c",
   "metadata": {
    "ExecuteTime": {
     "end_time": "2024-05-10T10:59:11.447960Z",
     "start_time": "2024-05-10T10:59:11.443793Z"
    }
   },
   "outputs": [
    {
     "data": {
      "text/plain": [
       "numpy.ndarray"
      ]
     },
     "execution_count": 52,
     "metadata": {},
     "output_type": "execute_result"
    }
   ],
   "source": [
    "type(X)"
   ]
  },
  {
   "cell_type": "code",
   "execution_count": 53,
   "id": "6078eb7d",
   "metadata": {
    "ExecuteTime": {
     "end_time": "2024-05-10T10:59:11.932624Z",
     "start_time": "2024-05-10T10:59:11.928093Z"
    }
   },
   "outputs": [
    {
     "data": {
      "text/plain": [
       "(20000, 2)"
      ]
     },
     "execution_count": 53,
     "metadata": {},
     "output_type": "execute_result"
    }
   ],
   "source": [
    "import pandas as pd\n",
    "\n",
    "df = pd.DataFrame(X)\n",
    "df.shape"
   ]
  },
  {
   "cell_type": "code",
   "execution_count": 54,
   "id": "6f75c7f5",
   "metadata": {
    "ExecuteTime": {
     "end_time": "2024-05-10T10:59:12.356951Z",
     "start_time": "2024-05-10T10:59:12.349656Z"
    }
   },
   "outputs": [
    {
     "data": {
      "text/html": [
       "<div>\n",
       "<style scoped>\n",
       "    .dataframe tbody tr th:only-of-type {\n",
       "        vertical-align: middle;\n",
       "    }\n",
       "\n",
       "    .dataframe tbody tr th {\n",
       "        vertical-align: top;\n",
       "    }\n",
       "\n",
       "    .dataframe thead th {\n",
       "        text-align: right;\n",
       "    }\n",
       "</style>\n",
       "<table border=\"1\" class=\"dataframe\">\n",
       "  <thead>\n",
       "    <tr style=\"text-align: right;\">\n",
       "      <th></th>\n",
       "      <th>0</th>\n",
       "      <th>1</th>\n",
       "    </tr>\n",
       "  </thead>\n",
       "  <tbody>\n",
       "    <tr>\n",
       "      <th>0</th>\n",
       "      <td>-0.502073</td>\n",
       "      <td>2.663664</td>\n",
       "    </tr>\n",
       "    <tr>\n",
       "      <th>1</th>\n",
       "      <td>0.580967</td>\n",
       "      <td>-0.410515</td>\n",
       "    </tr>\n",
       "    <tr>\n",
       "      <th>2</th>\n",
       "      <td>0.652334</td>\n",
       "      <td>0.585616</td>\n",
       "    </tr>\n",
       "    <tr>\n",
       "      <th>3</th>\n",
       "      <td>2.853186</td>\n",
       "      <td>0.255717</td>\n",
       "    </tr>\n",
       "    <tr>\n",
       "      <th>4</th>\n",
       "      <td>-1.258071</td>\n",
       "      <td>-0.995229</td>\n",
       "    </tr>\n",
       "  </tbody>\n",
       "</table>\n",
       "</div>"
      ],
      "text/plain": [
       "          0         1\n",
       "0 -0.502073  2.663664\n",
       "1  0.580967 -0.410515\n",
       "2  0.652334  0.585616\n",
       "3  2.853186  0.255717\n",
       "4 -1.258071 -0.995229"
      ]
     },
     "execution_count": 54,
     "metadata": {},
     "output_type": "execute_result"
    }
   ],
   "source": [
    "df.head()"
   ]
  },
  {
   "cell_type": "code",
   "execution_count": 55,
   "id": "ba96d933",
   "metadata": {
    "ExecuteTime": {
     "end_time": "2024-05-10T10:59:12.817129Z",
     "start_time": "2024-05-10T10:59:12.812185Z"
    }
   },
   "outputs": [],
   "source": [
    "# divisão em treino e teste\n",
    "from sklearn import model_selection as ms\n",
    "\n",
    "X, X_prod, y, y_prod = ms.train_test_split(X, y, test_size=0.2, random_state=random_state)"
   ]
  },
  {
   "cell_type": "markdown",
   "id": "f0ff43a2",
   "metadata": {},
   "source": [
    "## Não há separação de dados em treino e teste"
   ]
  },
  {
   "cell_type": "code",
   "execution_count": 56,
   "id": "de28fdde",
   "metadata": {
    "ExecuteTime": {
     "end_time": "2024-05-10T10:59:14.573073Z",
     "start_time": "2024-05-10T10:59:14.512036Z"
    }
   },
   "outputs": [
    {
     "name": "stdout",
     "output_type": "stream",
     "text": [
      "Acurácia sobre o treino: 1.0\n"
     ]
    }
   ],
   "source": [
    "# modelo simples - árvore de decisão\n",
    "from sklearn import tree as tr\n",
    "\n",
    "model = tr.DecisionTreeClassifier(max_depth=38)\n",
    "model.fit(X,y)\n",
    "\n",
    "# classificação sobre os dados de treinamento\n",
    "\n",
    "yhat = model.predict(X)\n",
    "\n",
    "# calculando a métrica de classificação \n",
    "from sklearn import metrics as mt\n",
    "\n",
    "acc =  mt.accuracy_score(y, yhat)\n",
    "print('Acurácia sobre o treino: {}'.format(acc))"
   ]
  },
  {
   "cell_type": "markdown",
   "id": "f876aedd",
   "metadata": {
    "ExecuteTime": {
     "end_time": "2024-05-10T09:45:50.738407Z",
     "start_time": "2024-05-10T09:45:50.736545Z"
    }
   },
   "source": [
    "## Publicação do modelo em produção"
   ]
  },
  {
   "cell_type": "code",
   "execution_count": 57,
   "id": "b44a2e8c",
   "metadata": {
    "ExecuteTime": {
     "end_time": "2024-05-10T10:59:16.660637Z",
     "start_time": "2024-05-10T10:59:16.655657Z"
    }
   },
   "outputs": [
    {
     "name": "stdout",
     "output_type": "stream",
     "text": [
      "Acurácia sobre Produção: 0.8475\n"
     ]
    }
   ],
   "source": [
    "yhat_prod = model.predict(X_prod)\n",
    "acc_prod = mt.accuracy_score(y_prod, yhat_prod)\n",
    "\n",
    "print('Acurácia sobre Produção: {}'.format(acc_prod))"
   ]
  },
  {
   "cell_type": "markdown",
   "id": "3e37cfec",
   "metadata": {},
   "source": [
    "_\"A acurácia em produção caiu em relação ao treino. Pq Joaquim treinou com toda a base!!!!!\"_"
   ]
  },
  {
   "cell_type": "markdown",
   "id": "bfe52753",
   "metadata": {},
   "source": [
    "## Estratégia Treino-Teste"
   ]
  },
  {
   "cell_type": "code",
   "execution_count": 58,
   "id": "11778a5b",
   "metadata": {
    "ExecuteTime": {
     "end_time": "2024-05-10T10:59:20.288191Z",
     "start_time": "2024-05-10T10:59:20.283595Z"
    }
   },
   "outputs": [],
   "source": [
    "X_train, X_test, y_train, y_test = ms.train_test_split(X, y, test_size=0.2, random_state=random_state)"
   ]
  },
  {
   "cell_type": "code",
   "execution_count": 59,
   "id": "e7a9f59f",
   "metadata": {
    "ExecuteTime": {
     "end_time": "2024-05-10T10:59:21.140487Z",
     "start_time": "2024-05-10T10:59:21.096345Z"
    }
   },
   "outputs": [
    {
     "name": "stdout",
     "output_type": "stream",
     "text": [
      "Acurácia sobre Teste: 0.841875\n"
     ]
    }
   ],
   "source": [
    "# modelo treinado com dados de treinamento\n",
    "tr.DecisionTreeClassifier(max_depth=38)\n",
    "model.fit(X_train, y_train)\n",
    "\n",
    "# classificacao sobre os dados de teste\n",
    "yhat_test = model.predict(X_test)\n",
    "acc_test = mt.accuracy_score(y_test, yhat_test)\n",
    "\n",
    "print('Acurácia sobre Teste: {}'.format(acc_test))"
   ]
  },
  {
   "cell_type": "markdown",
   "id": "47f4f531",
   "metadata": {},
   "source": [
    "## Escolha os parâmetros do algoritmo"
   ]
  },
  {
   "cell_type": "code",
   "execution_count": 60,
   "id": "5f815c9e",
   "metadata": {
    "ExecuteTime": {
     "end_time": "2024-05-10T10:59:27.187838Z",
     "start_time": "2024-05-10T10:59:25.087910Z"
    }
   },
   "outputs": [],
   "source": [
    "values = [i for i in range(1, 60)]\n",
    "\n",
    "test_score = list()\n",
    "for i in values:\n",
    "    model = tr.DecisionTreeClassifier(max_depth=i)\n",
    "    model.fit(X_train, y_train)\n",
    "    \n",
    "    # classificacao sobre o teste\n",
    "    yhat_test = model.predict(X_test)\n",
    "    acc_test = mt.accuracy_score(y_test, yhat_test)\n",
    "    \n",
    "    test_score.append(acc_test)"
   ]
  },
  {
   "cell_type": "code",
   "execution_count": 61,
   "id": "655a8f52",
   "metadata": {
    "ExecuteTime": {
     "end_time": "2024-05-10T10:59:27.193691Z",
     "start_time": "2024-05-10T10:59:27.190670Z"
    }
   },
   "outputs": [],
   "source": [
    "from matplotlib import pyplot as plt"
   ]
  },
  {
   "cell_type": "code",
   "execution_count": 62,
   "id": "ee782be8",
   "metadata": {
    "ExecuteTime": {
     "end_time": "2024-05-10T10:59:27.330056Z",
     "start_time": "2024-05-10T10:59:27.195814Z"
    }
   },
   "outputs": [
    {
     "data": {
      "text/plain": [
       "[<matplotlib.lines.Line2D at 0x140244be0>]"
      ]
     },
     "execution_count": 62,
     "metadata": {},
     "output_type": "execute_result"
    },
    {
     "data": {
      "image/png": "[encoded data removed]",
      "text/plain": [
       "<Figure size 432x288 with 1 Axes>"
      ]
     },
     "metadata": {
      "needs_background": "light"
     },
     "output_type": "display_data"
    }
   ],
   "source": [
    "plt.plot(values, test_score, '-o', label='Test')"
   ]
  },
  {
   "cell_type": "markdown",
   "id": "69254832",
   "metadata": {},
   "source": [
    "_Parece que a profundidade da árvore igual a 7 me dá uma maior acurácia. Vamos testar!!!_"
   ]
  },
  {
   "cell_type": "markdown",
   "id": "64c6d4e1",
   "metadata": {},
   "source": [
    "## Publicação do algoritmo em produção"
   ]
  },
  {
   "cell_type": "code",
   "execution_count": 66,
   "id": "59debb8f",
   "metadata": {
    "ExecuteTime": {
     "end_time": "2024-05-10T10:59:59.791019Z",
     "start_time": "2024-05-10T10:59:59.788229Z"
    }
   },
   "outputs": [],
   "source": [
    "# modelo treinado\n",
    "model_last = tr.DecisionTreeClassifier(max_depth=7, random_state=random_state)"
   ]
  },
  {
   "cell_type": "code",
   "execution_count": 67,
   "id": "fb6e0b9b",
   "metadata": {
    "ExecuteTime": {
     "end_time": "2024-05-10T11:00:00.297466Z",
     "start_time": "2024-05-10T11:00:00.294707Z"
    }
   },
   "outputs": [],
   "source": [
    "import numpy as np"
   ]
  },
  {
   "cell_type": "code",
   "execution_count": 68,
   "id": "1bff46c7",
   "metadata": {
    "ExecuteTime": {
     "end_time": "2024-05-10T11:00:00.878222Z",
     "start_time": "2024-05-10T11:00:00.841226Z"
    }
   },
   "outputs": [
    {
     "data": {
      "text/plain": [
       "DecisionTreeClassifier(max_depth=7, random_state=123)"
      ]
     },
     "execution_count": 68,
     "metadata": {},
     "output_type": "execute_result"
    }
   ],
   "source": [
    "model_last.fit(np.concatenate((X_train, X_test)),\n",
    "              np.concatenate((y_train, y_test)))"
   ]
  },
  {
   "cell_type": "code",
   "execution_count": 69,
   "id": "1c9b9400",
   "metadata": {
    "ExecuteTime": {
     "end_time": "2024-05-10T11:00:06.995717Z",
     "start_time": "2024-05-10T11:00:06.990855Z"
    }
   },
   "outputs": [
    {
     "name": "stdout",
     "output_type": "stream",
     "text": [
      "Acurácia sobre produção: 0.8835\n"
     ]
    }
   ],
   "source": [
    "# classificacao sobre os dados de producao\n",
    "yhat_prod = model_last.predict(X_prod)\n",
    "acc_prod = mt.accuracy_score(y_prod, yhat_prod)\n",
    "\n",
    "print('Acurácia sobre produção: {}'.format(acc_prod))"
   ]
  },
  {
   "cell_type": "markdown",
   "id": "bf6e29d1",
   "metadata": {
    "ExecuteTime": {
     "end_time": "2024-05-10T10:31:31.385996Z",
     "start_time": "2024-05-10T10:31:31.382181Z"
    }
   },
   "source": [
    "_Apesar de ter melhorado a acurácia, pode ter havido um vazamento de dados porque os dados foram usados várias vezes para cada valor de parâmetro, além disso, o modelo final junta valores de treino teste que auxiliaram na escolha do \"melhor\" parâmetro. Isso acontece muito, principalmente quando não há muitos dados._"
   ]
  },
  {
   "cell_type": "markdown",
   "id": "4440ae6e",
   "metadata": {},
   "source": [
    "# 2. Estratégia de Treino-Validação-Teste"
   ]
  },
  {
   "cell_type": "code",
   "execution_count": 70,
   "id": "6ba3210e",
   "metadata": {
    "ExecuteTime": {
     "end_time": "2024-05-10T11:00:27.995694Z",
     "start_time": "2024-05-10T11:00:27.991358Z"
    }
   },
   "outputs": [],
   "source": [
    "# Separação entre treino e validação\n",
    "X_train, X_val, y_train, y_val = ms.train_test_split(X_train, y_train, test_size=0.2, random_state=random_state)"
   ]
  },
  {
   "cell_type": "code",
   "execution_count": 71,
   "id": "c83120d4",
   "metadata": {
    "ExecuteTime": {
     "end_time": "2024-05-10T11:00:31.560837Z",
     "start_time": "2024-05-10T11:00:29.938507Z"
    }
   },
   "outputs": [],
   "source": [
    "values = [i for i in range(1, 60)]\n",
    "\n",
    "val_score = list()\n",
    "for i in values:\n",
    "    model = tr.DecisionTreeClassifier(max_depth=i)\n",
    "    model.fit(X_train, y_train)\n",
    "    \n",
    "    # classificacao sobre a validação\n",
    "    yhat_val = model.predict(X_val)\n",
    "    acc_val = mt.accuracy_score(y_val, yhat_val)\n",
    "    \n",
    "    val_score.append(acc_val)"
   ]
  },
  {
   "cell_type": "code",
   "execution_count": 72,
   "id": "678ca12c",
   "metadata": {
    "ExecuteTime": {
     "end_time": "2024-05-10T11:00:32.573081Z",
     "start_time": "2024-05-10T11:00:32.438834Z"
    }
   },
   "outputs": [
    {
     "data": {
      "text/plain": [
       "[<matplotlib.lines.Line2D at 0x14019a430>]"
      ]
     },
     "execution_count": 72,
     "metadata": {},
     "output_type": "execute_result"
    },
    {
     "data": {
      "image/png": "[encoded data removed]",
      "text/plain": [
       "<Figure size 432x288 with 1 Axes>"
      ]
     },
     "metadata": {
      "needs_background": "light"
     },
     "output_type": "display_data"
    }
   ],
   "source": [
    "plt.plot(values, val_score, '-o', label='Validation')"
   ]
  },
  {
   "cell_type": "code",
   "execution_count": 73,
   "id": "8544d753",
   "metadata": {
    "ExecuteTime": {
     "end_time": "2024-05-10T11:00:49.707663Z",
     "start_time": "2024-05-10T11:00:49.684538Z"
    }
   },
   "outputs": [
    {
     "name": "stdout",
     "output_type": "stream",
     "text": [
      "Acurácia sobre validação: 0.89609375\n"
     ]
    }
   ],
   "source": [
    " # classificacao sobre a validação\n",
    "model = tr.DecisionTreeClassifier(max_depth=6, random_state=random_state) \n",
    "model.fit(X_train, y_train)\n",
    "\n",
    "\n",
    "yhat_val = model.predict(X_val)\n",
    "acc_val = mt.accuracy_score(y_val, yhat_val)\n",
    "\n",
    "print('Acurácia sobre validação: {}'.format(acc_val))"
   ]
  },
  {
   "cell_type": "markdown",
   "id": "541aa995",
   "metadata": {},
   "source": [
    "- Vamos medir agora a capacidade de generalização do modelo para dados que ele nunca viu, ou seja, os dados de teste.\n",
    "- No modelo final eu vou juntar os dados de treino e validação, porque o algoritmo já viu."
   ]
  },
  {
   "cell_type": "code",
   "execution_count": 74,
   "id": "a9bc49e8",
   "metadata": {
    "ExecuteTime": {
     "end_time": "2024-05-10T11:01:11.120542Z",
     "start_time": "2024-05-10T11:01:11.092831Z"
    }
   },
   "outputs": [
    {
     "data": {
      "text/plain": [
       "DecisionTreeClassifier(max_depth=6, random_state=123)"
      ]
     },
     "execution_count": 74,
     "metadata": {},
     "output_type": "execute_result"
    }
   ],
   "source": [
    "model_last = tr.DecisionTreeClassifier(max_depth=6, random_state=random_state)\n",
    "model_last.fit(np.concatenate((X_train, X_val)),\n",
    "               np.concatenate((y_train, y_val)))"
   ]
  },
  {
   "cell_type": "code",
   "execution_count": 75,
   "id": "93530c4b",
   "metadata": {
    "ExecuteTime": {
     "end_time": "2024-05-10T11:02:53.088038Z",
     "start_time": "2024-05-10T11:02:53.084461Z"
    }
   },
   "outputs": [],
   "source": [
    "# classificação sobre os dados de teste\n",
    "yhat_test = model_last.predict(X_test)"
   ]
  },
  {
   "cell_type": "code",
   "execution_count": 76,
   "id": "10df1d49",
   "metadata": {
    "ExecuteTime": {
     "end_time": "2024-05-10T11:03:58.178230Z",
     "start_time": "2024-05-10T11:03:58.173984Z"
    }
   },
   "outputs": [
    {
     "name": "stdout",
     "output_type": "stream",
     "text": [
      "Acurácia sobre o teste: 0.8853125\n"
     ]
    }
   ],
   "source": [
    "acc_test = mt.accuracy_score(y_test, yhat_test)\n",
    "print('Acurácia sobre o teste: {}'.format(acc_test))"
   ]
  },
  {
   "cell_type": "markdown",
   "id": "0214292c",
   "metadata": {},
   "source": [
    "- Olhando agora para os dados de produção:"
   ]
  },
  {
   "cell_type": "code",
   "execution_count": 79,
   "id": "46f00195",
   "metadata": {
    "ExecuteTime": {
     "end_time": "2024-05-10T11:07:11.691220Z",
     "start_time": "2024-05-10T11:07:11.686040Z"
    }
   },
   "outputs": [
    {
     "name": "stdout",
     "output_type": "stream",
     "text": [
      "Acurácia sobre produção: 0.888\n"
     ]
    }
   ],
   "source": [
    "# classificação sobre os dados em produção\n",
    "yhat_prod = model_last.predict(X_prod)\n",
    "acc_prod = mt.accuracy_score(y_prod, yhat_prod)\n",
    "print('Acurácia sobre produção: {}'.format(acc_prod))"
   ]
  },
  {
   "cell_type": "markdown",
   "id": "24ac3bd0",
   "metadata": {},
   "source": [
    "- Tem que dá muito próxima do valor no teste, e está coerente!!! "
   ]
  },
  {
   "cell_type": "code",
   "execution_count": null,
   "id": "df70f1ed",
   "metadata": {},
   "outputs": [],
   "source": []
  }
 ],
 "metadata": {
  "kernelspec": {
   "display_name": "Python 3 (ipykernel)",
   "language": "python",
   "name": "python3"
  },
  "language_info": {
   "codemirror_mode": {
    "name": "ipython",
    "version": 3
   },
   "file_extension": ".py",
   "mimetype": "text/x-python",
   "name": "python",
   "nbconvert_exporter": "python",
   "pygments_lexer": "ipython3",
   "version": "3.9.13"
  }
 },
 "nbformat": 4,
 "nbformat_minor": 5
}
