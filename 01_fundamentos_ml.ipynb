{
 "cells": [
  {
   "cell_type": "markdown",
   "id": "bbba6c17",
   "metadata": {},
   "source": [
    "# Construção de dataset com o sklearn\n",
    "from: https://proclusacademy.com/blog/sklearn_make_classification/"
   ]
  },
  {
   "cell_type": "code",
   "execution_count": 1,
   "id": "fa425ac4",
   "metadata": {
    "ExecuteTime": {
     "end_time": "2024-02-28T12:41:47.168054Z",
     "start_time": "2024-02-28T12:41:32.639898Z"
    }
   },
   "outputs": [],
   "source": [
    "from sklearn.datasets import make_classification\n",
    "import pandas as pd "
   ]
  },
  {
   "cell_type": "code",
   "execution_count": 2,
   "id": "62f89ada",
   "metadata": {
    "ExecuteTime": {
     "end_time": "2024-02-28T12:42:24.360625Z",
     "start_time": "2024-02-28T12:42:24.356011Z"
    }
   },
   "outputs": [],
   "source": [
    "X, y = make_classification(\n",
    "    n_samples=1000, # 1000 observations \n",
    "    n_features=5, # 5 total features\n",
    "    n_informative=3, # 3 'useful' features\n",
    "    n_classes=2, # binary target/label \n",
    "    random_state=999 # if you want the same results as mine\n",
    ")"
   ]
  },
  {
   "cell_type": "code",
   "execution_count": 3,
   "id": "a2254ef9",
   "metadata": {
    "ExecuteTime": {
     "end_time": "2024-02-28T12:42:49.233852Z",
     "start_time": "2024-02-28T12:42:49.221586Z"
    }
   },
   "outputs": [
    {
     "name": "stdout",
     "output_type": "stream",
     "text": [
      "<class 'pandas.core.frame.DataFrame'>\n",
      "RangeIndex: 1000 entries, 0 to 999\n",
      "Data columns (total 6 columns):\n",
      " #   Column  Non-Null Count  Dtype  \n",
      "---  ------  --------------  -----  \n",
      " 0   X1      1000 non-null   float64\n",
      " 1   X2      1000 non-null   float64\n",
      " 2   X3      1000 non-null   float64\n",
      " 3   X4      1000 non-null   float64\n",
      " 4   X5      1000 non-null   float64\n",
      " 5   y       1000 non-null   int64  \n",
      "dtypes: float64(5), int64(1)\n",
      "memory usage: 47.0 KB\n"
     ]
    }
   ],
   "source": [
    "# Create DataFrame with features as columns\n",
    "dataset = pd.DataFrame(X)\n",
    "# give custom names to the features\n",
    "dataset.columns = ['X1', 'X2', 'X3', 'X4', 'X5']\n",
    "# Now add the label as a column\n",
    "dataset['y'] = y\n",
    " \n",
    "dataset.info()"
   ]
  },
  {
   "cell_type": "code",
   "execution_count": 4,
   "id": "cb420cb4",
   "metadata": {
    "ExecuteTime": {
     "end_time": "2024-02-28T12:43:32.855529Z",
     "start_time": "2024-02-28T12:43:32.844127Z"
    }
   },
   "outputs": [
    {
     "data": {
      "text/plain": [
       "1    502\n",
       "0    498\n",
       "Name: y, dtype: int64"
      ]
     },
     "execution_count": 4,
     "metadata": {},
     "output_type": "execute_result"
    }
   ],
   "source": [
    "dataset['y'].value_counts()"
   ]
  },
  {
   "cell_type": "code",
   "execution_count": 5,
   "id": "ceb8f23c",
   "metadata": {
    "ExecuteTime": {
     "end_time": "2024-02-28T12:43:50.065176Z",
     "start_time": "2024-02-28T12:43:50.053141Z"
    }
   },
   "outputs": [
    {
     "data": {
      "text/html": [
       "<div>\n",
       "<style scoped>\n",
       "    .dataframe tbody tr th:only-of-type {\n",
       "        vertical-align: middle;\n",
       "    }\n",
       "\n",
       "    .dataframe tbody tr th {\n",
       "        vertical-align: top;\n",
       "    }\n",
       "\n",
       "    .dataframe thead th {\n",
       "        text-align: right;\n",
       "    }\n",
       "</style>\n",
       "<table border=\"1\" class=\"dataframe\">\n",
       "  <thead>\n",
       "    <tr style=\"text-align: right;\">\n",
       "      <th></th>\n",
       "      <th>X1</th>\n",
       "      <th>X2</th>\n",
       "      <th>X3</th>\n",
       "      <th>X4</th>\n",
       "      <th>X5</th>\n",
       "      <th>y</th>\n",
       "    </tr>\n",
       "  </thead>\n",
       "  <tbody>\n",
       "    <tr>\n",
       "      <th>0</th>\n",
       "      <td>2.501284</td>\n",
       "      <td>-0.159155</td>\n",
       "      <td>0.672438</td>\n",
       "      <td>3.469991</td>\n",
       "      <td>0.949268</td>\n",
       "      <td>0</td>\n",
       "    </tr>\n",
       "    <tr>\n",
       "      <th>1</th>\n",
       "      <td>2.203247</td>\n",
       "      <td>-0.331271</td>\n",
       "      <td>0.794319</td>\n",
       "      <td>3.259963</td>\n",
       "      <td>0.832451</td>\n",
       "      <td>0</td>\n",
       "    </tr>\n",
       "    <tr>\n",
       "      <th>2</th>\n",
       "      <td>-1.524573</td>\n",
       "      <td>-0.870737</td>\n",
       "      <td>1.004304</td>\n",
       "      <td>-1.028624</td>\n",
       "      <td>-0.717383</td>\n",
       "      <td>1</td>\n",
       "    </tr>\n",
       "    <tr>\n",
       "      <th>3</th>\n",
       "      <td>1.801498</td>\n",
       "      <td>3.106336</td>\n",
       "      <td>1.490633</td>\n",
       "      <td>-0.297404</td>\n",
       "      <td>-0.607484</td>\n",
       "      <td>0</td>\n",
       "    </tr>\n",
       "    <tr>\n",
       "      <th>4</th>\n",
       "      <td>-0.125146</td>\n",
       "      <td>0.987915</td>\n",
       "      <td>0.880293</td>\n",
       "      <td>-0.937299</td>\n",
       "      <td>-0.626822</td>\n",
       "      <td>0</td>\n",
       "    </tr>\n",
       "  </tbody>\n",
       "</table>\n",
       "</div>"
      ],
      "text/plain": [
       "         X1        X2        X3        X4        X5  y\n",
       "0  2.501284 -0.159155  0.672438  3.469991  0.949268  0\n",
       "1  2.203247 -0.331271  0.794319  3.259963  0.832451  0\n",
       "2 -1.524573 -0.870737  1.004304 -1.028624 -0.717383  1\n",
       "3  1.801498  3.106336  1.490633 -0.297404 -0.607484  0\n",
       "4 -0.125146  0.987915  0.880293 -0.937299 -0.626822  0"
      ]
     },
     "execution_count": 5,
     "metadata": {},
     "output_type": "execute_result"
    }
   ],
   "source": [
    "dataset.head()"
   ]
  },
  {
   "cell_type": "code",
   "execution_count": 8,
   "id": "1bfb6af3",
   "metadata": {
    "ExecuteTime": {
     "end_time": "2024-02-28T13:10:15.694196Z",
     "start_time": "2024-02-28T13:10:15.678044Z"
    }
   },
   "outputs": [],
   "source": [
    "# Salvando o dataset criado em csv \n",
    "dataset.to_csv('classification_df.csv', index=False)  "
   ]
  },
  {
   "cell_type": "markdown",
   "id": "b8a31466",
   "metadata": {
    "ExecuteTime": {
     "end_time": "2024-02-28T12:44:19.836476Z",
     "start_time": "2024-02-28T12:44:19.834216Z"
    }
   },
   "source": [
    "# Um exemplo de classificador"
   ]
  },
  {
   "cell_type": "code",
   "execution_count": 7,
   "id": "a0ef18f9",
   "metadata": {
    "ExecuteTime": {
     "end_time": "2024-02-28T12:55:58.002673Z",
     "start_time": "2024-02-28T12:55:55.449584Z"
    }
   },
   "outputs": [
    {
     "data": {
      "text/plain": [
       "fit_time          0.1549\n",
       "score_time        0.0082\n",
       "test_accuracy     0.8760\n",
       "test_precision    0.8780\n",
       "test_recall       0.8764\n",
       "test_f1           0.8763\n",
       "dtype: float64"
      ]
     },
     "execution_count": 7,
     "metadata": {},
     "output_type": "execute_result"
    }
   ],
   "source": [
    "from sklearn.ensemble import RandomForestClassifier\n",
    "from sklearn.model_selection import cross_validate\n",
    " \n",
    "# initialize classifier\n",
    "classifier = RandomForestClassifier() \n",
    " \n",
    "# Run cross validation with 10 folds\n",
    "scores = cross_validate(\n",
    "    classifier, X, y, cv=10, \n",
    "    # measure score for a list of classification metrics\n",
    "    scoring=['accuracy', 'precision', 'recall', 'f1']\n",
    ")\n",
    " \n",
    "scores = pd.DataFrame(scores)\n",
    "scores.mean().round(4)"
   ]
  },
  {
   "cell_type": "markdown",
   "id": "6c9a199e",
   "metadata": {},
   "source": [
    "- As métricas calculadas estão em torno de 88% o que não está ruim uma vez que não realizamos nenhum pré-processamento nos dados. \n",
    "- Os bons resultados também se devem ao fato de termos um dataset com classes balanceadas. Classes desbalanceadas podem ser mais difíceis de classificar, gerando métricas com valores não satisfatórios. \n",
    "- Mais exemplos podem ser vistos no site do início do arquivo."
   ]
  }
 ],
 "metadata": {
  "kernelspec": {
   "display_name": "Python 3 (ipykernel)",
   "language": "python",
   "name": "python3"
  },
  "language_info": {
   "codemirror_mode": {
    "name": "ipython",
    "version": 3
   },
   "file_extension": ".py",
   "mimetype": "text/x-python",
   "name": "python",
   "nbconvert_exporter": "python",
   "pygments_lexer": "ipython3",
   "version": "3.9.13"
  }
 },
 "nbformat": 4,
 "nbformat_minor": 5
}
