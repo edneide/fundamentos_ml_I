{
 "cells": [
  {
   "cell_type": "markdown",
   "id": "9e718148",
   "metadata": {},
   "source": [
    "# Exemplo 1: Perceptron Simples (na mão)"
   ]
  },
  {
   "cell_type": "code",
   "execution_count": 7,
   "id": "d6a99f22",
   "metadata": {
    "ExecuteTime": {
     "end_time": "2024-06-05T22:16:18.818057Z",
     "start_time": "2024-06-05T22:16:18.815580Z"
    }
   },
   "outputs": [],
   "source": [
    "# Inputs, pesos e threshold  \n",
    "x_input = [0.1, 0.5, 0.2]\n",
    "w_pesos = [0.4, 0.3, 0.6]\n",
    "threshold = 0.5"
   ]
  },
  {
   "cell_type": "code",
   "execution_count": 8,
   "id": "24cf3007",
   "metadata": {
    "ExecuteTime": {
     "end_time": "2024-06-05T22:16:19.182610Z",
     "start_time": "2024-06-05T22:16:19.180014Z"
    }
   },
   "outputs": [],
   "source": [
    "# Definindo a função de ativação (step function)\n",
    "def step(soma_ponderada):\n",
    "    if soma_ponderada > threshold:\n",
    "        return 1\n",
    "    else:\n",
    "        return 0"
   ]
  },
  {
   "cell_type": "code",
   "execution_count": 10,
   "id": "589332fc",
   "metadata": {
    "ExecuteTime": {
     "end_time": "2024-06-05T22:17:26.906600Z",
     "start_time": "2024-06-05T22:17:26.902485Z"
    }
   },
   "outputs": [
    {
     "name": "stdout",
     "output_type": "stream",
     "text": [
      "0.04000000000000001\n",
      "0.19\n",
      "0.31\n",
      "output: 0\n"
     ]
    }
   ],
   "source": [
    "# Definindo o perceptron\n",
    "def perceptron():\n",
    "    soma_ponderada = 0\n",
    "    for x, w in zip(x_input, w_pesos):\n",
    "        soma_ponderada += x*w\n",
    "        print(soma_ponderada)\n",
    "    return step(soma_ponderada)\n",
    "\n",
    "output = perceptron()\n",
    "print(\"output: \" + str(output))"
   ]
  },
  {
   "cell_type": "markdown",
   "id": "e3a7695b",
   "metadata": {},
   "source": [
    "# Exemplo 02: Usando o sklearn"
   ]
  },
  {
   "cell_type": "code",
   "execution_count": 25,
   "id": "a476aaa2",
   "metadata": {
    "ExecuteTime": {
     "end_time": "2024-06-06T10:25:45.644020Z",
     "start_time": "2024-06-06T10:25:44.899076Z"
    }
   },
   "outputs": [],
   "source": [
    "import numpy as np\n",
    "import pandas as pd\n",
    "from sklearn.datasets import load_iris\n",
    "import matplotlib.pyplot as plt"
   ]
  },
  {
   "cell_type": "code",
   "execution_count": 22,
   "id": "205754c2",
   "metadata": {
    "ExecuteTime": {
     "end_time": "2024-06-06T10:23:21.754978Z",
     "start_time": "2024-06-06T10:23:21.740035Z"
    }
   },
   "outputs": [
    {
     "data": {
      "text/html": [
       "<div>\n",
       "<style scoped>\n",
       "    .dataframe tbody tr th:only-of-type {\n",
       "        vertical-align: middle;\n",
       "    }\n",
       "\n",
       "    .dataframe tbody tr th {\n",
       "        vertical-align: top;\n",
       "    }\n",
       "\n",
       "    .dataframe thead th {\n",
       "        text-align: right;\n",
       "    }\n",
       "</style>\n",
       "<table border=\"1\" class=\"dataframe\">\n",
       "  <thead>\n",
       "    <tr style=\"text-align: right;\">\n",
       "      <th></th>\n",
       "      <th>sepal length (cm)</th>\n",
       "      <th>sepal width (cm)</th>\n",
       "      <th>petal length (cm)</th>\n",
       "      <th>petal width (cm)</th>\n",
       "      <th>target</th>\n",
       "    </tr>\n",
       "  </thead>\n",
       "  <tbody>\n",
       "    <tr>\n",
       "      <th>0</th>\n",
       "      <td>5.1</td>\n",
       "      <td>3.5</td>\n",
       "      <td>1.4</td>\n",
       "      <td>0.2</td>\n",
       "      <td>0</td>\n",
       "    </tr>\n",
       "    <tr>\n",
       "      <th>1</th>\n",
       "      <td>4.9</td>\n",
       "      <td>3.0</td>\n",
       "      <td>1.4</td>\n",
       "      <td>0.2</td>\n",
       "      <td>0</td>\n",
       "    </tr>\n",
       "    <tr>\n",
       "      <th>2</th>\n",
       "      <td>4.7</td>\n",
       "      <td>3.2</td>\n",
       "      <td>1.3</td>\n",
       "      <td>0.2</td>\n",
       "      <td>0</td>\n",
       "    </tr>\n",
       "    <tr>\n",
       "      <th>3</th>\n",
       "      <td>4.6</td>\n",
       "      <td>3.1</td>\n",
       "      <td>1.5</td>\n",
       "      <td>0.2</td>\n",
       "      <td>0</td>\n",
       "    </tr>\n",
       "    <tr>\n",
       "      <th>4</th>\n",
       "      <td>5.0</td>\n",
       "      <td>3.6</td>\n",
       "      <td>1.4</td>\n",
       "      <td>0.2</td>\n",
       "      <td>0</td>\n",
       "    </tr>\n",
       "  </tbody>\n",
       "</table>\n",
       "</div>"
      ],
      "text/plain": [
       "   sepal length (cm)  sepal width (cm)  petal length (cm)  petal width (cm)  \\\n",
       "0                5.1               3.5                1.4               0.2   \n",
       "1                4.9               3.0                1.4               0.2   \n",
       "2                4.7               3.2                1.3               0.2   \n",
       "3                4.6               3.1                1.5               0.2   \n",
       "4                5.0               3.6                1.4               0.2   \n",
       "\n",
       "   target  \n",
       "0       0  \n",
       "1       0  \n",
       "2       0  \n",
       "3       0  \n",
       "4       0  "
      ]
     },
     "execution_count": 22,
     "metadata": {},
     "output_type": "execute_result"
    }
   ],
   "source": [
    "# Dados\n",
    "iris = load_iris()\n",
    "\n",
    "# Criar um dataframe\n",
    "df = pd.DataFrame(iris.data, columns=iris.feature_names)\n",
    "df['target'] = iris.target\n",
    "df.head()"
   ]
  },
  {
   "cell_type": "code",
   "execution_count": 34,
   "id": "10fd1b61",
   "metadata": {
    "ExecuteTime": {
     "end_time": "2024-06-06T10:26:57.364450Z",
     "start_time": "2024-06-06T10:26:57.361286Z"
    }
   },
   "outputs": [],
   "source": [
    "# Separando as características (X) e a variável target (y)\n",
    "X = df.drop('target', axis=1) \n",
    "y = df['target']"
   ]
  },
  {
   "cell_type": "code",
   "execution_count": 36,
   "id": "296db459",
   "metadata": {
    "ExecuteTime": {
     "end_time": "2024-06-06T10:28:07.723067Z",
     "start_time": "2024-06-06T10:28:07.716344Z"
    }
   },
   "outputs": [
    {
     "data": {
      "text/plain": [
       "0      5.1\n",
       "1      4.9\n",
       "2      4.7\n",
       "3      4.6\n",
       "4      5.0\n",
       "      ... \n",
       "145    6.7\n",
       "146    6.3\n",
       "147    6.5\n",
       "148    6.2\n",
       "149    5.9\n",
       "Name: sepal length (cm), Length: 150, dtype: float64"
      ]
     },
     "execution_count": 36,
     "metadata": {},
     "output_type": "execute_result"
    }
   ],
   "source": [
    "X.iloc[:, 0]"
   ]
  },
  {
   "cell_type": "code",
   "execution_count": 43,
   "id": "8bfd2c7a",
   "metadata": {
    "ExecuteTime": {
     "end_time": "2024-06-06T14:41:33.839585Z",
     "start_time": "2024-06-06T14:41:33.833185Z"
    }
   },
   "outputs": [
    {
     "data": {
      "text/plain": [
       "0      0\n",
       "1      0\n",
       "2      0\n",
       "3      0\n",
       "4      0\n",
       "      ..\n",
       "145    2\n",
       "146    2\n",
       "147    2\n",
       "148    2\n",
       "149    2\n",
       "Name: target, Length: 150, dtype: int64"
      ]
     },
     "execution_count": 43,
     "metadata": {},
     "output_type": "execute_result"
    }
   ],
   "source": [
    "y"
   ]
  },
  {
   "cell_type": "code",
   "execution_count": 42,
   "id": "10bd2fb9",
   "metadata": {
    "ExecuteTime": {
     "end_time": "2024-06-06T14:40:05.136858Z",
     "start_time": "2024-06-06T14:40:04.984198Z"
    }
   },
   "outputs": [
    {
     "data": {
      "text/plain": [
       "<matplotlib.collections.PathCollection at 0x137f34820>"
      ]
     },
     "execution_count": 42,
     "metadata": {},
     "output_type": "execute_result"
    },
    {
     "data": {
      "image/png": "[encoded data removed]",
      "text/plain": [
       "<Figure size 432x288 with 1 Axes>"
      ]
     },
     "metadata": {
      "needs_background": "light"
     },
     "output_type": "display_data"
    }
   ],
   "source": [
    "# Visualizando os dados\n",
    "plt.scatter(X.iloc[:, 0], X.iloc[:, 1], c=y, marker=\"*\")"
   ]
  },
  {
   "cell_type": "markdown",
   "id": "d73272a6",
   "metadata": {
    "ExecuteTime": {
     "end_time": "2024-06-06T10:20:42.644537Z",
     "start_time": "2024-06-06T10:20:42.641123Z"
    }
   },
   "source": [
    "- Como temos três classes, vamos focar somente em uma para facilitar. \n",
    "- Vamos ficar apenas com as classes 0 e 1."
   ]
  },
  {
   "cell_type": "code",
   "execution_count": 44,
   "id": "16c69f28",
   "metadata": {
    "ExecuteTime": {
     "end_time": "2024-06-06T14:44:05.988256Z",
     "start_time": "2024-06-06T14:44:05.983807Z"
    }
   },
   "outputs": [],
   "source": [
    "y_att = y.apply(lambda x: 0 if x == 0 else 1)"
   ]
  },
  {
   "cell_type": "code",
   "execution_count": 45,
   "id": "e62ab66d",
   "metadata": {
    "ExecuteTime": {
     "end_time": "2024-06-06T14:44:09.217722Z",
     "start_time": "2024-06-06T14:44:09.212288Z"
    }
   },
   "outputs": [
    {
     "data": {
      "text/plain": [
       "0      0\n",
       "1      0\n",
       "2      0\n",
       "3      0\n",
       "4      0\n",
       "      ..\n",
       "145    1\n",
       "146    1\n",
       "147    1\n",
       "148    1\n",
       "149    1\n",
       "Name: target, Length: 150, dtype: int64"
      ]
     },
     "execution_count": 45,
     "metadata": {},
     "output_type": "execute_result"
    }
   ],
   "source": [
    "y_att"
   ]
  },
  {
   "cell_type": "code",
   "execution_count": 46,
   "id": "32946fb5",
   "metadata": {
    "ExecuteTime": {
     "end_time": "2024-06-06T14:44:25.249277Z",
     "start_time": "2024-06-06T14:44:25.243778Z"
    }
   },
   "outputs": [
    {
     "data": {
      "text/plain": [
       "array([0, 1])"
      ]
     },
     "execution_count": 46,
     "metadata": {},
     "output_type": "execute_result"
    }
   ],
   "source": [
    "y_att.unique()"
   ]
  },
  {
   "cell_type": "code",
   "execution_count": 49,
   "id": "3304455f",
   "metadata": {
    "ExecuteTime": {
     "end_time": "2024-06-06T14:45:26.009281Z",
     "start_time": "2024-06-06T14:45:26.003754Z"
    }
   },
   "outputs": [
    {
     "data": {
      "text/plain": [
       "1    100\n",
       "0     50\n",
       "Name: target, dtype: int64"
      ]
     },
     "execution_count": 49,
     "metadata": {},
     "output_type": "execute_result"
    }
   ],
   "source": [
    "y_att.value_counts()"
   ]
  },
  {
   "cell_type": "code",
   "execution_count": 50,
   "id": "c2646281",
   "metadata": {
    "ExecuteTime": {
     "end_time": "2024-06-06T14:45:45.192748Z",
     "start_time": "2024-06-06T14:45:45.014155Z"
    }
   },
   "outputs": [
    {
     "data": {
      "text/plain": [
       "<matplotlib.collections.PathCollection at 0x13920f610>"
      ]
     },
     "execution_count": 50,
     "metadata": {},
     "output_type": "execute_result"
    },
    {
     "data": {
      "image/png": "[encoded data removed]",
      "text/plain": [
       "<Figure size 432x288 with 1 Axes>"
      ]
     },
     "metadata": {
      "needs_background": "light"
     },
     "output_type": "display_data"
    }
   ],
   "source": [
    "# Visualizando os dados atualizados\n",
    "plt.scatter(X.iloc[:, 0], X.iloc[:, 1], c=y_att, marker=\"*\")"
   ]
  },
  {
   "cell_type": "markdown",
   "id": "3d4f6584",
   "metadata": {},
   "source": [
    "- Vemos que as classes são linearmente separáveis. "
   ]
  },
  {
   "cell_type": "code",
   "execution_count": 54,
   "id": "d5b9cad9",
   "metadata": {
    "ExecuteTime": {
     "end_time": "2024-06-06T14:53:49.165922Z",
     "start_time": "2024-06-06T14:53:49.162666Z"
    }
   },
   "outputs": [],
   "source": [
    "from sklearn.model_selection import train_test_split "
   ]
  },
  {
   "cell_type": "code",
   "execution_count": 55,
   "id": "e9973947",
   "metadata": {
    "ExecuteTime": {
     "end_time": "2024-06-06T14:54:22.141425Z",
     "start_time": "2024-06-06T14:54:22.136378Z"
    }
   },
   "outputs": [],
   "source": [
    "# Dividindo os dados em treino e teste\n",
    "X_train, X_test, y_train, y_test = train_test_split(X, y_att, test_size=0.2, random_state=123)"
   ]
  },
  {
   "cell_type": "code",
   "execution_count": 59,
   "id": "dd73c0c1",
   "metadata": {
    "ExecuteTime": {
     "end_time": "2024-06-06T14:55:24.373338Z",
     "start_time": "2024-06-06T14:55:24.369556Z"
    }
   },
   "outputs": [
    {
     "name": "stdout",
     "output_type": "stream",
     "text": [
      "Tamanho do conjunto de treino: (120, 4)\n",
      "Tamanho do conjunto de teste: (30, 4)\n"
     ]
    }
   ],
   "source": [
    "# Checando o tamanho dos conjuntos\n",
    "print(\"Tamanho do conjunto de treino: {}\".format(X_train.shape))\n",
    "print(\"Tamanho do conjunto de teste: {}\".format(X_test.shape))"
   ]
  },
  {
   "cell_type": "markdown",
   "id": "e6133e85",
   "metadata": {},
   "source": [
    "### Criando o perceptron"
   ]
  },
  {
   "cell_type": "code",
   "execution_count": 51,
   "id": "61376f9c",
   "metadata": {
    "ExecuteTime": {
     "end_time": "2024-06-06T14:47:08.412302Z",
     "start_time": "2024-06-06T14:47:08.407881Z"
    }
   },
   "outputs": [],
   "source": [
    "from sklearn.linear_model import Perceptron "
   ]
  },
  {
   "cell_type": "code",
   "execution_count": 60,
   "id": "74988b7e",
   "metadata": {
    "ExecuteTime": {
     "end_time": "2024-06-06T14:56:39.620687Z",
     "start_time": "2024-06-06T14:56:39.617359Z"
    }
   },
   "outputs": [],
   "source": [
    "per_clf = Perceptron(max_iter=1000, eta0=0.1)"
   ]
  },
  {
   "cell_type": "code",
   "execution_count": 61,
   "id": "ebad45ab",
   "metadata": {
    "ExecuteTime": {
     "end_time": "2024-06-06T14:57:06.446888Z",
     "start_time": "2024-06-06T14:57:06.435243Z"
    }
   },
   "outputs": [
    {
     "data": {
      "text/plain": [
       "Perceptron(eta0=0.1)"
      ]
     },
     "execution_count": 61,
     "metadata": {},
     "output_type": "execute_result"
    }
   ],
   "source": [
    "# Treinando o modelo\n",
    "per_clf.fit(X_train, y_train)"
   ]
  },
  {
   "cell_type": "code",
   "execution_count": 62,
   "id": "613e997c",
   "metadata": {
    "ExecuteTime": {
     "end_time": "2024-06-06T14:58:14.747250Z",
     "start_time": "2024-06-06T14:58:14.743302Z"
    }
   },
   "outputs": [],
   "source": [
    "# Fazendo predições\n",
    "y_pred = per_clf.predict(X_test)"
   ]
  },
  {
   "cell_type": "code",
   "execution_count": 67,
   "id": "ece619f2",
   "metadata": {
    "ExecuteTime": {
     "end_time": "2024-06-06T14:59:53.451751Z",
     "start_time": "2024-06-06T14:59:53.448579Z"
    }
   },
   "outputs": [],
   "source": [
    "from sklearn.metrics import (\n",
    "    accuracy_score,\n",
    "    recall_score,\n",
    "    precision_score,\n",
    "    ConfusionMatrixDisplay,\n",
    "    classification_report,\n",
    "    confusion_matrix\n",
    ")"
   ]
  },
  {
   "cell_type": "code",
   "execution_count": 70,
   "id": "18c18933",
   "metadata": {
    "ExecuteTime": {
     "end_time": "2024-06-06T15:02:13.889869Z",
     "start_time": "2024-06-06T15:02:13.741750Z"
    }
   },
   "outputs": [
    {
     "data": {
      "image/png": "[encoded data removed]",
      "text/plain": [
       "<Figure size 432x288 with 2 Axes>"
      ]
     },
     "metadata": {
      "needs_background": "light"
     },
     "output_type": "display_data"
    }
   ],
   "source": [
    "# Avaliando o modelo\n",
    "  \n",
    "# Calculate confusion matrix \n",
    "conf_matrix = confusion_matrix(y_test, y_pred) \n",
    "cm_display = ConfusionMatrixDisplay(confusion_matrix = conf_matrix, display_labels = [False, True]) \n",
    "  \n",
    "cm_display.plot() \n",
    "plt.show()"
   ]
  },
  {
   "cell_type": "code",
   "execution_count": 71,
   "id": "0a267f37",
   "metadata": {
    "ExecuteTime": {
     "end_time": "2024-06-06T15:02:51.746679Z",
     "start_time": "2024-06-06T15:02:51.742992Z"
    }
   },
   "outputs": [
    {
     "name": "stdout",
     "output_type": "stream",
     "text": [
      "Acurácia no conjunto de teste: 1.0\n"
     ]
    }
   ],
   "source": [
    "# Acurácia\n",
    "acc_test = accuracy_score(y_pred, y_test)\n",
    "print('Acurácia no conjunto de teste: {}'.format(acc_test))"
   ]
  },
  {
   "cell_type": "markdown",
   "id": "bec2820f",
   "metadata": {},
   "source": [
    "## Exercício\n",
    "- Treinar um perceptron para a nossa base de dados de câncer de mama que temos em .csv.\n",
    "- Usar diferentes valores dos hiperparâmetros."
   ]
  },
  {
   "cell_type": "markdown",
   "id": "0c50e228",
   "metadata": {},
   "source": [
    "# Exemplo 03: Usando o tensorflow 2 e keras\n",
    "\n",
    "-> keras e tensorflow são utilizados para treinamento de modelos de deep learning, como as redes neurais. "
   ]
  },
  {
   "cell_type": "markdown",
   "id": "a2268755",
   "metadata": {},
   "source": [
    "- Lembrar de instalar keras e tensorflow:\n",
    "\n",
    "```{python}\n",
    "# Requires the latest pip\n",
    "pip install --upgrade pip\n",
    "\n",
    "# Current stable release for CPU and GPU\n",
    "pip install tensorflow\n",
    "\n",
    "pip install --upgrade keras\n",
    "```"
   ]
  },
  {
   "cell_type": "code",
   "execution_count": 74,
   "id": "9019cd26",
   "metadata": {
    "ExecuteTime": {
     "end_time": "2024-06-06T22:24:57.844900Z",
     "start_time": "2024-06-06T22:24:29.667522Z"
    }
   },
   "outputs": [],
   "source": [
    "import tensorflow as tf\n",
    "from tensorflow import keras"
   ]
  },
  {
   "cell_type": "code",
   "execution_count": 75,
   "id": "f5c06bc2",
   "metadata": {
    "ExecuteTime": {
     "end_time": "2024-06-06T22:43:48.821594Z",
     "start_time": "2024-06-06T22:43:48.817184Z"
    }
   },
   "outputs": [
    {
     "data": {
      "text/plain": [
       "'2.8.0'"
      ]
     },
     "execution_count": 75,
     "metadata": {},
     "output_type": "execute_result"
    }
   ],
   "source": [
    "tf.__version__"
   ]
  },
  {
   "cell_type": "code",
   "execution_count": 76,
   "id": "5d343b9e",
   "metadata": {
    "ExecuteTime": {
     "end_time": "2024-06-06T22:44:04.048550Z",
     "start_time": "2024-06-06T22:44:04.044162Z"
    }
   },
   "outputs": [
    {
     "data": {
      "text/plain": [
       "'2.8.0'"
      ]
     },
     "execution_count": 76,
     "metadata": {},
     "output_type": "execute_result"
    }
   ],
   "source": [
    "keras.__version__"
   ]
  },
  {
   "cell_type": "markdown",
   "id": "5cbfbc6a",
   "metadata": {},
   "source": [
    "## Dados"
   ]
  },
  {
   "cell_type": "code",
   "execution_count": 77,
   "id": "c29bf96e",
   "metadata": {
    "ExecuteTime": {
     "end_time": "2024-06-07T10:44:11.109399Z",
     "start_time": "2024-06-07T10:44:11.097976Z"
    }
   },
   "outputs": [],
   "source": [
    "fashion_mnist = keras.datasets.fashion_mnist"
   ]
  },
  {
   "cell_type": "code",
   "execution_count": 78,
   "id": "849386b6",
   "metadata": {
    "ExecuteTime": {
     "end_time": "2024-06-07T10:44:45.847057Z",
     "start_time": "2024-06-07T10:44:45.603940Z"
    }
   },
   "outputs": [],
   "source": [
    "(X_train_full, y_train_full), (X_test, y_test) = fashion_mnist.load_data()"
   ]
  },
  {
   "cell_type": "code",
   "execution_count": 81,
   "id": "b63b57cc",
   "metadata": {
    "ExecuteTime": {
     "end_time": "2024-06-07T10:45:11.324136Z",
     "start_time": "2024-06-07T10:45:11.320405Z"
    }
   },
   "outputs": [
    {
     "data": {
      "text/plain": [
       "(60000, 28, 28)"
      ]
     },
     "execution_count": 81,
     "metadata": {},
     "output_type": "execute_result"
    }
   ],
   "source": [
    "X_train_full.shape # 60.000 imagens, onde cada imagem é uma matriz de 28x28 pixels.\n",
    "# Ver imagens no Google: fashion_mnist"
   ]
  },
  {
   "cell_type": "code",
   "execution_count": 83,
   "id": "f34fa985",
   "metadata": {
    "ExecuteTime": {
     "end_time": "2024-06-07T10:50:30.809493Z",
     "start_time": "2024-06-07T10:50:30.803818Z"
    }
   },
   "outputs": [
    {
     "data": {
      "text/plain": [
       "array([[  0,   0,   0,   0,   0,   0,   0,   0,   0,   0,   0,   0,   0,\n",
       "          0,   0,   0,   0,   0,   0,   0,   0,   0,   0,   0,   0,   0,\n",
       "          0,   0],\n",
       "       [  0,   0,   0,   0,   0,   0,   0,   0,   0,   0,   0,   0,   0,\n",
       "          0,   0,   0,   0,   0,   0,   0,   0,   0,   0,   0,   0,   0,\n",
       "          0,   0],\n",
       "       [  0,   0,   0,   0,   0,   0,   0,   0,   0,   0,   0,   0,   0,\n",
       "          0,   0,   0,   0,   0,   0,   0,   0,   0,   0,   0,   0,   0,\n",
       "          0,   0],\n",
       "       [  0,   0,   0,   0,   0,   0,   0,   0,   0,   0,   0,   0,   1,\n",
       "          0,   0,  13,  73,   0,   0,   1,   4,   0,   0,   0,   0,   1,\n",
       "          1,   0],\n",
       "       [  0,   0,   0,   0,   0,   0,   0,   0,   0,   0,   0,   0,   3,\n",
       "          0,  36, 136, 127,  62,  54,   0,   0,   0,   1,   3,   4,   0,\n",
       "          0,   3],\n",
       "       [  0,   0,   0,   0,   0,   0,   0,   0,   0,   0,   0,   0,   6,\n",
       "          0, 102, 204, 176, 134, 144, 123,  23,   0,   0,   0,   0,  12,\n",
       "         10,   0],\n",
       "       [  0,   0,   0,   0,   0,   0,   0,   0,   0,   0,   0,   0,   0,\n",
       "          0, 155, 236, 207, 178, 107, 156, 161, 109,  64,  23,  77, 130,\n",
       "         72,  15],\n",
       "       [  0,   0,   0,   0,   0,   0,   0,   0,   0,   0,   0,   1,   0,\n",
       "         69, 207, 223, 218, 216, 216, 163, 127, 121, 122, 146, 141,  88,\n",
       "        172,  66],\n",
       "       [  0,   0,   0,   0,   0,   0,   0,   0,   0,   1,   1,   1,   0,\n",
       "        200, 232, 232, 233, 229, 223, 223, 215, 213, 164, 127, 123, 196,\n",
       "        229,   0],\n",
       "       [  0,   0,   0,   0,   0,   0,   0,   0,   0,   0,   0,   0,   0,\n",
       "        183, 225, 216, 223, 228, 235, 227, 224, 222, 224, 221, 223, 245,\n",
       "        173,   0],\n",
       "       [  0,   0,   0,   0,   0,   0,   0,   0,   0,   0,   0,   0,   0,\n",
       "        193, 228, 218, 213, 198, 180, 212, 210, 211, 213, 223, 220, 243,\n",
       "        202,   0],\n",
       "       [  0,   0,   0,   0,   0,   0,   0,   0,   0,   1,   3,   0,  12,\n",
       "        219, 220, 212, 218, 192, 169, 227, 208, 218, 224, 212, 226, 197,\n",
       "        209,  52],\n",
       "       [  0,   0,   0,   0,   0,   0,   0,   0,   0,   0,   6,   0,  99,\n",
       "        244, 222, 220, 218, 203, 198, 221, 215, 213, 222, 220, 245, 119,\n",
       "        167,  56],\n",
       "       [  0,   0,   0,   0,   0,   0,   0,   0,   0,   4,   0,   0,  55,\n",
       "        236, 228, 230, 228, 240, 232, 213, 218, 223, 234, 217, 217, 209,\n",
       "         92,   0],\n",
       "       [  0,   0,   1,   4,   6,   7,   2,   0,   0,   0,   0,   0, 237,\n",
       "        226, 217, 223, 222, 219, 222, 221, 216, 223, 229, 215, 218, 255,\n",
       "         77,   0],\n",
       "       [  0,   3,   0,   0,   0,   0,   0,   0,   0,  62, 145, 204, 228,\n",
       "        207, 213, 221, 218, 208, 211, 218, 224, 223, 219, 215, 224, 244,\n",
       "        159,   0],\n",
       "       [  0,   0,   0,   0,  18,  44,  82, 107, 189, 228, 220, 222, 217,\n",
       "        226, 200, 205, 211, 230, 224, 234, 176, 188, 250, 248, 233, 238,\n",
       "        215,   0],\n",
       "       [  0,  57, 187, 208, 224, 221, 224, 208, 204, 214, 208, 209, 200,\n",
       "        159, 245, 193, 206, 223, 255, 255, 221, 234, 221, 211, 220, 232,\n",
       "        246,   0],\n",
       "       [  3, 202, 228, 224, 221, 211, 211, 214, 205, 205, 205, 220, 240,\n",
       "         80, 150, 255, 229, 221, 188, 154, 191, 210, 204, 209, 222, 228,\n",
       "        225,   0],\n",
       "       [ 98, 233, 198, 210, 222, 229, 229, 234, 249, 220, 194, 215, 217,\n",
       "        241,  65,  73, 106, 117, 168, 219, 221, 215, 217, 223, 223, 224,\n",
       "        229,  29],\n",
       "       [ 75, 204, 212, 204, 193, 205, 211, 225, 216, 185, 197, 206, 198,\n",
       "        213, 240, 195, 227, 245, 239, 223, 218, 212, 209, 222, 220, 221,\n",
       "        230,  67],\n",
       "       [ 48, 203, 183, 194, 213, 197, 185, 190, 194, 192, 202, 214, 219,\n",
       "        221, 220, 236, 225, 216, 199, 206, 186, 181, 177, 172, 181, 205,\n",
       "        206, 115],\n",
       "       [  0, 122, 219, 193, 179, 171, 183, 196, 204, 210, 213, 207, 211,\n",
       "        210, 200, 196, 194, 191, 195, 191, 198, 192, 176, 156, 167, 177,\n",
       "        210,  92],\n",
       "       [  0,   0,  74, 189, 212, 191, 175, 172, 175, 181, 185, 188, 189,\n",
       "        188, 193, 198, 204, 209, 210, 210, 211, 188, 188, 194, 192, 216,\n",
       "        170,   0],\n",
       "       [  2,   0,   0,   0,  66, 200, 222, 237, 239, 242, 246, 243, 244,\n",
       "        221, 220, 193, 191, 179, 182, 182, 181, 176, 166, 168,  99,  58,\n",
       "          0,   0],\n",
       "       [  0,   0,   0,   0,   0,   0,   0,  40,  61,  44,  72,  41,  35,\n",
       "          0,   0,   0,   0,   0,   0,   0,   0,   0,   0,   0,   0,   0,\n",
       "          0,   0],\n",
       "       [  0,   0,   0,   0,   0,   0,   0,   0,   0,   0,   0,   0,   0,\n",
       "          0,   0,   0,   0,   0,   0,   0,   0,   0,   0,   0,   0,   0,\n",
       "          0,   0],\n",
       "       [  0,   0,   0,   0,   0,   0,   0,   0,   0,   0,   0,   0,   0,\n",
       "          0,   0,   0,   0,   0,   0,   0,   0,   0,   0,   0,   0,   0,\n",
       "          0,   0]], dtype=uint8)"
      ]
     },
     "execution_count": 83,
     "metadata": {},
     "output_type": "execute_result"
    }
   ],
   "source": [
    "X_train_full[0]"
   ]
  },
  {
   "cell_type": "markdown",
   "id": "cf05fe0b",
   "metadata": {},
   "source": [
    "- Os dados já estão divididos em treino e teste, mas não em validação. \n",
    "- Vamos reescalar a intensidade do pixel no range 0-1, por isso dividimos por 255.0 para que seja um float. "
   ]
  },
  {
   "cell_type": "code",
   "execution_count": 84,
   "id": "3571183f",
   "metadata": {
    "ExecuteTime": {
     "end_time": "2024-06-07T10:55:35.255916Z",
     "start_time": "2024-06-07T10:55:34.996303Z"
    }
   },
   "outputs": [],
   "source": [
    "X_valid, X_train = X_train_full[:5000]/255.0, X_train_full[5000:]/255.0\n",
    "y_valid, y_train = y_train_full[:5000], y_train_full[5000:]"
   ]
  },
  {
   "cell_type": "code",
   "execution_count": 85,
   "id": "c539f31b",
   "metadata": {
    "ExecuteTime": {
     "end_time": "2024-06-07T10:55:40.962624Z",
     "start_time": "2024-06-07T10:55:40.959216Z"
    }
   },
   "outputs": [],
   "source": [
    "# Lista com o nome das classes\n",
    "class_names = [\"T-shirt/top\", \"Trouser\", \"Pullover\", \"Dress\", \"Coat\", \"Sandal\", \"Shirt\", \"Sneaker\",\n",
    "              \"Bag\", \"Ankle boot\"]"
   ]
  },
  {
   "cell_type": "code",
   "execution_count": 88,
   "id": "4acff3ef",
   "metadata": {
    "ExecuteTime": {
     "end_time": "2024-06-07T10:56:02.471902Z",
     "start_time": "2024-06-07T10:56:02.468297Z"
    }
   },
   "outputs": [
    {
     "data": {
      "text/plain": [
       "'Coat'"
      ]
     },
     "execution_count": 88,
     "metadata": {},
     "output_type": "execute_result"
    }
   ],
   "source": [
    "# Olhando o primeiro nome no conjunto de treino\n",
    "class_names[y_train[0]]"
   ]
  },
  {
   "cell_type": "markdown",
   "id": "ed5d4b48",
   "metadata": {},
   "source": [
    "## Modelo"
   ]
  },
  {
   "cell_type": "code",
   "execution_count": 89,
   "id": "dca9b8ad",
   "metadata": {
    "ExecuteTime": {
     "end_time": "2024-06-07T10:56:36.577203Z",
     "start_time": "2024-06-07T10:56:36.395061Z"
    }
   },
   "outputs": [
    {
     "name": "stderr",
     "output_type": "stream",
     "text": [
      "2024-06-07 07:56:36.470595: I tensorflow/core/platform/cpu_feature_guard.cc:151] This TensorFlow binary is optimized with oneAPI Deep Neural Network Library (oneDNN) to use the following CPU instructions in performance-critical operations:  AVX2 FMA\n",
      "To enable them in other operations, rebuild TensorFlow with the appropriate compiler flags.\n"
     ]
    }
   ],
   "source": [
    "model = keras.models.Sequential() # modelo sequencial\n",
    "model.add(keras.layers.Flatten(input_shape=[28, 28])) # primeira camada - preprocessing\n",
    "model.add(keras.layers.Dense(300, activation=\"relu\")) # camada escondida com 300 neuronios\n",
    "model.add(keras.layers.Dense(100, activation=\"relu\")) # camada escondida com 100 neuronios\n",
    "model.add(keras.layers.Dense(10, activation=\"softmax\")) "
   ]
  },
  {
   "cell_type": "code",
   "execution_count": 90,
   "id": "402f8d15",
   "metadata": {
    "ExecuteTime": {
     "end_time": "2024-06-07T10:56:57.479272Z",
     "start_time": "2024-06-07T10:56:57.469111Z"
    }
   },
   "outputs": [
    {
     "name": "stdout",
     "output_type": "stream",
     "text": [
      "Model: \"sequential\"\n",
      "_________________________________________________________________\n",
      " Layer (type)                Output Shape              Param #   \n",
      "=================================================================\n",
      " flatten (Flatten)           (None, 784)               0         \n",
      "                                                                 \n",
      " dense (Dense)               (None, 300)               235500    \n",
      "                                                                 \n",
      " dense_1 (Dense)             (None, 100)               30100     \n",
      "                                                                 \n",
      " dense_2 (Dense)             (None, 10)                1010      \n",
      "                                                                 \n",
      "=================================================================\n",
      "Total params: 266,610\n",
      "Trainable params: 266,610\n",
      "Non-trainable params: 0\n",
      "_________________________________________________________________\n"
     ]
    }
   ],
   "source": [
    "model.summary()"
   ]
  },
  {
   "cell_type": "markdown",
   "id": "8c309da5",
   "metadata": {},
   "source": [
    "### Explicação dos Componentes do Output\n",
    "\n",
    "- Model: Nome do modelo. Neste caso, o nome é \"sequential\" porque o modelo foi criado usando a API Sequential.\n",
    "Layer (type)\n",
    "\n",
    "- Layer: Nome da camada no modelo.\n",
    "(type): Tipo da camada. No exemplo, todas as camadas são do tipo Dense.\n",
    "Output Shape\n",
    "\n",
    "- Output Shape: Forma da saída da camada. Isso indica a dimensionalidade do tensor de saída produzido por essa camada. Por exemplo, (None, 128) significa que a saída é um tensor bidimensional onde a primeira dimensão (None) representa o tamanho do batch e a segunda dimensão (128) representa o número de unidades na camada Dense.\n",
    "\n",
    "- Param #: Número de parâmetros treináveis na camada. Este valor é calculado com base na fórmula específica para o tipo de camada. Para uma camada Dense, o número de parâmetros é igual ao produto do número de unidades na camada de entrada e na camada de saída, mais o número de biases.\n",
    "\n",
    "### Componentes Detalhados\n",
    "\n",
    "#### Nome da Camada\n",
    "\n",
    "É o nome dado à camada quando ela foi adicionada ao modelo. Se um nome específico não for fornecido, Keras gera um nome automaticamente.\n",
    "Tipo da Camada\n",
    "\n",
    "Indica o tipo da camada (por exemplo, Dense, Conv2D, LSTM). Este é o tipo específico de operação que a camada realiza.\n",
    "\n",
    "#### Output Shape\n",
    "\n",
    "Esta coluna mostra a forma do tensor de saída de cada camada. A primeira dimensão é None, o que indica que o tamanho do batch pode variar. As outras dimensões correspondem às saídas específicas da camada.\n",
    "Param #\n",
    "\n",
    "Esta coluna mostra o número total de parâmetros que a camada tem. No caso de uma camada Dense, isso inclui os pesos e os biases.\n",
    "\n",
    "- Para a primeira camada Dense no exemplo:\n",
    "A camada tem 128 unidades e a entrada tem 784 características (28x28 pixels), então o número de parâmetros é: \n",
    "784 × 128 + 128 = 100480\n",
    "\n",
    "- Para a segunda camada Dense:\n",
    "A camada tem 64 unidades e recebe uma entrada de 128 unidades, então o número de parâmetros é: \n",
    "\n",
    "$$128×64+64=8256$$\n",
    "\n",
    "- Para a terceira camada Dense:\n",
    "A camada tem 10 unidades e recebe uma entrada de 64 unidades, então o número de parâmetros é: \n",
    "64×10+10=650.\n",
    "\n",
    "### Total params, Trainable params, Non-trainable params\n",
    "\n",
    "- Total params: O número total de parâmetros no modelo, tanto treináveis quanto não treináveis.\n",
    "- Trainable params: O número de parâmetros que serão ajustados durante o treinamento.\n",
    "- Non-trainable params: Parâmetros que não serão ajustados durante o treinamento. Esses parâmetros podem ser fixos (por exemplo, parâmetros de camadas congeladas durante o fine-tuning).\n"
   ]
  },
  {
   "cell_type": "markdown",
   "id": "8b8a1af3",
   "metadata": {},
   "source": [
    "- Os parâmetros de cada uma das camadas podem ser acessados:"
   ]
  },
  {
   "cell_type": "code",
   "execution_count": 94,
   "id": "fbdec6f1",
   "metadata": {
    "ExecuteTime": {
     "end_time": "2024-06-07T11:39:32.241100Z",
     "start_time": "2024-06-07T11:39:32.233556Z"
    }
   },
   "outputs": [],
   "source": [
    "hidden1 = model.layers[1]\n",
    "hidden1.name\n",
    "weights, biases = hidden1.get_weights()"
   ]
  },
  {
   "cell_type": "code",
   "execution_count": 95,
   "id": "9206cb43",
   "metadata": {
    "ExecuteTime": {
     "end_time": "2024-06-07T11:40:17.764275Z",
     "start_time": "2024-06-07T11:40:17.753682Z"
    }
   },
   "outputs": [
    {
     "name": "stdout",
     "output_type": "stream",
     "text": [
      "Pesos: [[-0.02755627 -0.04540813 -0.03305183 ...  0.0390389  -0.05343337\n",
      "   0.02736215]\n",
      " [-0.01877087 -0.04015987 -0.00624581 ... -0.03094777  0.03881963\n",
      "  -0.02077628]\n",
      " [-0.03633283 -0.03175865 -0.03872652 ... -0.04803801  0.04849545\n",
      "   0.02601946]\n",
      " ...\n",
      " [ 0.06747974  0.05512513 -0.04335924 ... -0.04821101  0.00549739\n",
      "   0.05311678]\n",
      " [ 0.01005786  0.05658017 -0.00174076 ...  0.02040275 -0.03000667\n",
      "   0.06967583]\n",
      " [ 0.06577851  0.02940922 -0.05638215 ... -0.06883249  0.05862568\n",
      "   0.05610666]]\n",
      "Vieses: [0. 0. 0. 0. 0. 0. 0. 0. 0. 0. 0. 0. 0. 0. 0. 0. 0. 0. 0. 0. 0. 0. 0. 0.\n",
      " 0. 0. 0. 0. 0. 0. 0. 0. 0. 0. 0. 0. 0. 0. 0. 0. 0. 0. 0. 0. 0. 0. 0. 0.\n",
      " 0. 0. 0. 0. 0. 0. 0. 0. 0. 0. 0. 0. 0. 0. 0. 0. 0. 0. 0. 0. 0. 0. 0. 0.\n",
      " 0. 0. 0. 0. 0. 0. 0. 0. 0. 0. 0. 0. 0. 0. 0. 0. 0. 0. 0. 0. 0. 0. 0. 0.\n",
      " 0. 0. 0. 0. 0. 0. 0. 0. 0. 0. 0. 0. 0. 0. 0. 0. 0. 0. 0. 0. 0. 0. 0. 0.\n",
      " 0. 0. 0. 0. 0. 0. 0. 0. 0. 0. 0. 0. 0. 0. 0. 0. 0. 0. 0. 0. 0. 0. 0. 0.\n",
      " 0. 0. 0. 0. 0. 0. 0. 0. 0. 0. 0. 0. 0. 0. 0. 0. 0. 0. 0. 0. 0. 0. 0. 0.\n",
      " 0. 0. 0. 0. 0. 0. 0. 0. 0. 0. 0. 0. 0. 0. 0. 0. 0. 0. 0. 0. 0. 0. 0. 0.\n",
      " 0. 0. 0. 0. 0. 0. 0. 0. 0. 0. 0. 0. 0. 0. 0. 0. 0. 0. 0. 0. 0. 0. 0. 0.\n",
      " 0. 0. 0. 0. 0. 0. 0. 0. 0. 0. 0. 0. 0. 0. 0. 0. 0. 0. 0. 0. 0. 0. 0. 0.\n",
      " 0. 0. 0. 0. 0. 0. 0. 0. 0. 0. 0. 0. 0. 0. 0. 0. 0. 0. 0. 0. 0. 0. 0. 0.\n",
      " 0. 0. 0. 0. 0. 0. 0. 0. 0. 0. 0. 0. 0. 0. 0. 0. 0. 0. 0. 0. 0. 0. 0. 0.\n",
      " 0. 0. 0. 0. 0. 0. 0. 0. 0. 0. 0. 0.]\n"
     ]
    }
   ],
   "source": [
    "print('Pesos: {}'.format(weights))\n",
    "print('Vieses: {}'.format(biases))"
   ]
  },
  {
   "cell_type": "markdown",
   "id": "52d18bef",
   "metadata": {},
   "source": [
    "- Aqui, decidimos como o modelo será treinado. "
   ]
  },
  {
   "cell_type": "code",
   "execution_count": 96,
   "id": "14aaf71a",
   "metadata": {
    "ExecuteTime": {
     "end_time": "2024-06-07T11:41:32.177055Z",
     "start_time": "2024-06-07T11:41:32.160878Z"
    }
   },
   "outputs": [],
   "source": [
    "# Compilando o modelo\n",
    "model.compile(loss=\"sparse_categorical_crossentropy\",\n",
    "             optimizer=\"sgd\", metrics=\"accuracy\")"
   ]
  },
  {
   "cell_type": "markdown",
   "id": "808446a2",
   "metadata": {},
   "source": [
    "Componentes do Código\n",
    "\n",
    "- `loss=\"sparse_categorical_crossentropy\"`\n",
    "    - `loss`: Especifica a função de perda (loss function) que será usada durante o treinamento para avaliar a diferença entre as previsões do modelo e os rótulos reais.\n",
    "    - `sparse_categorical_crossentropy`: Esta função de perda é usada para problemas de classificação multi-classe onde os rótulos são fornecidos como inteiros (rótulos esparsos) em vez de vetores one-hot. É adequada para casos onde as classes são mutuamente exclusivas, e você tem mais de duas classes.\n",
    "\n",
    "- `optimizer=\"sgd\"`\n",
    "    - `optimizer`: Especifica o algoritmo de otimização que será usado para atualizar os pesos do modelo com base na função de perda calculada.\n",
    "    - `sgd`: Stochastic Gradient Descent (Descida do Gradiente Estocástica). É um método de otimização que ajusta iterativamente os pesos do modelo com base no gradiente da função de perda. O SGD é uma escolha comum por sua simplicidade e eficiência, mas pode ser sensível à escolha da taxa de aprendizado.\n",
    "\n",
    "- `metrics=\"accuracy\"`\n",
    "    - `metrics`: Especifica as métricas que serão avaliadas durante o treinamento e a avaliação do modelo. As métricas não afetam diretamente o processo de treinamento, mas fornecem informações adicionais sobre o desempenho do modelo.\n",
    "    - `accuracy`: A métrica de acurácia mede a proporção de previsões corretas feitas pelo modelo. É uma métrica comum para problemas de classificação, onde o objetivo é maximizar a proporção de rótulos previstos corretamente."
   ]
  },
  {
   "cell_type": "markdown",
   "id": "0002de13",
   "metadata": {},
   "source": [
    "## Treino e validação do modelo"
   ]
  },
  {
   "cell_type": "code",
   "execution_count": 97,
   "id": "e45a7c2c",
   "metadata": {
    "ExecuteTime": {
     "end_time": "2024-06-07T11:47:53.254636Z",
     "start_time": "2024-06-07T11:46:41.493110Z"
    }
   },
   "outputs": [
    {
     "name": "stdout",
     "output_type": "stream",
     "text": [
      "Epoch 1/30\n",
      "1719/1719 [==============================] - 3s 1ms/step - loss: 0.7243 - accuracy: 0.7582 - val_loss: 0.5141 - val_accuracy: 0.8282\n",
      "Epoch 2/30\n",
      "1719/1719 [==============================] - 2s 1ms/step - loss: 0.4919 - accuracy: 0.8283 - val_loss: 0.4555 - val_accuracy: 0.8428\n",
      "Epoch 3/30\n",
      "1719/1719 [==============================] - 2s 1ms/step - loss: 0.4443 - accuracy: 0.8434 - val_loss: 0.4268 - val_accuracy: 0.8536\n",
      "Epoch 4/30\n",
      "1719/1719 [==============================] - 2s 1ms/step - loss: 0.4145 - accuracy: 0.8554 - val_loss: 0.4016 - val_accuracy: 0.8580\n",
      "Epoch 5/30\n",
      "1719/1719 [==============================] - 2s 1ms/step - loss: 0.3943 - accuracy: 0.8606 - val_loss: 0.3898 - val_accuracy: 0.8650\n",
      "Epoch 6/30\n",
      "1719/1719 [==============================] - 2s 1ms/step - loss: 0.3778 - accuracy: 0.8678 - val_loss: 0.3794 - val_accuracy: 0.8676\n",
      "Epoch 7/30\n",
      "1719/1719 [==============================] - 2s 1ms/step - loss: 0.3650 - accuracy: 0.8714 - val_loss: 0.3631 - val_accuracy: 0.8736\n",
      "Epoch 8/30\n",
      "1719/1719 [==============================] - 2s 1ms/step - loss: 0.3530 - accuracy: 0.8750 - val_loss: 0.3549 - val_accuracy: 0.8788\n",
      "Epoch 9/30\n",
      "1719/1719 [==============================] - 2s 1ms/step - loss: 0.3430 - accuracy: 0.8776 - val_loss: 0.3520 - val_accuracy: 0.8784\n",
      "Epoch 10/30\n",
      "1719/1719 [==============================] - 2s 1ms/step - loss: 0.3330 - accuracy: 0.8803 - val_loss: 0.3747 - val_accuracy: 0.8632\n",
      "Epoch 11/30\n",
      "1719/1719 [==============================] - 2s 1ms/step - loss: 0.3240 - accuracy: 0.8841 - val_loss: 0.3708 - val_accuracy: 0.8644\n",
      "Epoch 12/30\n",
      "1719/1719 [==============================] - 2s 1ms/step - loss: 0.3166 - accuracy: 0.8865 - val_loss: 0.3522 - val_accuracy: 0.8778\n",
      "Epoch 13/30\n",
      "1719/1719 [==============================] - 2s 1ms/step - loss: 0.3100 - accuracy: 0.8894 - val_loss: 0.3359 - val_accuracy: 0.8764\n",
      "Epoch 14/30\n",
      "1719/1719 [==============================] - 2s 1ms/step - loss: 0.3029 - accuracy: 0.8915 - val_loss: 0.3387 - val_accuracy: 0.8790\n",
      "Epoch 15/30\n",
      "1719/1719 [==============================] - 2s 1ms/step - loss: 0.2960 - accuracy: 0.8935 - val_loss: 0.3478 - val_accuracy: 0.8764\n",
      "Epoch 16/30\n",
      "1719/1719 [==============================] - 2s 1ms/step - loss: 0.2908 - accuracy: 0.8955 - val_loss: 0.3179 - val_accuracy: 0.8864\n",
      "Epoch 17/30\n",
      "1719/1719 [==============================] - 2s 1ms/step - loss: 0.2853 - accuracy: 0.8971 - val_loss: 0.3219 - val_accuracy: 0.8830\n",
      "Epoch 18/30\n",
      "1719/1719 [==============================] - 2s 1ms/step - loss: 0.2796 - accuracy: 0.8976 - val_loss: 0.3225 - val_accuracy: 0.8852\n",
      "Epoch 19/30\n",
      "1719/1719 [==============================] - 2s 1ms/step - loss: 0.2740 - accuracy: 0.9013 - val_loss: 0.3682 - val_accuracy: 0.8748\n",
      "Epoch 20/30\n",
      "1719/1719 [==============================] - 2s 1ms/step - loss: 0.2699 - accuracy: 0.9020 - val_loss: 0.3189 - val_accuracy: 0.8854\n",
      "Epoch 21/30\n",
      "1719/1719 [==============================] - 2s 1ms/step - loss: 0.2646 - accuracy: 0.9037 - val_loss: 0.3089 - val_accuracy: 0.8868\n",
      "Epoch 22/30\n",
      "1719/1719 [==============================] - 2s 1ms/step - loss: 0.2603 - accuracy: 0.9054 - val_loss: 0.3201 - val_accuracy: 0.8838\n",
      "Epoch 23/30\n",
      "1719/1719 [==============================] - 2s 1ms/step - loss: 0.2556 - accuracy: 0.9075 - val_loss: 0.3572 - val_accuracy: 0.8728\n",
      "Epoch 24/30\n",
      "1719/1719 [==============================] - 2s 1ms/step - loss: 0.2514 - accuracy: 0.9088 - val_loss: 0.3109 - val_accuracy: 0.8872\n",
      "Epoch 25/30\n",
      "1719/1719 [==============================] - 2s 1ms/step - loss: 0.2470 - accuracy: 0.9100 - val_loss: 0.3090 - val_accuracy: 0.8866\n",
      "Epoch 26/30\n",
      "1719/1719 [==============================] - 2s 1ms/step - loss: 0.2436 - accuracy: 0.9126 - val_loss: 0.3036 - val_accuracy: 0.8864\n",
      "Epoch 27/30\n",
      "1719/1719 [==============================] - 2s 1ms/step - loss: 0.2385 - accuracy: 0.9131 - val_loss: 0.3022 - val_accuracy: 0.8896\n",
      "Epoch 28/30\n",
      "1719/1719 [==============================] - 2s 1ms/step - loss: 0.2354 - accuracy: 0.9142 - val_loss: 0.2988 - val_accuracy: 0.8942\n",
      "Epoch 29/30\n",
      "1719/1719 [==============================] - 2s 1ms/step - loss: 0.2313 - accuracy: 0.9165 - val_loss: 0.2988 - val_accuracy: 0.8934\n",
      "Epoch 30/30\n",
      "1719/1719 [==============================] - 2s 1ms/step - loss: 0.2279 - accuracy: 0.9179 - val_loss: 0.3064 - val_accuracy: 0.8956\n"
     ]
    }
   ],
   "source": [
    "history = model.fit(X_train, y_train, epochs=30,\n",
    "                   validation_data=(X_valid, y_valid))"
   ]
  },
  {
   "cell_type": "markdown",
   "id": "cff5fe3a",
   "metadata": {},
   "source": [
    "- A perda vai caindo com as iterações, e a acurácia da validação não está tão longe da acurácia do treino, então podemos dizer que não houve overfitting. \n",
    "- Vamos ver os resultados graficamente:"
   ]
  },
  {
   "cell_type": "code",
   "execution_count": 98,
   "id": "593d24bc",
   "metadata": {
    "ExecuteTime": {
     "end_time": "2024-06-07T11:48:07.561647Z",
     "start_time": "2024-06-07T11:48:07.363505Z"
    }
   },
   "outputs": [
    {
     "data": {
      "image/png": "[encoded data removed]",
      "text/plain": [
       "<Figure size 576x360 with 1 Axes>"
      ]
     },
     "metadata": {
      "needs_background": "light"
     },
     "output_type": "display_data"
    }
   ],
   "source": [
    "import pandas as pd\n",
    "import matplotlib.pyplot as plt\n",
    "import numpy as np\n",
    "\n",
    "pd.DataFrame(history.history).plot(figsize=(8, 5))\n",
    "plt.grid(True)\n",
    "plt.gca().set_ylim(0, 1)\n",
    "plt.show()"
   ]
  },
  {
   "cell_type": "code",
   "execution_count": 100,
   "id": "cf412afa",
   "metadata": {
    "ExecuteTime": {
     "end_time": "2024-06-07T11:48:59.342038Z",
     "start_time": "2024-06-07T11:48:58.834427Z"
    }
   },
   "outputs": [
    {
     "name": "stdout",
     "output_type": "stream",
     "text": [
      "313/313 [==============================] - 0s 1ms/step - loss: 82.9558 - accuracy: 0.8239\n"
     ]
    },
    {
     "data": {
      "text/plain": [
       "[82.95576477050781, 0.8238999843597412]"
      ]
     },
     "execution_count": 100,
     "metadata": {},
     "output_type": "execute_result"
    }
   ],
   "source": [
    "# Avaliando o modelo no conjunto de teste\n",
    "model.evaluate(X_test, y_test)"
   ]
  },
  {
   "cell_type": "markdown",
   "id": "b9a85502",
   "metadata": {
    "ExecuteTime": {
     "end_time": "2024-06-07T11:50:57.530003Z",
     "start_time": "2024-06-07T11:50:57.527143Z"
    }
   },
   "source": [
    "## Usando o modelo para fazer predição"
   ]
  },
  {
   "cell_type": "code",
   "execution_count": 102,
   "id": "02f92448",
   "metadata": {
    "ExecuteTime": {
     "end_time": "2024-06-07T11:51:08.202184Z",
     "start_time": "2024-06-07T11:51:08.199721Z"
    }
   },
   "outputs": [],
   "source": [
    "X_new = X_test[:3] # primeiras 3 observações da base de teste"
   ]
  },
  {
   "cell_type": "code",
   "execution_count": 103,
   "id": "cd2fe471",
   "metadata": {
    "ExecuteTime": {
     "end_time": "2024-06-07T11:51:12.118168Z",
     "start_time": "2024-06-07T11:51:12.114233Z"
    }
   },
   "outputs": [
    {
     "data": {
      "text/plain": [
       "array([[[0, 0, 0, ..., 0, 0, 0],\n",
       "        [0, 0, 0, ..., 0, 0, 0],\n",
       "        [0, 0, 0, ..., 0, 0, 0],\n",
       "        ...,\n",
       "        [0, 0, 0, ..., 0, 0, 0],\n",
       "        [0, 0, 0, ..., 0, 0, 0],\n",
       "        [0, 0, 0, ..., 0, 0, 0]],\n",
       "\n",
       "       [[0, 0, 0, ..., 0, 0, 0],\n",
       "        [0, 0, 0, ..., 0, 0, 0],\n",
       "        [0, 0, 0, ..., 0, 0, 0],\n",
       "        ...,\n",
       "        [0, 0, 0, ..., 0, 0, 0],\n",
       "        [0, 0, 0, ..., 0, 0, 0],\n",
       "        [0, 0, 0, ..., 0, 0, 0]],\n",
       "\n",
       "       [[0, 0, 0, ..., 0, 0, 0],\n",
       "        [0, 0, 0, ..., 0, 0, 0],\n",
       "        [0, 0, 0, ..., 0, 0, 0],\n",
       "        ...,\n",
       "        [0, 0, 0, ..., 0, 0, 0],\n",
       "        [0, 0, 0, ..., 0, 0, 0],\n",
       "        [0, 0, 0, ..., 0, 0, 0]]], dtype=uint8)"
      ]
     },
     "execution_count": 103,
     "metadata": {},
     "output_type": "execute_result"
    }
   ],
   "source": [
    "X_new"
   ]
  },
  {
   "cell_type": "code",
   "execution_count": 104,
   "id": "d8898306",
   "metadata": {
    "ExecuteTime": {
     "end_time": "2024-06-07T11:51:19.966372Z",
     "start_time": "2024-06-07T11:51:19.887478Z"
    }
   },
   "outputs": [
    {
     "data": {
      "text/plain": [
       "array([[0., 0., 0., 0., 0., 0., 0., 0., 0., 1.],\n",
       "       [0., 0., 1., 0., 0., 0., 0., 0., 0., 0.],\n",
       "       [0., 1., 0., 0., 0., 0., 0., 0., 0., 0.]], dtype=float32)"
      ]
     },
     "execution_count": 104,
     "metadata": {},
     "output_type": "execute_result"
    }
   ],
   "source": [
    "y_proba = model.predict(X_new)\n",
    "y_proba.round(2)"
   ]
  },
  {
   "cell_type": "markdown",
   "id": "d4274dcb",
   "metadata": {
    "ExecuteTime": {
     "end_time": "2024-06-07T11:51:52.370718Z",
     "start_time": "2024-06-07T11:51:52.366348Z"
    }
   },
   "source": [
    "- Vemos uma probablidade por classe (da 0 a 9). \n",
    "- Podemos ver a que tipo de peça se refere cada um."
   ]
  },
  {
   "cell_type": "code",
   "execution_count": 106,
   "id": "565a3fc9",
   "metadata": {
    "ExecuteTime": {
     "end_time": "2024-06-07T11:52:05.652030Z",
     "start_time": "2024-06-07T11:52:05.618805Z"
    }
   },
   "outputs": [
    {
     "name": "stdout",
     "output_type": "stream",
     "text": [
      "[9 2 1]\n"
     ]
    }
   ],
   "source": [
    "y_probabilities = model.predict(X_new)\n",
    "y_pred = y_probabilities.argmax(axis=-1)\n",
    "print(y_pred)"
   ]
  },
  {
   "cell_type": "code",
   "execution_count": 107,
   "id": "9b868e2f",
   "metadata": {
    "ExecuteTime": {
     "end_time": "2024-06-07T11:52:18.304203Z",
     "start_time": "2024-06-07T11:52:18.298517Z"
    }
   },
   "outputs": [
    {
     "data": {
      "text/plain": [
       "array(['Ankle boot', 'Pullover', 'Trouser'], dtype='<U11')"
      ]
     },
     "execution_count": 107,
     "metadata": {},
     "output_type": "execute_result"
    }
   ],
   "source": [
    "np.array(class_names)[y_pred]"
   ]
  },
  {
   "cell_type": "code",
   "execution_count": 108,
   "id": "d5d1aac3",
   "metadata": {
    "ExecuteTime": {
     "end_time": "2024-06-07T11:52:39.673131Z",
     "start_time": "2024-06-07T11:52:39.669765Z"
    }
   },
   "outputs": [
    {
     "data": {
      "text/plain": [
       "array([9, 2, 1], dtype=uint8)"
      ]
     },
     "execution_count": 108,
     "metadata": {},
     "output_type": "execute_result"
    }
   ],
   "source": [
    "# Checando se o modelo acertou\n",
    "y_new = y_test[:3]\n",
    "y_new"
   ]
  },
  {
   "cell_type": "markdown",
   "id": "5d767636",
   "metadata": {},
   "source": [
    "- O modelo acertou corretamente o tipo de peça. "
   ]
  },
  {
   "cell_type": "code",
   "execution_count": null,
   "id": "5eecc3ee",
   "metadata": {},
   "outputs": [],
   "source": []
  }
 ],
 "metadata": {
  "kernelspec": {
   "display_name": "Python 3 (ipykernel)",
   "language": "python",
   "name": "python3"
  },
  "language_info": {
   "codemirror_mode": {
    "name": "ipython",
    "version": 3
   },
   "file_extension": ".py",
   "mimetype": "text/x-python",
   "name": "python",
   "nbconvert_exporter": "python",
   "pygments_lexer": "ipython3",
   "version": "3.9.13"
  }
 },
 "nbformat": 4,
 "nbformat_minor": 5
}
