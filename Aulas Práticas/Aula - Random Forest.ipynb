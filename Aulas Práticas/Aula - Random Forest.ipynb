{
 "cells": [
  {
   "cell_type": "markdown",
   "id": "e0c7daa2",
   "metadata": {},
   "source": [
    "# Imports"
   ]
  },
  {
   "cell_type": "code",
   "execution_count": 1,
   "id": "c9a0988e",
   "metadata": {
    "ExecuteTime": {
     "end_time": "2024-07-23T20:21:25.794572Z",
     "start_time": "2024-07-23T20:21:16.197010Z"
    }
   },
   "outputs": [],
   "source": [
    "import pandas as pd\n",
    "import numpy as np\n",
    "from scipy.stats import randint\n",
    "from sklearn.ensemble import RandomForestClassifier\n",
    "from sklearn.model_selection import train_test_split\n",
    "from sklearn.metrics import accuracy_score, confusion_matrix, precision_score, recall_score, ConfusionMatrixDisplay\n",
    "from sklearn.tree import export_graphviz\n",
    "from IPython.display import Image\n",
    "import graphviz"
   ]
  },
  {
   "cell_type": "markdown",
   "id": "45245d52",
   "metadata": {},
   "source": [
    "# Dados"
   ]
  },
  {
   "cell_type": "code",
   "execution_count": 2,
   "id": "e95e6153",
   "metadata": {
    "ExecuteTime": {
     "end_time": "2024-07-23T20:21:25.826327Z",
     "start_time": "2024-07-23T20:21:25.796434Z"
    }
   },
   "outputs": [
    {
     "data": {
      "text/html": [
       "<div>\n",
       "<style scoped>\n",
       "    .dataframe tbody tr th:only-of-type {\n",
       "        vertical-align: middle;\n",
       "    }\n",
       "\n",
       "    .dataframe tbody tr th {\n",
       "        vertical-align: top;\n",
       "    }\n",
       "\n",
       "    .dataframe thead th {\n",
       "        text-align: right;\n",
       "    }\n",
       "</style>\n",
       "<table border=\"1\" class=\"dataframe\">\n",
       "  <thead>\n",
       "    <tr style=\"text-align: right;\">\n",
       "      <th></th>\n",
       "      <th>pregnancies</th>\n",
       "      <th>glucose</th>\n",
       "      <th>bloodpressure</th>\n",
       "      <th>skinthickness</th>\n",
       "      <th>insulin</th>\n",
       "      <th>bmi</th>\n",
       "      <th>diabetespedigreefunction</th>\n",
       "      <th>age</th>\n",
       "      <th>outcome</th>\n",
       "    </tr>\n",
       "  </thead>\n",
       "  <tbody>\n",
       "    <tr>\n",
       "      <th>0</th>\n",
       "      <td>6</td>\n",
       "      <td>148</td>\n",
       "      <td>72</td>\n",
       "      <td>35</td>\n",
       "      <td>0</td>\n",
       "      <td>33.6</td>\n",
       "      <td>0.627</td>\n",
       "      <td>50</td>\n",
       "      <td>1</td>\n",
       "    </tr>\n",
       "    <tr>\n",
       "      <th>1</th>\n",
       "      <td>1</td>\n",
       "      <td>85</td>\n",
       "      <td>66</td>\n",
       "      <td>29</td>\n",
       "      <td>0</td>\n",
       "      <td>26.6</td>\n",
       "      <td>0.351</td>\n",
       "      <td>31</td>\n",
       "      <td>0</td>\n",
       "    </tr>\n",
       "    <tr>\n",
       "      <th>2</th>\n",
       "      <td>8</td>\n",
       "      <td>183</td>\n",
       "      <td>64</td>\n",
       "      <td>0</td>\n",
       "      <td>0</td>\n",
       "      <td>23.3</td>\n",
       "      <td>0.672</td>\n",
       "      <td>32</td>\n",
       "      <td>1</td>\n",
       "    </tr>\n",
       "    <tr>\n",
       "      <th>3</th>\n",
       "      <td>1</td>\n",
       "      <td>89</td>\n",
       "      <td>66</td>\n",
       "      <td>23</td>\n",
       "      <td>94</td>\n",
       "      <td>28.1</td>\n",
       "      <td>0.167</td>\n",
       "      <td>21</td>\n",
       "      <td>0</td>\n",
       "    </tr>\n",
       "    <tr>\n",
       "      <th>4</th>\n",
       "      <td>0</td>\n",
       "      <td>137</td>\n",
       "      <td>40</td>\n",
       "      <td>35</td>\n",
       "      <td>168</td>\n",
       "      <td>43.1</td>\n",
       "      <td>2.288</td>\n",
       "      <td>33</td>\n",
       "      <td>1</td>\n",
       "    </tr>\n",
       "  </tbody>\n",
       "</table>\n",
       "</div>"
      ],
      "text/plain": [
       "   pregnancies  glucose  bloodpressure  skinthickness  insulin   bmi  \\\n",
       "0            6      148             72             35        0  33.6   \n",
       "1            1       85             66             29        0  26.6   \n",
       "2            8      183             64              0        0  23.3   \n",
       "3            1       89             66             23       94  28.1   \n",
       "4            0      137             40             35      168  43.1   \n",
       "\n",
       "   diabetespedigreefunction  age  outcome  \n",
       "0                     0.627   50        1  \n",
       "1                     0.351   31        0  \n",
       "2                     0.672   32        1  \n",
       "3                     0.167   21        0  \n",
       "4                     2.288   33        1  "
      ]
     },
     "execution_count": 2,
     "metadata": {},
     "output_type": "execute_result"
    }
   ],
   "source": [
    "df = pd.read_csv(\"datasets/diabetes.csv\")\n",
    "df.columns = df.columns.str.lower()\n",
    "df.head()"
   ]
  },
  {
   "cell_type": "code",
   "execution_count": 3,
   "id": "a37b85a8",
   "metadata": {
    "ExecuteTime": {
     "end_time": "2024-07-23T20:21:25.838402Z",
     "start_time": "2024-07-23T20:21:25.827837Z"
    }
   },
   "outputs": [],
   "source": [
    "# Dividindo os dados em X e y\n",
    "X = df.drop('outcome', axis=1)\n",
    "y = df['outcome']\n",
    "\n",
    "# Dividindo os dados em treino e teste\n",
    "X_train, X_test, y_train, y_test = train_test_split(X, y, test_size=0.25)"
   ]
  },
  {
   "cell_type": "markdown",
   "id": "7ed68875",
   "metadata": {},
   "source": [
    "# Modelo"
   ]
  },
  {
   "cell_type": "code",
   "execution_count": 4,
   "id": "5eb25684",
   "metadata": {
    "ExecuteTime": {
     "end_time": "2024-07-23T20:21:26.137035Z",
     "start_time": "2024-07-23T20:21:26.113702Z"
    }
   },
   "outputs": [
    {
     "data": {
      "text/plain": [
       "RandomForestClassifier(max_depth=5, max_features=None, n_estimators=5,\n",
       "                       random_state=0)"
      ]
     },
     "execution_count": 4,
     "metadata": {},
     "output_type": "execute_result"
    }
   ],
   "source": [
    "# Instanciando o modelo\n",
    "modelo = RandomForestClassifier(n_estimators=5,\n",
    "                                max_features=None,\n",
    "                                max_depth=5,\n",
    "                                min_samples_split=2, \n",
    "                                random_state=0)\n",
    "modelo.fit(X_train, y_train)"
   ]
  },
  {
   "cell_type": "code",
   "execution_count": 5,
   "id": "fd56a9b1",
   "metadata": {
    "ExecuteTime": {
     "end_time": "2024-07-23T20:21:28.625181Z",
     "start_time": "2024-07-23T20:21:28.614438Z"
    }
   },
   "outputs": [
    {
     "name": "stdout",
     "output_type": "stream",
     "text": [
      "Acurácia:  0.7447916666666666\n"
     ]
    }
   ],
   "source": [
    "# Predição \n",
    "y_pred = modelo.predict(X_test)\n",
    "\n",
    "# Avaliação do modelo\n",
    "acuracia = accuracy_score(y_test, y_pred)\n",
    "print('Acurácia: ', acuracia)"
   ]
  },
  {
   "cell_type": "markdown",
   "id": "0aa55497",
   "metadata": {},
   "source": [
    "# Visualização dos resultados"
   ]
  },
  {
   "cell_type": "markdown",
   "id": "1cbb118e",
   "metadata": {},
   "source": [
    "Vamos exportar as três primeiras árvores:"
   ]
  },
  {
   "cell_type": "code",
   "execution_count": 6,
   "id": "06c1e482",
   "metadata": {
    "ExecuteTime": {
     "end_time": "2024-07-23T20:21:32.408738Z",
     "start_time": "2024-07-23T20:21:31.866560Z"
    }
   },
   "outputs": [
    {
     "data": {
      "image/svg+xml": [
       "<?xml version=\"1.0\" encoding=\"UTF-8\" standalone=\"no\"?>\n",
       "<!DOCTYPE svg PUBLIC \"-//W3C//DTD SVG 1.1//EN\"\n",
       " \"http://www.w3.org/Graphics/SVG/1.1/DTD/svg11.dtd\">\n",
       "<!-- Generated by graphviz version 10.0.1 (20240210.2158)\n",
       " -->\n",
       "<!-- Title: Tree Pages: 1 -->\n",
       "<svg width=\"634pt\" height=\"374pt\"\n",
       " viewBox=\"0.00 0.00 633.88 374.00\" xmlns=\"http://www.w3.org/2000/svg\" xmlns:xlink=\"http://www.w3.org/1999/xlink\">\n",
       "<g id=\"graph0\" class=\"graph\" transform=\"scale(1 1) rotate(0) translate(4 370)\">\n",
       "<title>Tree</title>\n",
       "<polygon fill=\"white\" stroke=\"none\" points=\"-4,4 -4,-370 629.88,-370 629.88,4 -4,4\"/>\n",
       "<!-- 0 -->\n",
       "<g id=\"node1\" class=\"node\">\n",
       "<title>0</title>\n",
       "<polygon fill=\"#f4c9ab\" stroke=\"black\" points=\"374.38,-366 235.38,-366 235.38,-292 374.38,-292 374.38,-366\"/>\n",
       "<text text-anchor=\"middle\" x=\"304.88\" y=\"-348.7\" font-family=\"Times,serif\" font-size=\"14.00\">glucose &lt;= 154.5</text>\n",
       "<text text-anchor=\"middle\" x=\"304.88\" y=\"-332.2\" font-family=\"Times,serif\" font-size=\"14.00\">gini = 0.463</text>\n",
       "<text text-anchor=\"middle\" x=\"304.88\" y=\"-315.7\" font-family=\"Times,serif\" font-size=\"14.00\">samples = 100.0%</text>\n",
       "<text text-anchor=\"middle\" x=\"304.88\" y=\"-299.2\" font-family=\"Times,serif\" font-size=\"14.00\">value = [0.635, 0.365]</text>\n",
       "</g>\n",
       "<!-- 1 -->\n",
       "<g id=\"node2\" class=\"node\">\n",
       "<title>1</title>\n",
       "<polygon fill=\"#efb083\" stroke=\"black\" points=\"296.38,-256 157.38,-256 157.38,-182 296.38,-182 296.38,-256\"/>\n",
       "<text text-anchor=\"middle\" x=\"226.88\" y=\"-238.7\" font-family=\"Times,serif\" font-size=\"14.00\">bmi &lt;= 27.85</text>\n",
       "<text text-anchor=\"middle\" x=\"226.88\" y=\"-222.2\" font-family=\"Times,serif\" font-size=\"14.00\">gini = 0.397</text>\n",
       "<text text-anchor=\"middle\" x=\"226.88\" y=\"-205.7\" font-family=\"Times,serif\" font-size=\"14.00\">samples = 82.7%</text>\n",
       "<text text-anchor=\"middle\" x=\"226.88\" y=\"-189.2\" font-family=\"Times,serif\" font-size=\"14.00\">value = [0.727, 0.273]</text>\n",
       "</g>\n",
       "<!-- 0&#45;&gt;1 -->\n",
       "<g id=\"edge1\" class=\"edge\">\n",
       "<title>0&#45;&gt;1</title>\n",
       "<path fill=\"none\" stroke=\"black\" d=\"M278.69,-291.74C272.64,-283.37 266.13,-274.36 259.84,-265.64\"/>\n",
       "<polygon fill=\"black\" stroke=\"black\" points=\"262.71,-263.64 254.01,-257.58 257.03,-267.73 262.71,-263.64\"/>\n",
       "<text text-anchor=\"middle\" x=\"249.15\" y=\"-275.98\" font-family=\"Times,serif\" font-size=\"14.00\">True</text>\n",
       "</g>\n",
       "<!-- 26 -->\n",
       "<g id=\"node9\" class=\"node\">\n",
       "<title>26</title>\n",
       "<polygon fill=\"#64b2eb\" stroke=\"black\" points=\"453.38,-256 314.38,-256 314.38,-182 453.38,-182 453.38,-256\"/>\n",
       "<text text-anchor=\"middle\" x=\"383.88\" y=\"-238.7\" font-family=\"Times,serif\" font-size=\"14.00\">bmi &lt;= 29.1</text>\n",
       "<text text-anchor=\"middle\" x=\"383.88\" y=\"-222.2\" font-family=\"Times,serif\" font-size=\"14.00\">gini = 0.291</text>\n",
       "<text text-anchor=\"middle\" x=\"383.88\" y=\"-205.7\" font-family=\"Times,serif\" font-size=\"14.00\">samples = 17.3%</text>\n",
       "<text text-anchor=\"middle\" x=\"383.88\" y=\"-189.2\" font-family=\"Times,serif\" font-size=\"14.00\">value = [0.177, 0.823]</text>\n",
       "</g>\n",
       "<!-- 0&#45;&gt;26 -->\n",
       "<g id=\"edge8\" class=\"edge\">\n",
       "<title>0&#45;&gt;26</title>\n",
       "<path fill=\"none\" stroke=\"black\" d=\"M331.4,-291.74C337.59,-283.28 344.25,-274.16 350.69,-265.37\"/>\n",
       "<polygon fill=\"black\" stroke=\"black\" points=\"353.31,-267.71 356.39,-257.57 347.66,-263.58 353.31,-267.71\"/>\n",
       "<text text-anchor=\"middle\" x=\"361.12\" y=\"-276.01\" font-family=\"Times,serif\" font-size=\"14.00\">False</text>\n",
       "</g>\n",
       "<!-- 2 -->\n",
       "<g id=\"node3\" class=\"node\">\n",
       "<title>2</title>\n",
       "<polygon fill=\"#e78844\" stroke=\"black\" points=\"139.75,-146 0,-146 0,-72 139.75,-72 139.75,-146\"/>\n",
       "<text text-anchor=\"middle\" x=\"69.88\" y=\"-128.7\" font-family=\"Times,serif\" font-size=\"14.00\">bloodpressure &lt;= 94.0</text>\n",
       "<text text-anchor=\"middle\" x=\"69.88\" y=\"-112.2\" font-family=\"Times,serif\" font-size=\"14.00\">gini = 0.104</text>\n",
       "<text text-anchor=\"middle\" x=\"69.88\" y=\"-95.7\" font-family=\"Times,serif\" font-size=\"14.00\">samples = 24.5%</text>\n",
       "<text text-anchor=\"middle\" x=\"69.88\" y=\"-79.2\" font-family=\"Times,serif\" font-size=\"14.00\">value = [0.945, 0.055]</text>\n",
       "</g>\n",
       "<!-- 1&#45;&gt;2 -->\n",
       "<g id=\"edge2\" class=\"edge\">\n",
       "<title>1&#45;&gt;2</title>\n",
       "<path fill=\"none\" stroke=\"black\" d=\"M174.16,-181.74C160.7,-172.48 146.1,-162.43 132.2,-152.87\"/>\n",
       "<polygon fill=\"black\" stroke=\"black\" points=\"134.19,-149.99 123.97,-147.21 130.22,-155.76 134.19,-149.99\"/>\n",
       "</g>\n",
       "<!-- 11 -->\n",
       "<g id=\"node6\" class=\"node\">\n",
       "<title>11</title>\n",
       "<polygon fill=\"#f4caac\" stroke=\"black\" points=\"296.38,-146 157.38,-146 157.38,-72 296.38,-72 296.38,-146\"/>\n",
       "<text text-anchor=\"middle\" x=\"226.88\" y=\"-128.7\" font-family=\"Times,serif\" font-size=\"14.00\">age &lt;= 30.5</text>\n",
       "<text text-anchor=\"middle\" x=\"226.88\" y=\"-112.2\" font-family=\"Times,serif\" font-size=\"14.00\">gini = 0.465</text>\n",
       "<text text-anchor=\"middle\" x=\"226.88\" y=\"-95.7\" font-family=\"Times,serif\" font-size=\"14.00\">samples = 58.2%</text>\n",
       "<text text-anchor=\"middle\" x=\"226.88\" y=\"-79.2\" font-family=\"Times,serif\" font-size=\"14.00\">value = [0.632, 0.368]</text>\n",
       "</g>\n",
       "<!-- 1&#45;&gt;11 -->\n",
       "<g id=\"edge5\" class=\"edge\">\n",
       "<title>1&#45;&gt;11</title>\n",
       "<path fill=\"none\" stroke=\"black\" d=\"M226.88,-181.74C226.88,-173.99 226.88,-165.7 226.88,-157.6\"/>\n",
       "<polygon fill=\"black\" stroke=\"black\" points=\"230.38,-157.86 226.88,-147.86 223.38,-157.86 230.38,-157.86\"/>\n",
       "</g>\n",
       "<!-- 3 -->\n",
       "<g id=\"node4\" class=\"node\">\n",
       "<title>3</title>\n",
       "<polygon fill=\"#c0c0c0\" stroke=\"black\" points=\"80.88,-36 26.88,-36 26.88,0 80.88,0 80.88,-36\"/>\n",
       "<text text-anchor=\"middle\" x=\"53.88\" y=\"-12.95\" font-family=\"Times,serif\" font-size=\"14.00\">(...)</text>\n",
       "</g>\n",
       "<!-- 2&#45;&gt;3 -->\n",
       "<g id=\"edge3\" class=\"edge\">\n",
       "<title>2&#45;&gt;3</title>\n",
       "<path fill=\"none\" stroke=\"black\" d=\"M63.32,-71.54C61.87,-63.48 60.36,-55.05 58.97,-47.36\"/>\n",
       "<polygon fill=\"black\" stroke=\"black\" points=\"62.42,-46.77 57.21,-37.54 55.53,-48.01 62.42,-46.77\"/>\n",
       "</g>\n",
       "<!-- 8 -->\n",
       "<g id=\"node5\" class=\"node\">\n",
       "<title>8</title>\n",
       "<polygon fill=\"#c0c0c0\" stroke=\"black\" points=\"152.88,-36 98.88,-36 98.88,0 152.88,0 152.88,-36\"/>\n",
       "<text text-anchor=\"middle\" x=\"125.88\" y=\"-12.95\" font-family=\"Times,serif\" font-size=\"14.00\">(...)</text>\n",
       "</g>\n",
       "<!-- 2&#45;&gt;8 -->\n",
       "<g id=\"edge4\" class=\"edge\">\n",
       "<title>2&#45;&gt;8</title>\n",
       "<path fill=\"none\" stroke=\"black\" d=\"M92.81,-71.54C98.25,-62.9 103.95,-53.84 109.06,-45.73\"/>\n",
       "<polygon fill=\"black\" stroke=\"black\" points=\"111.97,-47.66 114.34,-37.34 106.05,-43.94 111.97,-47.66\"/>\n",
       "</g>\n",
       "<!-- 12 -->\n",
       "<g id=\"node7\" class=\"node\">\n",
       "<title>12</title>\n",
       "<polygon fill=\"#c0c0c0\" stroke=\"black\" points=\"238.88,-36 184.88,-36 184.88,0 238.88,0 238.88,-36\"/>\n",
       "<text text-anchor=\"middle\" x=\"211.88\" y=\"-12.95\" font-family=\"Times,serif\" font-size=\"14.00\">(...)</text>\n",
       "</g>\n",
       "<!-- 11&#45;&gt;12 -->\n",
       "<g id=\"edge6\" class=\"edge\">\n",
       "<title>11&#45;&gt;12</title>\n",
       "<path fill=\"none\" stroke=\"black\" d=\"M220.73,-71.54C219.37,-63.48 217.95,-55.05 216.66,-47.36\"/>\n",
       "<polygon fill=\"black\" stroke=\"black\" points=\"220.11,-46.83 215,-37.55 213.21,-47.99 220.11,-46.83\"/>\n",
       "</g>\n",
       "<!-- 19 -->\n",
       "<g id=\"node8\" class=\"node\">\n",
       "<title>19</title>\n",
       "<polygon fill=\"#c0c0c0\" stroke=\"black\" points=\"310.88,-36 256.88,-36 256.88,0 310.88,0 310.88,-36\"/>\n",
       "<text text-anchor=\"middle\" x=\"283.88\" y=\"-12.95\" font-family=\"Times,serif\" font-size=\"14.00\">(...)</text>\n",
       "</g>\n",
       "<!-- 11&#45;&gt;19 -->\n",
       "<g id=\"edge7\" class=\"edge\">\n",
       "<title>11&#45;&gt;19</title>\n",
       "<path fill=\"none\" stroke=\"black\" d=\"M250.22,-71.54C255.76,-62.9 261.56,-53.84 266.76,-45.73\"/>\n",
       "<polygon fill=\"black\" stroke=\"black\" points=\"269.69,-47.64 272.14,-37.33 263.8,-43.86 269.69,-47.64\"/>\n",
       "</g>\n",
       "<!-- 27 -->\n",
       "<g id=\"node10\" class=\"node\">\n",
       "<title>27</title>\n",
       "<polygon fill=\"#f1b991\" stroke=\"black\" points=\"453.38,-146 314.38,-146 314.38,-72 453.38,-72 453.38,-146\"/>\n",
       "<text text-anchor=\"middle\" x=\"383.88\" y=\"-128.7\" font-family=\"Times,serif\" font-size=\"14.00\">pregnancies &lt;= 7.0</text>\n",
       "<text text-anchor=\"middle\" x=\"383.88\" y=\"-112.2\" font-family=\"Times,serif\" font-size=\"14.00\">gini = 0.426</text>\n",
       "<text text-anchor=\"middle\" x=\"383.88\" y=\"-95.7\" font-family=\"Times,serif\" font-size=\"14.00\">samples = 2.2%</text>\n",
       "<text text-anchor=\"middle\" x=\"383.88\" y=\"-79.2\" font-family=\"Times,serif\" font-size=\"14.00\">value = [0.692, 0.308]</text>\n",
       "</g>\n",
       "<!-- 26&#45;&gt;27 -->\n",
       "<g id=\"edge9\" class=\"edge\">\n",
       "<title>26&#45;&gt;27</title>\n",
       "<path fill=\"none\" stroke=\"black\" d=\"M383.88,-181.74C383.88,-173.99 383.88,-165.7 383.88,-157.6\"/>\n",
       "<polygon fill=\"black\" stroke=\"black\" points=\"387.38,-157.86 383.88,-147.86 380.38,-157.86 387.38,-157.86\"/>\n",
       "</g>\n",
       "<!-- 32 -->\n",
       "<g id=\"node13\" class=\"node\">\n",
       "<title>32</title>\n",
       "<polygon fill=\"#4ea7e8\" stroke=\"black\" points=\"610.38,-146 471.38,-146 471.38,-72 610.38,-72 610.38,-146\"/>\n",
       "<text text-anchor=\"middle\" x=\"540.88\" y=\"-128.7\" font-family=\"Times,serif\" font-size=\"14.00\">insulin &lt;= 544.0</text>\n",
       "<text text-anchor=\"middle\" x=\"540.88\" y=\"-112.2\" font-family=\"Times,serif\" font-size=\"14.00\">gini = 0.174</text>\n",
       "<text text-anchor=\"middle\" x=\"540.88\" y=\"-95.7\" font-family=\"Times,serif\" font-size=\"14.00\">samples = 15.1%</text>\n",
       "<text text-anchor=\"middle\" x=\"540.88\" y=\"-79.2\" font-family=\"Times,serif\" font-size=\"14.00\">value = [0.096, 0.904]</text>\n",
       "</g>\n",
       "<!-- 26&#45;&gt;32 -->\n",
       "<g id=\"edge12\" class=\"edge\">\n",
       "<title>26&#45;&gt;32</title>\n",
       "<path fill=\"none\" stroke=\"black\" d=\"M436.59,-181.74C450.05,-172.48 464.65,-162.43 478.55,-152.87\"/>\n",
       "<polygon fill=\"black\" stroke=\"black\" points=\"480.53,-155.76 486.78,-147.21 476.56,-149.99 480.53,-155.76\"/>\n",
       "</g>\n",
       "<!-- 28 -->\n",
       "<g id=\"node11\" class=\"node\">\n",
       "<title>28</title>\n",
       "<polygon fill=\"#c0c0c0\" stroke=\"black\" points=\"396.88,-36 342.88,-36 342.88,0 396.88,0 396.88,-36\"/>\n",
       "<text text-anchor=\"middle\" x=\"369.88\" y=\"-12.95\" font-family=\"Times,serif\" font-size=\"14.00\">(...)</text>\n",
       "</g>\n",
       "<!-- 27&#45;&gt;28 -->\n",
       "<g id=\"edge10\" class=\"edge\">\n",
       "<title>27&#45;&gt;28</title>\n",
       "<path fill=\"none\" stroke=\"black\" d=\"M378.14,-71.54C376.87,-63.48 375.55,-55.05 374.34,-47.36\"/>\n",
       "<polygon fill=\"black\" stroke=\"black\" points=\"377.8,-46.88 372.79,-37.55 370.89,-47.97 377.8,-46.88\"/>\n",
       "</g>\n",
       "<!-- 29 -->\n",
       "<g id=\"node12\" class=\"node\">\n",
       "<title>29</title>\n",
       "<polygon fill=\"#c0c0c0\" stroke=\"black\" points=\"468.88,-36 414.88,-36 414.88,0 468.88,0 468.88,-36\"/>\n",
       "<text text-anchor=\"middle\" x=\"441.88\" y=\"-12.95\" font-family=\"Times,serif\" font-size=\"14.00\">(...)</text>\n",
       "</g>\n",
       "<!-- 27&#45;&gt;29 -->\n",
       "<g id=\"edge11\" class=\"edge\">\n",
       "<title>27&#45;&gt;29</title>\n",
       "<path fill=\"none\" stroke=\"black\" d=\"M407.63,-71.54C413.33,-62.81 419.3,-53.64 424.63,-45.46\"/>\n",
       "<polygon fill=\"black\" stroke=\"black\" points=\"427.41,-47.61 429.93,-37.32 421.54,-43.79 427.41,-47.61\"/>\n",
       "</g>\n",
       "<!-- 33 -->\n",
       "<g id=\"node14\" class=\"node\">\n",
       "<title>33</title>\n",
       "<polygon fill=\"#c0c0c0\" stroke=\"black\" points=\"553.88,-36 499.88,-36 499.88,0 553.88,0 553.88,-36\"/>\n",
       "<text text-anchor=\"middle\" x=\"526.88\" y=\"-12.95\" font-family=\"Times,serif\" font-size=\"14.00\">(...)</text>\n",
       "</g>\n",
       "<!-- 32&#45;&gt;33 -->\n",
       "<g id=\"edge13\" class=\"edge\">\n",
       "<title>32&#45;&gt;33</title>\n",
       "<path fill=\"none\" stroke=\"black\" d=\"M535.14,-71.54C533.87,-63.48 532.55,-55.05 531.34,-47.36\"/>\n",
       "<polygon fill=\"black\" stroke=\"black\" points=\"534.8,-46.88 529.79,-37.55 527.89,-47.97 534.8,-46.88\"/>\n",
       "</g>\n",
       "<!-- 40 -->\n",
       "<g id=\"node15\" class=\"node\">\n",
       "<title>40</title>\n",
       "<polygon fill=\"#c0c0c0\" stroke=\"black\" points=\"625.88,-36 571.88,-36 571.88,0 625.88,0 625.88,-36\"/>\n",
       "<text text-anchor=\"middle\" x=\"598.88\" y=\"-12.95\" font-family=\"Times,serif\" font-size=\"14.00\">(...)</text>\n",
       "</g>\n",
       "<!-- 32&#45;&gt;40 -->\n",
       "<g id=\"edge14\" class=\"edge\">\n",
       "<title>32&#45;&gt;40</title>\n",
       "<path fill=\"none\" stroke=\"black\" d=\"M564.63,-71.54C570.33,-62.81 576.3,-53.64 581.63,-45.46\"/>\n",
       "<polygon fill=\"black\" stroke=\"black\" points=\"584.41,-47.61 586.93,-37.32 578.54,-43.79 584.41,-47.61\"/>\n",
       "</g>\n",
       "</g>\n",
       "</svg>\n"
      ],
      "text/plain": [
       "<graphviz.sources.Source at 0x10899d8b0>"
      ]
     },
     "metadata": {},
     "output_type": "display_data"
    },
    {
     "data": {
      "image/svg+xml": [
       "<?xml version=\"1.0\" encoding=\"UTF-8\" standalone=\"no\"?>\n",
       "<!DOCTYPE svg PUBLIC \"-//W3C//DTD SVG 1.1//EN\"\n",
       " \"http://www.w3.org/Graphics/SVG/1.1/DTD/svg11.dtd\">\n",
       "<!-- Generated by graphviz version 10.0.1 (20240210.2158)\n",
       " -->\n",
       "<!-- Title: Tree Pages: 1 -->\n",
       "<svg width=\"634pt\" height=\"374pt\"\n",
       " viewBox=\"0.00 0.00 633.50 374.00\" xmlns=\"http://www.w3.org/2000/svg\" xmlns:xlink=\"http://www.w3.org/1999/xlink\">\n",
       "<g id=\"graph0\" class=\"graph\" transform=\"scale(1 1) rotate(0) translate(4 370)\">\n",
       "<title>Tree</title>\n",
       "<polygon fill=\"white\" stroke=\"none\" points=\"-4,4 -4,-370 629.5,-370 629.5,4 -4,4\"/>\n",
       "<!-- 0 -->\n",
       "<g id=\"node1\" class=\"node\">\n",
       "<title>0</title>\n",
       "<polygon fill=\"#f4c9ab\" stroke=\"black\" points=\"374,-366 235,-366 235,-292 374,-292 374,-366\"/>\n",
       "<text text-anchor=\"middle\" x=\"304.5\" y=\"-348.7\" font-family=\"Times,serif\" font-size=\"14.00\">glucose &lt;= 127.5</text>\n",
       "<text text-anchor=\"middle\" x=\"304.5\" y=\"-332.2\" font-family=\"Times,serif\" font-size=\"14.00\">gini = 0.463</text>\n",
       "<text text-anchor=\"middle\" x=\"304.5\" y=\"-315.7\" font-family=\"Times,serif\" font-size=\"14.00\">samples = 100.0%</text>\n",
       "<text text-anchor=\"middle\" x=\"304.5\" y=\"-299.2\" font-family=\"Times,serif\" font-size=\"14.00\">value = [0.635, 0.365]</text>\n",
       "</g>\n",
       "<!-- 1 -->\n",
       "<g id=\"node2\" class=\"node\">\n",
       "<title>1</title>\n",
       "<polygon fill=\"#ea985e\" stroke=\"black\" points=\"296,-256 157,-256 157,-182 296,-182 296,-256\"/>\n",
       "<text text-anchor=\"middle\" x=\"226.5\" y=\"-238.7\" font-family=\"Times,serif\" font-size=\"14.00\">age &lt;= 26.5</text>\n",
       "<text text-anchor=\"middle\" x=\"226.5\" y=\"-222.2\" font-family=\"Times,serif\" font-size=\"14.00\">gini = 0.263</text>\n",
       "<text text-anchor=\"middle\" x=\"226.5\" y=\"-205.7\" font-family=\"Times,serif\" font-size=\"14.00\">samples = 61.2%</text>\n",
       "<text text-anchor=\"middle\" x=\"226.5\" y=\"-189.2\" font-family=\"Times,serif\" font-size=\"14.00\">value = [0.844, 0.156]</text>\n",
       "</g>\n",
       "<!-- 0&#45;&gt;1 -->\n",
       "<g id=\"edge1\" class=\"edge\">\n",
       "<title>0&#45;&gt;1</title>\n",
       "<path fill=\"none\" stroke=\"black\" d=\"M278.31,-291.74C272.26,-283.37 265.76,-274.36 259.47,-265.64\"/>\n",
       "<polygon fill=\"black\" stroke=\"black\" points=\"262.33,-263.64 253.64,-257.58 256.66,-267.73 262.33,-263.64\"/>\n",
       "<text text-anchor=\"middle\" x=\"248.77\" y=\"-275.98\" font-family=\"Times,serif\" font-size=\"14.00\">True</text>\n",
       "</g>\n",
       "<!-- 22 -->\n",
       "<g id=\"node9\" class=\"node\">\n",
       "<title>22</title>\n",
       "<polygon fill=\"#9dcef2\" stroke=\"black\" points=\"453,-256 314,-256 314,-182 453,-182 453,-256\"/>\n",
       "<text text-anchor=\"middle\" x=\"383.5\" y=\"-238.7\" font-family=\"Times,serif\" font-size=\"14.00\">bmi &lt;= 29.95</text>\n",
       "<text text-anchor=\"middle\" x=\"383.5\" y=\"-222.2\" font-family=\"Times,serif\" font-size=\"14.00\">gini = 0.445</text>\n",
       "<text text-anchor=\"middle\" x=\"383.5\" y=\"-205.7\" font-family=\"Times,serif\" font-size=\"14.00\">samples = 38.8%</text>\n",
       "<text text-anchor=\"middle\" x=\"383.5\" y=\"-189.2\" font-family=\"Times,serif\" font-size=\"14.00\">value = [0.335, 0.665]</text>\n",
       "</g>\n",
       "<!-- 0&#45;&gt;22 -->\n",
       "<g id=\"edge8\" class=\"edge\">\n",
       "<title>0&#45;&gt;22</title>\n",
       "<path fill=\"none\" stroke=\"black\" d=\"M331.03,-291.74C337.21,-283.28 343.88,-274.16 350.32,-265.37\"/>\n",
       "<polygon fill=\"black\" stroke=\"black\" points=\"352.94,-267.71 356.02,-257.57 347.29,-263.58 352.94,-267.71\"/>\n",
       "<text text-anchor=\"middle\" x=\"360.74\" y=\"-276.01\" font-family=\"Times,serif\" font-size=\"14.00\">False</text>\n",
       "</g>\n",
       "<!-- 2 -->\n",
       "<g id=\"node3\" class=\"node\">\n",
       "<title>2</title>\n",
       "<polygon fill=\"#e68641\" stroke=\"black\" points=\"139,-146 0,-146 0,-72 139,-72 139,-146\"/>\n",
       "<text text-anchor=\"middle\" x=\"69.5\" y=\"-128.7\" font-family=\"Times,serif\" font-size=\"14.00\">pregnancies &lt;= 7.5</text>\n",
       "<text text-anchor=\"middle\" x=\"69.5\" y=\"-112.2\" font-family=\"Times,serif\" font-size=\"14.00\">gini = 0.072</text>\n",
       "<text text-anchor=\"middle\" x=\"69.5\" y=\"-95.7\" font-family=\"Times,serif\" font-size=\"14.00\">samples = 28.7%</text>\n",
       "<text text-anchor=\"middle\" x=\"69.5\" y=\"-79.2\" font-family=\"Times,serif\" font-size=\"14.00\">value = [0.962, 0.038]</text>\n",
       "</g>\n",
       "<!-- 1&#45;&gt;2 -->\n",
       "<g id=\"edge2\" class=\"edge\">\n",
       "<title>1&#45;&gt;2</title>\n",
       "<path fill=\"none\" stroke=\"black\" d=\"M173.78,-181.74C160.32,-172.48 145.72,-162.43 131.83,-152.87\"/>\n",
       "<polygon fill=\"black\" stroke=\"black\" points=\"133.81,-149.99 123.59,-147.21 129.85,-155.76 133.81,-149.99\"/>\n",
       "</g>\n",
       "<!-- 11 -->\n",
       "<g id=\"node6\" class=\"node\">\n",
       "<title>11</title>\n",
       "<polygon fill=\"#eeae7f\" stroke=\"black\" points=\"296,-146 157,-146 157,-72 296,-72 296,-146\"/>\n",
       "<text text-anchor=\"middle\" x=\"226.5\" y=\"-128.7\" font-family=\"Times,serif\" font-size=\"14.00\">insulin &lt;= 155.5</text>\n",
       "<text text-anchor=\"middle\" x=\"226.5\" y=\"-112.2\" font-family=\"Times,serif\" font-size=\"14.00\">gini = 0.386</text>\n",
       "<text text-anchor=\"middle\" x=\"226.5\" y=\"-95.7\" font-family=\"Times,serif\" font-size=\"14.00\">samples = 32.5%</text>\n",
       "<text text-anchor=\"middle\" x=\"226.5\" y=\"-79.2\" font-family=\"Times,serif\" font-size=\"14.00\">value = [0.739, 0.261]</text>\n",
       "</g>\n",
       "<!-- 1&#45;&gt;11 -->\n",
       "<g id=\"edge5\" class=\"edge\">\n",
       "<title>1&#45;&gt;11</title>\n",
       "<path fill=\"none\" stroke=\"black\" d=\"M226.5,-181.74C226.5,-173.99 226.5,-165.7 226.5,-157.6\"/>\n",
       "<polygon fill=\"black\" stroke=\"black\" points=\"230,-157.86 226.5,-147.86 223,-157.86 230,-157.86\"/>\n",
       "</g>\n",
       "<!-- 3 -->\n",
       "<g id=\"node4\" class=\"node\">\n",
       "<title>3</title>\n",
       "<polygon fill=\"#c0c0c0\" stroke=\"black\" points=\"80.5,-36 26.5,-36 26.5,0 80.5,0 80.5,-36\"/>\n",
       "<text text-anchor=\"middle\" x=\"53.5\" y=\"-12.95\" font-family=\"Times,serif\" font-size=\"14.00\">(...)</text>\n",
       "</g>\n",
       "<!-- 2&#45;&gt;3 -->\n",
       "<g id=\"edge3\" class=\"edge\">\n",
       "<title>2&#45;&gt;3</title>\n",
       "<path fill=\"none\" stroke=\"black\" d=\"M62.95,-71.54C61.5,-63.48 59.98,-55.05 58.6,-47.36\"/>\n",
       "<polygon fill=\"black\" stroke=\"black\" points=\"62.05,-46.77 56.83,-37.54 55.16,-48.01 62.05,-46.77\"/>\n",
       "</g>\n",
       "<!-- 10 -->\n",
       "<g id=\"node5\" class=\"node\">\n",
       "<title>10</title>\n",
       "<polygon fill=\"#c0c0c0\" stroke=\"black\" points=\"152.5,-36 98.5,-36 98.5,0 152.5,0 152.5,-36\"/>\n",
       "<text text-anchor=\"middle\" x=\"125.5\" y=\"-12.95\" font-family=\"Times,serif\" font-size=\"14.00\">(...)</text>\n",
       "</g>\n",
       "<!-- 2&#45;&gt;10 -->\n",
       "<g id=\"edge4\" class=\"edge\">\n",
       "<title>2&#45;&gt;10</title>\n",
       "<path fill=\"none\" stroke=\"black\" d=\"M92.44,-71.54C97.88,-62.9 103.58,-53.84 108.68,-45.73\"/>\n",
       "<polygon fill=\"black\" stroke=\"black\" points=\"111.6,-47.66 113.96,-37.34 105.67,-43.94 111.6,-47.66\"/>\n",
       "</g>\n",
       "<!-- 12 -->\n",
       "<g id=\"node7\" class=\"node\">\n",
       "<title>12</title>\n",
       "<polygon fill=\"#c0c0c0\" stroke=\"black\" points=\"238.5,-36 184.5,-36 184.5,0 238.5,0 238.5,-36\"/>\n",
       "<text text-anchor=\"middle\" x=\"211.5\" y=\"-12.95\" font-family=\"Times,serif\" font-size=\"14.00\">(...)</text>\n",
       "</g>\n",
       "<!-- 11&#45;&gt;12 -->\n",
       "<g id=\"edge6\" class=\"edge\">\n",
       "<title>11&#45;&gt;12</title>\n",
       "<path fill=\"none\" stroke=\"black\" d=\"M220.36,-71.54C219,-63.48 217.58,-55.05 216.28,-47.36\"/>\n",
       "<polygon fill=\"black\" stroke=\"black\" points=\"219.74,-46.83 214.63,-37.55 212.84,-47.99 219.74,-46.83\"/>\n",
       "</g>\n",
       "<!-- 17 -->\n",
       "<g id=\"node8\" class=\"node\">\n",
       "<title>17</title>\n",
       "<polygon fill=\"#c0c0c0\" stroke=\"black\" points=\"310.5,-36 256.5,-36 256.5,0 310.5,0 310.5,-36\"/>\n",
       "<text text-anchor=\"middle\" x=\"283.5\" y=\"-12.95\" font-family=\"Times,serif\" font-size=\"14.00\">(...)</text>\n",
       "</g>\n",
       "<!-- 11&#45;&gt;17 -->\n",
       "<g id=\"edge7\" class=\"edge\">\n",
       "<title>11&#45;&gt;17</title>\n",
       "<path fill=\"none\" stroke=\"black\" d=\"M249.85,-71.54C255.38,-62.9 261.18,-53.84 266.38,-45.73\"/>\n",
       "<polygon fill=\"black\" stroke=\"black\" points=\"269.32,-47.64 271.76,-37.33 263.42,-43.86 269.32,-47.64\"/>\n",
       "</g>\n",
       "<!-- 23 -->\n",
       "<g id=\"node10\" class=\"node\">\n",
       "<title>23</title>\n",
       "<polygon fill=\"#f3c6a5\" stroke=\"black\" points=\"453.38,-146 313.62,-146 313.62,-72 453.38,-72 453.38,-146\"/>\n",
       "<text text-anchor=\"middle\" x=\"383.5\" y=\"-128.7\" font-family=\"Times,serif\" font-size=\"14.00\">bloodpressure &lt;= 73.0</text>\n",
       "<text text-anchor=\"middle\" x=\"383.5\" y=\"-112.2\" font-family=\"Times,serif\" font-size=\"14.00\">gini = 0.457</text>\n",
       "<text text-anchor=\"middle\" x=\"383.5\" y=\"-95.7\" font-family=\"Times,serif\" font-size=\"14.00\">samples = 9.0%</text>\n",
       "<text text-anchor=\"middle\" x=\"383.5\" y=\"-79.2\" font-family=\"Times,serif\" font-size=\"14.00\">value = [0.647, 0.353]</text>\n",
       "</g>\n",
       "<!-- 22&#45;&gt;23 -->\n",
       "<g id=\"edge9\" class=\"edge\">\n",
       "<title>22&#45;&gt;23</title>\n",
       "<path fill=\"none\" stroke=\"black\" d=\"M383.5,-181.74C383.5,-173.99 383.5,-165.7 383.5,-157.6\"/>\n",
       "<polygon fill=\"black\" stroke=\"black\" points=\"387,-157.86 383.5,-147.86 380,-157.86 387,-157.86\"/>\n",
       "</g>\n",
       "<!-- 36 -->\n",
       "<g id=\"node13\" class=\"node\">\n",
       "<title>36</title>\n",
       "<polygon fill=\"#7bbdee\" stroke=\"black\" points=\"610,-146 471,-146 471,-72 610,-72 610,-146\"/>\n",
       "<text text-anchor=\"middle\" x=\"540.5\" y=\"-128.7\" font-family=\"Times,serif\" font-size=\"14.00\">glucose &lt;= 157.5</text>\n",
       "<text text-anchor=\"middle\" x=\"540.5\" y=\"-112.2\" font-family=\"Times,serif\" font-size=\"14.00\">gini = 0.374</text>\n",
       "<text text-anchor=\"middle\" x=\"540.5\" y=\"-95.7\" font-family=\"Times,serif\" font-size=\"14.00\">samples = 29.8%</text>\n",
       "<text text-anchor=\"middle\" x=\"540.5\" y=\"-79.2\" font-family=\"Times,serif\" font-size=\"14.00\">value = [0.249, 0.751]</text>\n",
       "</g>\n",
       "<!-- 22&#45;&gt;36 -->\n",
       "<g id=\"edge12\" class=\"edge\">\n",
       "<title>22&#45;&gt;36</title>\n",
       "<path fill=\"none\" stroke=\"black\" d=\"M436.22,-181.74C449.68,-172.48 464.28,-162.43 478.17,-152.87\"/>\n",
       "<polygon fill=\"black\" stroke=\"black\" points=\"480.15,-155.76 486.41,-147.21 476.19,-149.99 480.15,-155.76\"/>\n",
       "</g>\n",
       "<!-- 24 -->\n",
       "<g id=\"node11\" class=\"node\">\n",
       "<title>24</title>\n",
       "<polygon fill=\"#c0c0c0\" stroke=\"black\" points=\"396.5,-36 342.5,-36 342.5,0 396.5,0 396.5,-36\"/>\n",
       "<text text-anchor=\"middle\" x=\"369.5\" y=\"-12.95\" font-family=\"Times,serif\" font-size=\"14.00\">(...)</text>\n",
       "</g>\n",
       "<!-- 23&#45;&gt;24 -->\n",
       "<g id=\"edge10\" class=\"edge\">\n",
       "<title>23&#45;&gt;24</title>\n",
       "<path fill=\"none\" stroke=\"black\" d=\"M377.77,-71.54C376.5,-63.48 375.17,-55.05 373.96,-47.36\"/>\n",
       "<polygon fill=\"black\" stroke=\"black\" points=\"377.43,-46.88 372.42,-37.55 370.51,-47.97 377.43,-46.88\"/>\n",
       "</g>\n",
       "<!-- 29 -->\n",
       "<g id=\"node12\" class=\"node\">\n",
       "<title>29</title>\n",
       "<polygon fill=\"#c0c0c0\" stroke=\"black\" points=\"468.5,-36 414.5,-36 414.5,0 468.5,0 468.5,-36\"/>\n",
       "<text text-anchor=\"middle\" x=\"441.5\" y=\"-12.95\" font-family=\"Times,serif\" font-size=\"14.00\">(...)</text>\n",
       "</g>\n",
       "<!-- 23&#45;&gt;29 -->\n",
       "<g id=\"edge11\" class=\"edge\">\n",
       "<title>23&#45;&gt;29</title>\n",
       "<path fill=\"none\" stroke=\"black\" d=\"M407.26,-71.54C412.95,-62.81 418.92,-53.64 424.26,-45.46\"/>\n",
       "<polygon fill=\"black\" stroke=\"black\" points=\"427.03,-47.61 429.56,-37.32 421.17,-43.79 427.03,-47.61\"/>\n",
       "</g>\n",
       "<!-- 37 -->\n",
       "<g id=\"node14\" class=\"node\">\n",
       "<title>37</title>\n",
       "<polygon fill=\"#c0c0c0\" stroke=\"black\" points=\"553.5,-36 499.5,-36 499.5,0 553.5,0 553.5,-36\"/>\n",
       "<text text-anchor=\"middle\" x=\"526.5\" y=\"-12.95\" font-family=\"Times,serif\" font-size=\"14.00\">(...)</text>\n",
       "</g>\n",
       "<!-- 36&#45;&gt;37 -->\n",
       "<g id=\"edge13\" class=\"edge\">\n",
       "<title>36&#45;&gt;37</title>\n",
       "<path fill=\"none\" stroke=\"black\" d=\"M534.77,-71.54C533.5,-63.48 532.17,-55.05 530.96,-47.36\"/>\n",
       "<polygon fill=\"black\" stroke=\"black\" points=\"534.43,-46.88 529.42,-37.55 527.51,-47.97 534.43,-46.88\"/>\n",
       "</g>\n",
       "<!-- 44 -->\n",
       "<g id=\"node15\" class=\"node\">\n",
       "<title>44</title>\n",
       "<polygon fill=\"#c0c0c0\" stroke=\"black\" points=\"625.5,-36 571.5,-36 571.5,0 625.5,0 625.5,-36\"/>\n",
       "<text text-anchor=\"middle\" x=\"598.5\" y=\"-12.95\" font-family=\"Times,serif\" font-size=\"14.00\">(...)</text>\n",
       "</g>\n",
       "<!-- 36&#45;&gt;44 -->\n",
       "<g id=\"edge14\" class=\"edge\">\n",
       "<title>36&#45;&gt;44</title>\n",
       "<path fill=\"none\" stroke=\"black\" d=\"M564.26,-71.54C569.95,-62.81 575.92,-53.64 581.26,-45.46\"/>\n",
       "<polygon fill=\"black\" stroke=\"black\" points=\"584.03,-47.61 586.56,-37.32 578.17,-43.79 584.03,-47.61\"/>\n",
       "</g>\n",
       "</g>\n",
       "</svg>\n"
      ],
      "text/plain": [
       "<graphviz.sources.Source at 0x10899d070>"
      ]
     },
     "metadata": {},
     "output_type": "display_data"
    },
    {
     "data": {
      "image/svg+xml": [
       "<?xml version=\"1.0\" encoding=\"UTF-8\" standalone=\"no\"?>\n",
       "<!DOCTYPE svg PUBLIC \"-//W3C//DTD SVG 1.1//EN\"\n",
       " \"http://www.w3.org/Graphics/SVG/1.1/DTD/svg11.dtd\">\n",
       "<!-- Generated by graphviz version 10.0.1 (20240210.2158)\n",
       " -->\n",
       "<!-- Title: Tree Pages: 1 -->\n",
       "<svg width=\"621pt\" height=\"374pt\"\n",
       " viewBox=\"0.00 0.00 620.75 374.00\" xmlns=\"http://www.w3.org/2000/svg\" xmlns:xlink=\"http://www.w3.org/1999/xlink\">\n",
       "<g id=\"graph0\" class=\"graph\" transform=\"scale(1 1) rotate(0) translate(4 370)\">\n",
       "<title>Tree</title>\n",
       "<polygon fill=\"white\" stroke=\"none\" points=\"-4,4 -4,-370 616.75,-370 616.75,4 -4,4\"/>\n",
       "<!-- 0 -->\n",
       "<g id=\"node1\" class=\"node\">\n",
       "<title>0</title>\n",
       "<polygon fill=\"#f3c4a2\" stroke=\"black\" points=\"360.25,-366 221.25,-366 221.25,-292 360.25,-292 360.25,-366\"/>\n",
       "<text text-anchor=\"middle\" x=\"290.75\" y=\"-348.7\" font-family=\"Times,serif\" font-size=\"14.00\">glucose &lt;= 143.5</text>\n",
       "<text text-anchor=\"middle\" x=\"290.75\" y=\"-332.2\" font-family=\"Times,serif\" font-size=\"14.00\">gini = 0.453</text>\n",
       "<text text-anchor=\"middle\" x=\"290.75\" y=\"-315.7\" font-family=\"Times,serif\" font-size=\"14.00\">samples = 100.0%</text>\n",
       "<text text-anchor=\"middle\" x=\"290.75\" y=\"-299.2\" font-family=\"Times,serif\" font-size=\"14.00\">value = [0.653, 0.347]</text>\n",
       "</g>\n",
       "<!-- 1 -->\n",
       "<g id=\"node2\" class=\"node\">\n",
       "<title>1</title>\n",
       "<polygon fill=\"#eca471\" stroke=\"black\" points=\"275.5,-256 150,-256 150,-182 275.5,-182 275.5,-256\"/>\n",
       "<text text-anchor=\"middle\" x=\"212.75\" y=\"-238.7\" font-family=\"Times,serif\" font-size=\"14.00\">bmi &lt;= 27.85</text>\n",
       "<text text-anchor=\"middle\" x=\"212.75\" y=\"-222.2\" font-family=\"Times,serif\" font-size=\"14.00\">gini = 0.343</text>\n",
       "<text text-anchor=\"middle\" x=\"212.75\" y=\"-205.7\" font-family=\"Times,serif\" font-size=\"14.00\">samples = 76.1%</text>\n",
       "<text text-anchor=\"middle\" x=\"212.75\" y=\"-189.2\" font-family=\"Times,serif\" font-size=\"14.00\">value = [0.78, 0.22]</text>\n",
       "</g>\n",
       "<!-- 0&#45;&gt;1 -->\n",
       "<g id=\"edge1\" class=\"edge\">\n",
       "<title>0&#45;&gt;1</title>\n",
       "<path fill=\"none\" stroke=\"black\" d=\"M264.56,-291.74C258.51,-283.37 252.01,-274.36 245.72,-265.64\"/>\n",
       "<polygon fill=\"black\" stroke=\"black\" points=\"248.58,-263.64 239.89,-257.58 242.91,-267.73 248.58,-263.64\"/>\n",
       "<text text-anchor=\"middle\" x=\"235.02\" y=\"-275.98\" font-family=\"Times,serif\" font-size=\"14.00\">True</text>\n",
       "</g>\n",
       "<!-- 26 -->\n",
       "<g id=\"node9\" class=\"node\">\n",
       "<title>26</title>\n",
       "<polygon fill=\"#7cbeee\" stroke=\"black\" points=\"439.25,-256 300.25,-256 300.25,-182 439.25,-182 439.25,-256\"/>\n",
       "<text text-anchor=\"middle\" x=\"369.75\" y=\"-238.7\" font-family=\"Times,serif\" font-size=\"14.00\">glucose &lt;= 166.5</text>\n",
       "<text text-anchor=\"middle\" x=\"369.75\" y=\"-222.2\" font-family=\"Times,serif\" font-size=\"14.00\">gini = 0.377</text>\n",
       "<text text-anchor=\"middle\" x=\"369.75\" y=\"-205.7\" font-family=\"Times,serif\" font-size=\"14.00\">samples = 23.9%</text>\n",
       "<text text-anchor=\"middle\" x=\"369.75\" y=\"-189.2\" font-family=\"Times,serif\" font-size=\"14.00\">value = [0.252, 0.748]</text>\n",
       "</g>\n",
       "<!-- 0&#45;&gt;26 -->\n",
       "<g id=\"edge8\" class=\"edge\">\n",
       "<title>0&#45;&gt;26</title>\n",
       "<path fill=\"none\" stroke=\"black\" d=\"M317.28,-291.74C323.46,-283.28 330.13,-274.16 336.57,-265.37\"/>\n",
       "<polygon fill=\"black\" stroke=\"black\" points=\"339.19,-267.71 342.27,-257.57 333.54,-263.58 339.19,-267.71\"/>\n",
       "<text text-anchor=\"middle\" x=\"346.99\" y=\"-276.01\" font-family=\"Times,serif\" font-size=\"14.00\">False</text>\n",
       "</g>\n",
       "<!-- 2 -->\n",
       "<g id=\"node3\" class=\"node\">\n",
       "<title>2</title>\n",
       "<polygon fill=\"#e68641\" stroke=\"black\" points=\"125.5,-146 0,-146 0,-72 125.5,-72 125.5,-146\"/>\n",
       "<text text-anchor=\"middle\" x=\"62.75\" y=\"-128.7\" font-family=\"Times,serif\" font-size=\"14.00\">glucose &lt;= 113.5</text>\n",
       "<text text-anchor=\"middle\" x=\"62.75\" y=\"-112.2\" font-family=\"Times,serif\" font-size=\"14.00\">gini = 0.077</text>\n",
       "<text text-anchor=\"middle\" x=\"62.75\" y=\"-95.7\" font-family=\"Times,serif\" font-size=\"14.00\">samples = 26.5%</text>\n",
       "<text text-anchor=\"middle\" x=\"62.75\" y=\"-79.2\" font-family=\"Times,serif\" font-size=\"14.00\">value = [0.96, 0.04]</text>\n",
       "</g>\n",
       "<!-- 1&#45;&gt;2 -->\n",
       "<g id=\"edge2\" class=\"edge\">\n",
       "<title>1&#45;&gt;2</title>\n",
       "<path fill=\"none\" stroke=\"black\" d=\"M162.38,-181.74C149.52,-172.48 135.57,-162.43 122.3,-152.87\"/>\n",
       "<polygon fill=\"black\" stroke=\"black\" points=\"124.63,-150.24 114.47,-147.24 120.54,-155.92 124.63,-150.24\"/>\n",
       "</g>\n",
       "<!-- 11 -->\n",
       "<g id=\"node6\" class=\"node\">\n",
       "<title>11</title>\n",
       "<polygon fill=\"#f1ba93\" stroke=\"black\" points=\"282.25,-146 143.25,-146 143.25,-72 282.25,-72 282.25,-146\"/>\n",
       "<text text-anchor=\"middle\" x=\"212.75\" y=\"-128.7\" font-family=\"Times,serif\" font-size=\"14.00\">age &lt;= 30.5</text>\n",
       "<text text-anchor=\"middle\" x=\"212.75\" y=\"-112.2\" font-family=\"Times,serif\" font-size=\"14.00\">gini = 0.43</text>\n",
       "<text text-anchor=\"middle\" x=\"212.75\" y=\"-95.7\" font-family=\"Times,serif\" font-size=\"14.00\">samples = 49.6%</text>\n",
       "<text text-anchor=\"middle\" x=\"212.75\" y=\"-79.2\" font-family=\"Times,serif\" font-size=\"14.00\">value = [0.688, 0.312]</text>\n",
       "</g>\n",
       "<!-- 1&#45;&gt;11 -->\n",
       "<g id=\"edge5\" class=\"edge\">\n",
       "<title>1&#45;&gt;11</title>\n",
       "<path fill=\"none\" stroke=\"black\" d=\"M212.75,-181.74C212.75,-173.99 212.75,-165.7 212.75,-157.6\"/>\n",
       "<polygon fill=\"black\" stroke=\"black\" points=\"216.25,-157.86 212.75,-147.86 209.25,-157.86 216.25,-157.86\"/>\n",
       "</g>\n",
       "<!-- 3 -->\n",
       "<g id=\"node4\" class=\"node\">\n",
       "<title>3</title>\n",
       "<polygon fill=\"#c0c0c0\" stroke=\"black\" points=\"69.75,-36 15.75,-36 15.75,0 69.75,0 69.75,-36\"/>\n",
       "<text text-anchor=\"middle\" x=\"42.75\" y=\"-12.95\" font-family=\"Times,serif\" font-size=\"14.00\">(...)</text>\n",
       "</g>\n",
       "<!-- 2&#45;&gt;3 -->\n",
       "<g id=\"edge3\" class=\"edge\">\n",
       "<title>2&#45;&gt;3</title>\n",
       "<path fill=\"none\" stroke=\"black\" d=\"M54.56,-71.54C52.72,-63.38 50.81,-54.85 49.06,-47.09\"/>\n",
       "<polygon fill=\"black\" stroke=\"black\" points=\"52.52,-46.52 46.91,-37.53 45.69,-48.06 52.52,-46.52\"/>\n",
       "</g>\n",
       "<!-- 4 -->\n",
       "<g id=\"node5\" class=\"node\">\n",
       "<title>4</title>\n",
       "<polygon fill=\"#c0c0c0\" stroke=\"black\" points=\"141.75,-36 87.75,-36 87.75,0 141.75,0 141.75,-36\"/>\n",
       "<text text-anchor=\"middle\" x=\"114.75\" y=\"-12.95\" font-family=\"Times,serif\" font-size=\"14.00\">(...)</text>\n",
       "</g>\n",
       "<!-- 2&#45;&gt;4 -->\n",
       "<g id=\"edge4\" class=\"edge\">\n",
       "<title>2&#45;&gt;4</title>\n",
       "<path fill=\"none\" stroke=\"black\" d=\"M84.05,-71.54C89.1,-62.9 94.39,-53.84 99.13,-45.73\"/>\n",
       "<polygon fill=\"black\" stroke=\"black\" points=\"102,-47.76 104.02,-37.36 95.96,-44.23 102,-47.76\"/>\n",
       "</g>\n",
       "<!-- 12 -->\n",
       "<g id=\"node7\" class=\"node\">\n",
       "<title>12</title>\n",
       "<polygon fill=\"#c0c0c0\" stroke=\"black\" points=\"226.75,-36 172.75,-36 172.75,0 226.75,0 226.75,-36\"/>\n",
       "<text text-anchor=\"middle\" x=\"199.75\" y=\"-12.95\" font-family=\"Times,serif\" font-size=\"14.00\">(...)</text>\n",
       "</g>\n",
       "<!-- 11&#45;&gt;12 -->\n",
       "<g id=\"edge6\" class=\"edge\">\n",
       "<title>11&#45;&gt;12</title>\n",
       "<path fill=\"none\" stroke=\"black\" d=\"M207.42,-71.54C206.25,-63.48 205.02,-55.05 203.89,-47.36\"/>\n",
       "<polygon fill=\"black\" stroke=\"black\" points=\"207.37,-46.94 202.46,-37.55 200.44,-47.95 207.37,-46.94\"/>\n",
       "</g>\n",
       "<!-- 19 -->\n",
       "<g id=\"node8\" class=\"node\">\n",
       "<title>19</title>\n",
       "<polygon fill=\"#c0c0c0\" stroke=\"black\" points=\"298.75,-36 244.75,-36 244.75,0 298.75,0 298.75,-36\"/>\n",
       "<text text-anchor=\"middle\" x=\"271.75\" y=\"-12.95\" font-family=\"Times,serif\" font-size=\"14.00\">(...)</text>\n",
       "</g>\n",
       "<!-- 11&#45;&gt;19 -->\n",
       "<g id=\"edge7\" class=\"edge\">\n",
       "<title>11&#45;&gt;19</title>\n",
       "<path fill=\"none\" stroke=\"black\" d=\"M236.92,-71.54C242.71,-62.81 248.79,-53.64 254.21,-45.46\"/>\n",
       "<polygon fill=\"black\" stroke=\"black\" points=\"257,-47.59 259.61,-37.32 251.17,-43.72 257,-47.59\"/>\n",
       "</g>\n",
       "<!-- 27 -->\n",
       "<g id=\"node10\" class=\"node\">\n",
       "<title>27</title>\n",
       "<polygon fill=\"#a9d4f4\" stroke=\"black\" points=\"439.25,-146 300.25,-146 300.25,-72 439.25,-72 439.25,-146\"/>\n",
       "<text text-anchor=\"middle\" x=\"369.75\" y=\"-128.7\" font-family=\"Times,serif\" font-size=\"14.00\">pregnancies &lt;= 6.5</text>\n",
       "<text text-anchor=\"middle\" x=\"369.75\" y=\"-112.2\" font-family=\"Times,serif\" font-size=\"14.00\">gini = 0.462</text>\n",
       "<text text-anchor=\"middle\" x=\"369.75\" y=\"-95.7\" font-family=\"Times,serif\" font-size=\"14.00\">samples = 13.3%</text>\n",
       "<text text-anchor=\"middle\" x=\"369.75\" y=\"-79.2\" font-family=\"Times,serif\" font-size=\"14.00\">value = [0.361, 0.639]</text>\n",
       "</g>\n",
       "<!-- 26&#45;&gt;27 -->\n",
       "<g id=\"edge9\" class=\"edge\">\n",
       "<title>26&#45;&gt;27</title>\n",
       "<path fill=\"none\" stroke=\"black\" d=\"M369.75,-181.74C369.75,-173.99 369.75,-165.7 369.75,-157.6\"/>\n",
       "<polygon fill=\"black\" stroke=\"black\" points=\"373.25,-157.86 369.75,-147.86 366.25,-157.86 373.25,-157.86\"/>\n",
       "</g>\n",
       "<!-- 42 -->\n",
       "<g id=\"node13\" class=\"node\">\n",
       "<title>42</title>\n",
       "<polygon fill=\"#4ca7e8\" stroke=\"black\" points=\"596.25,-146 457.25,-146 457.25,-72 596.25,-72 596.25,-146\"/>\n",
       "<text text-anchor=\"middle\" x=\"526.75\" y=\"-128.7\" font-family=\"Times,serif\" font-size=\"14.00\">insulin &lt;= 661.5</text>\n",
       "<text text-anchor=\"middle\" x=\"526.75\" y=\"-112.2\" font-family=\"Times,serif\" font-size=\"14.00\">gini = 0.163</text>\n",
       "<text text-anchor=\"middle\" x=\"526.75\" y=\"-95.7\" font-family=\"Times,serif\" font-size=\"14.00\">samples = 10.6%</text>\n",
       "<text text-anchor=\"middle\" x=\"526.75\" y=\"-79.2\" font-family=\"Times,serif\" font-size=\"14.00\">value = [0.089, 0.911]</text>\n",
       "</g>\n",
       "<!-- 26&#45;&gt;42 -->\n",
       "<g id=\"edge12\" class=\"edge\">\n",
       "<title>26&#45;&gt;42</title>\n",
       "<path fill=\"none\" stroke=\"black\" d=\"M422.47,-181.74C435.93,-172.48 450.53,-162.43 464.42,-152.87\"/>\n",
       "<polygon fill=\"black\" stroke=\"black\" points=\"466.4,-155.76 472.66,-147.21 462.44,-149.99 466.4,-155.76\"/>\n",
       "</g>\n",
       "<!-- 28 -->\n",
       "<g id=\"node11\" class=\"node\">\n",
       "<title>28</title>\n",
       "<polygon fill=\"#c0c0c0\" stroke=\"black\" points=\"383.75,-36 329.75,-36 329.75,0 383.75,0 383.75,-36\"/>\n",
       "<text text-anchor=\"middle\" x=\"356.75\" y=\"-12.95\" font-family=\"Times,serif\" font-size=\"14.00\">(...)</text>\n",
       "</g>\n",
       "<!-- 27&#45;&gt;28 -->\n",
       "<g id=\"edge10\" class=\"edge\">\n",
       "<title>27&#45;&gt;28</title>\n",
       "<path fill=\"none\" stroke=\"black\" d=\"M364.42,-71.54C363.25,-63.48 362.02,-55.05 360.89,-47.36\"/>\n",
       "<polygon fill=\"black\" stroke=\"black\" points=\"364.37,-46.94 359.46,-37.55 357.44,-47.95 364.37,-46.94\"/>\n",
       "</g>\n",
       "<!-- 35 -->\n",
       "<g id=\"node12\" class=\"node\">\n",
       "<title>35</title>\n",
       "<polygon fill=\"#c0c0c0\" stroke=\"black\" points=\"455.75,-36 401.75,-36 401.75,0 455.75,0 455.75,-36\"/>\n",
       "<text text-anchor=\"middle\" x=\"428.75\" y=\"-12.95\" font-family=\"Times,serif\" font-size=\"14.00\">(...)</text>\n",
       "</g>\n",
       "<!-- 27&#45;&gt;35 -->\n",
       "<g id=\"edge11\" class=\"edge\">\n",
       "<title>27&#45;&gt;35</title>\n",
       "<path fill=\"none\" stroke=\"black\" d=\"M393.92,-71.54C399.71,-62.81 405.79,-53.64 411.21,-45.46\"/>\n",
       "<polygon fill=\"black\" stroke=\"black\" points=\"414,-47.59 416.61,-37.32 408.17,-43.72 414,-47.59\"/>\n",
       "</g>\n",
       "<!-- 43 -->\n",
       "<g id=\"node14\" class=\"node\">\n",
       "<title>43</title>\n",
       "<polygon fill=\"#c0c0c0\" stroke=\"black\" points=\"540.75,-36 486.75,-36 486.75,0 540.75,0 540.75,-36\"/>\n",
       "<text text-anchor=\"middle\" x=\"513.75\" y=\"-12.95\" font-family=\"Times,serif\" font-size=\"14.00\">(...)</text>\n",
       "</g>\n",
       "<!-- 42&#45;&gt;43 -->\n",
       "<g id=\"edge13\" class=\"edge\">\n",
       "<title>42&#45;&gt;43</title>\n",
       "<path fill=\"none\" stroke=\"black\" d=\"M521.42,-71.54C520.25,-63.48 519.02,-55.05 517.89,-47.36\"/>\n",
       "<polygon fill=\"black\" stroke=\"black\" points=\"521.37,-46.94 516.46,-37.55 514.44,-47.95 521.37,-46.94\"/>\n",
       "</g>\n",
       "<!-- 48 -->\n",
       "<g id=\"node15\" class=\"node\">\n",
       "<title>48</title>\n",
       "<polygon fill=\"#c0c0c0\" stroke=\"black\" points=\"612.75,-36 558.75,-36 558.75,0 612.75,0 612.75,-36\"/>\n",
       "<text text-anchor=\"middle\" x=\"585.75\" y=\"-12.95\" font-family=\"Times,serif\" font-size=\"14.00\">(...)</text>\n",
       "</g>\n",
       "<!-- 42&#45;&gt;48 -->\n",
       "<g id=\"edge14\" class=\"edge\">\n",
       "<title>42&#45;&gt;48</title>\n",
       "<path fill=\"none\" stroke=\"black\" d=\"M550.92,-71.54C556.71,-62.81 562.79,-53.64 568.21,-45.46\"/>\n",
       "<polygon fill=\"black\" stroke=\"black\" points=\"571,-47.59 573.61,-37.32 565.17,-43.72 571,-47.59\"/>\n",
       "</g>\n",
       "</g>\n",
       "</svg>\n"
      ],
      "text/plain": [
       "<graphviz.sources.Source at 0x1089c2c70>"
      ]
     },
     "metadata": {},
     "output_type": "display_data"
    }
   ],
   "source": [
    "for i in range(3):\n",
    "    tree = modelo.estimators_[i]\n",
    "    dot_data = export_graphviz(tree, \n",
    "                              feature_names=X_train.columns,\n",
    "                              filled=True,\n",
    "                              max_depth=2, \n",
    "                              impurity=True,\n",
    "                              proportion=True)\n",
    "    graph = graphviz.Source(dot_data)\n",
    "    display(graph)"
   ]
  },
  {
   "cell_type": "markdown",
   "id": "c51fc755",
   "metadata": {},
   "source": [
    "# Exercício\n",
    "\n",
    "> **1.** Variar os hiperparâmetros e checar se houve melhora na acurácia. \n",
    "\n",
    "> **2.** Imprimir também as outras métricas: precisão e recall (sensibilidade)\n",
    "\n",
    "> **3.** Treinar um modelo de Random Forest para a base de dados de cancêr de mama. "
   ]
  },
  {
   "cell_type": "markdown",
   "id": "a24ff088",
   "metadata": {},
   "source": [
    "# Curva precision-recall para o modelo treinado"
   ]
  },
  {
   "cell_type": "code",
   "execution_count": 11,
   "id": "0f9e4d29",
   "metadata": {
    "ExecuteTime": {
     "end_time": "2024-07-23T20:24:29.736905Z",
     "start_time": "2024-07-23T20:24:29.626747Z"
    }
   },
   "outputs": [
    {
     "data": {
      "text/plain": [
       "([<matplotlib.patches.Wedge at 0x13b146b80>,\n",
       "  <matplotlib.patches.Wedge at 0x13b15a340>],\n",
       " [Text(-0.5025943242672991, 0.9784676515931925, '0'),\n",
       "  Text(0.5025944158780503, -0.9784676045369114, '1')],\n",
       " [Text(-0.27414235869125403, 0.5337096281417413, '65%'),\n",
       "  Text(0.2741424086607547, -0.5337096024746789, '35%')])"
      ]
     },
     "execution_count": 11,
     "metadata": {},
     "output_type": "execute_result"
    },
    {
     "data": {
      "image/png": "[encoded data removed]",
      "text/plain": [
       "<Figure size 432x288 with 1 Axes>"
      ]
     },
     "metadata": {},
     "output_type": "display_data"
    }
   ],
   "source": [
    "import matplotlib.pyplot as plt\n",
    "\n",
    "# divisão de classes\n",
    "unique, counts = np.unique(y, return_counts=True)\n",
    "plt.pie(counts, labels=unique, autopct='%.0f%%')"
   ]
  },
  {
   "cell_type": "code",
   "execution_count": 8,
   "id": "1b75129f",
   "metadata": {
    "ExecuteTime": {
     "end_time": "2024-07-23T20:23:18.512763Z",
     "start_time": "2024-07-23T20:23:18.507360Z"
    }
   },
   "outputs": [
    {
     "data": {
      "text/plain": [
       "array([500, 268])"
      ]
     },
     "execution_count": 8,
     "metadata": {},
     "output_type": "execute_result"
    }
   ],
   "source": [
    "counts"
   ]
  },
  {
   "cell_type": "code",
   "execution_count": 14,
   "id": "5e721daf",
   "metadata": {
    "ExecuteTime": {
     "end_time": "2024-07-23T20:26:47.095711Z",
     "start_time": "2024-07-23T20:26:47.090220Z"
    }
   },
   "outputs": [],
   "source": [
    "# Curva precision-recall\n",
    "y_prob_test = modelo.predict_proba(X_test)[:, 1]"
   ]
  },
  {
   "cell_type": "code",
   "execution_count": 25,
   "id": "be09305e",
   "metadata": {
    "ExecuteTime": {
     "end_time": "2024-07-23T20:32:02.056500Z",
     "start_time": "2024-07-23T20:32:02.053480Z"
    }
   },
   "outputs": [],
   "source": [
    "from sklearn.metrics import precision_recall_curve, average_precision_score"
   ]
  },
  {
   "cell_type": "code",
   "execution_count": 26,
   "id": "10aa2ad3",
   "metadata": {
    "ExecuteTime": {
     "end_time": "2024-07-23T20:32:02.428227Z",
     "start_time": "2024-07-23T20:32:02.423531Z"
    }
   },
   "outputs": [],
   "source": [
    "precision, recall, thresholds = precision_recall_curve(y_test, y_prob_test)\n",
    "average_precision = average_precision_score(y_test, y_prob_test)"
   ]
  },
  {
   "cell_type": "code",
   "execution_count": 27,
   "id": "6229388c",
   "metadata": {
    "ExecuteTime": {
     "end_time": "2024-07-23T20:32:03.913472Z",
     "start_time": "2024-07-23T20:32:03.736374Z"
    }
   },
   "outputs": [
    {
     "data": {
      "image/png": "[encoded data removed]",
      "text/plain": [
       "<Figure size 432x288 with 1 Axes>"
      ]
     },
     "metadata": {
      "needs_background": "light"
     },
     "output_type": "display_data"
    }
   ],
   "source": [
    "plt.figure()\n",
    "plt.step(recall, precision, where='post', color='b', alpha=0.6, label='Precision-Recall curve')\n",
    "plt.fill_between(recall, precision, step='post', alpha=0.2, color='b')\n",
    "\n",
    "plt.xlabel('Recall')\n",
    "plt.ylabel('Precision')\n",
    "plt.title(f'Precision-Recall curve: AP={average_precision:.2f}')\n",
    "plt.legend(loc='best')\n",
    "plt.show()\n"
   ]
  },
  {
   "cell_type": "markdown",
   "id": "6681d774",
   "metadata": {},
   "source": [
    "- Temos uma área sob a curva de precision-recall de 0.59, quanto mais próximo de 1, melhor é o modelo. \n",
    "- No nosso exemplo, temos uma performance moderada, que pode ser melhorada, entre outras coisas, com a variação dos hiperparâmetros. "
   ]
  },
  {
   "cell_type": "markdown",
   "id": "5406d4bc",
   "metadata": {},
   "source": [
    "> Vamos agora treinar um segundo modelo mudando alguns valores de hiperparâmetros e plotar as curvas num mesmo gráfico para comparação:"
   ]
  },
  {
   "cell_type": "code",
   "execution_count": 34,
   "id": "3acbd411",
   "metadata": {
    "ExecuteTime": {
     "end_time": "2024-07-23T20:42:05.996741Z",
     "start_time": "2024-07-23T20:42:05.971910Z"
    }
   },
   "outputs": [
    {
     "data": {
      "text/plain": [
       "RandomForestClassifier(max_depth=5, max_features=None, min_samples_split=5,\n",
       "                       n_estimators=10, random_state=0)"
      ]
     },
     "execution_count": 34,
     "metadata": {},
     "output_type": "execute_result"
    }
   ],
   "source": [
    "# Treinar o segundo modelo com os novos hiperparâmetros\n",
    "model2 = RandomForestClassifier(\n",
    "    n_estimators=10,\n",
    "    max_features=None,\n",
    "    max_depth=5,\n",
    "    min_samples_split=5,\n",
    "    random_state=0\n",
    ")\n",
    "model2.fit(X_train, y_train)"
   ]
  },
  {
   "cell_type": "code",
   "execution_count": 35,
   "id": "10c0d7e9",
   "metadata": {
    "ExecuteTime": {
     "end_time": "2024-07-23T20:42:06.572238Z",
     "start_time": "2024-07-23T20:42:06.567045Z"
    }
   },
   "outputs": [],
   "source": [
    "# Fazer predições no conjunto de teste para o segundo modelo\n",
    "y_prob_test2 = model2.predict_proba(X_test)[:, 1]"
   ]
  },
  {
   "cell_type": "code",
   "execution_count": 36,
   "id": "891bc001",
   "metadata": {
    "ExecuteTime": {
     "end_time": "2024-07-23T20:42:07.210685Z",
     "start_time": "2024-07-23T20:42:07.206636Z"
    }
   },
   "outputs": [],
   "source": [
    "# Calcular precision e recall para o segundo modelo\n",
    "precision2, recall2, _ = precision_recall_curve(y_test, y_prob_test2)\n",
    "average_precision2 = average_precision_score(y_test, y_prob_test2)"
   ]
  },
  {
   "cell_type": "code",
   "execution_count": 37,
   "id": "68605ace",
   "metadata": {
    "ExecuteTime": {
     "end_time": "2024-07-23T20:42:08.276609Z",
     "start_time": "2024-07-23T20:42:08.152705Z"
    }
   },
   "outputs": [
    {
     "data": {
      "text/plain": [
       "<matplotlib.legend.Legend at 0x139d60310>"
      ]
     },
     "execution_count": 37,
     "metadata": {},
     "output_type": "execute_result"
    },
    {
     "data": {
      "image/png": "[encoded data removed]",
      "text/plain": [
       "<Figure size 432x288 with 1 Axes>"
      ]
     },
     "metadata": {
      "needs_background": "light"
     },
     "output_type": "display_data"
    }
   ],
   "source": [
    "# Plotar as curvas Precision-Recall para ambos os modelos\n",
    "plt.figure()\n",
    "\n",
    "# Curva para o primeiro modelo\n",
    "plt.step(recall, precision, where='post', \n",
    "         label=f'Model 1 (AP={average_precision:.2f})', color='b', alpha=0.6)\n",
    "plt.fill_between(recall, precision, step='post', alpha=0.2, color='b', linestyle='dashed')\n",
    "\n",
    "# Curva para o segundo modelo\n",
    "plt.step(recall2, precision2, where='post', label=f'Model 2 (AP={average_precision2:.2f})', \n",
    "         color='r', alpha=0.6)\n",
    "plt.fill_between(recall2, precision2, step='post', alpha=0.2, \n",
    "                 color='r', linestyle='dashed')\n",
    "\n",
    "plt.xlabel('Recall')\n",
    "plt.ylabel('Precision')\n",
    "plt.title('Precision-Recall Curves for Two Random Forest Models')\n",
    "plt.legend(loc='best')"
   ]
  },
  {
   "cell_type": "markdown",
   "id": "fed40140",
   "metadata": {},
   "source": [
    "- Aumentamos o número de estimadores no modelo 2 e o min_sample_split e mantivemos o mesmo valor de max_depth. Com essa mudança, já vimos uma melhora no desempenho do modelo, saindo de uma AP de 0.59 para 0.64. \n",
    "- Se tivéssemos que escolher entre os dois modelos usando a curva precision-recall, escolheríamos o modelo 2. "
   ]
  },
  {
   "cell_type": "code",
   "execution_count": null,
   "id": "34add822",
   "metadata": {},
   "outputs": [],
   "source": []
  }
 ],
 "metadata": {
  "kernelspec": {
   "display_name": "Python 3 (ipykernel)",
   "language": "python",
   "name": "python3"
  },
  "language_info": {
   "codemirror_mode": {
    "name": "ipython",
    "version": 3
   },
   "file_extension": ".py",
   "mimetype": "text/x-python",
   "name": "python",
   "nbconvert_exporter": "python",
   "pygments_lexer": "ipython3",
   "version": "3.9.13"
  }
 },
 "nbformat": 4,
 "nbformat_minor": 5
}
