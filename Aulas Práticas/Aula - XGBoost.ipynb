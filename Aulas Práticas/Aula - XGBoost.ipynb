{
 "cells": [
  {
   "cell_type": "markdown",
   "id": "e60b98a7",
   "metadata": {},
   "source": [
    "# Imports"
   ]
  },
  {
   "cell_type": "code",
   "execution_count": 21,
   "id": "305cfead",
   "metadata": {
    "ExecuteTime": {
     "end_time": "2024-08-02T00:56:05.515789Z",
     "start_time": "2024-08-02T00:56:05.512765Z"
    }
   },
   "outputs": [],
   "source": [
    "from sklearn.datasets import load_breast_cancer\n",
    "from sklearn.model_selection import train_test_split\n",
    "from sklearn.metrics import accuracy_score, classification_report, confusion_matrix, precision_score, recall_score, roc_auc_score\n",
    "from xgboost import XGBClassifier\n",
    "import matplotlib.pyplot as plt\n",
    "import seaborn as sns"
   ]
  },
  {
   "cell_type": "markdown",
   "id": "807cf2b4",
   "metadata": {},
   "source": [
    "# Dados"
   ]
  },
  {
   "cell_type": "code",
   "execution_count": 3,
   "id": "ae444e9e",
   "metadata": {
    "ExecuteTime": {
     "end_time": "2024-08-02T00:43:48.291264Z",
     "start_time": "2024-08-02T00:43:48.277940Z"
    }
   },
   "outputs": [],
   "source": [
    "data = load_breast_cancer()\n",
    "X = data.data\n",
    "y = data.target"
   ]
  },
  {
   "cell_type": "code",
   "execution_count": 5,
   "id": "3c06760e",
   "metadata": {
    "ExecuteTime": {
     "end_time": "2024-08-02T00:43:55.754155Z",
     "start_time": "2024-08-02T00:43:55.748220Z"
    }
   },
   "outputs": [
    {
     "data": {
      "text/plain": [
       "array([[1.799e+01, 1.038e+01, 1.228e+02, ..., 2.654e-01, 4.601e-01,\n",
       "        1.189e-01],\n",
       "       [2.057e+01, 1.777e+01, 1.329e+02, ..., 1.860e-01, 2.750e-01,\n",
       "        8.902e-02],\n",
       "       [1.969e+01, 2.125e+01, 1.300e+02, ..., 2.430e-01, 3.613e-01,\n",
       "        8.758e-02],\n",
       "       ...,\n",
       "       [1.660e+01, 2.808e+01, 1.083e+02, ..., 1.418e-01, 2.218e-01,\n",
       "        7.820e-02],\n",
       "       [2.060e+01, 2.933e+01, 1.401e+02, ..., 2.650e-01, 4.087e-01,\n",
       "        1.240e-01],\n",
       "       [7.760e+00, 2.454e+01, 4.792e+01, ..., 0.000e+00, 2.871e-01,\n",
       "        7.039e-02]])"
      ]
     },
     "execution_count": 5,
     "metadata": {},
     "output_type": "execute_result"
    }
   ],
   "source": [
    "X"
   ]
  },
  {
   "cell_type": "code",
   "execution_count": 7,
   "id": "93162f3b",
   "metadata": {
    "ExecuteTime": {
     "end_time": "2024-08-02T00:44:05.104585Z",
     "start_time": "2024-08-02T00:44:05.099861Z"
    }
   },
   "outputs": [
    {
     "data": {
      "text/plain": [
       "array([0, 0, 0, 0, 0, 0, 0, 0, 0, 0, 0, 0, 0, 0, 0, 0, 0, 0, 0, 1, 1, 1,\n",
       "       0, 0, 0, 0, 0, 0, 0, 0, 0, 0, 0, 0, 0, 0, 0, 1, 0, 0, 0, 0, 0, 0,\n",
       "       0, 0, 1, 0, 1, 1, 1, 1, 1, 0, 0, 1, 0, 0, 1, 1, 1, 1, 0, 1, 0, 0,\n",
       "       1, 1, 1, 1, 0, 1, 0, 0, 1, 0, 1, 0, 0, 1, 1, 1, 0, 0, 1, 0, 0, 0,\n",
       "       1, 1, 1, 0, 1, 1, 0, 0, 1, 1, 1, 0, 0, 1, 1, 1, 1, 0, 1, 1, 0, 1,\n",
       "       1, 1, 1, 1, 1, 1, 1, 0, 0, 0, 1, 0, 0, 1, 1, 1, 0, 0, 1, 0, 1, 0,\n",
       "       0, 1, 0, 0, 1, 1, 0, 1, 1, 0, 1, 1, 1, 1, 0, 1, 1, 1, 1, 1, 1, 1,\n",
       "       1, 1, 0, 1, 1, 1, 1, 0, 0, 1, 0, 1, 1, 0, 0, 1, 1, 0, 0, 1, 1, 1,\n",
       "       1, 0, 1, 1, 0, 0, 0, 1, 0, 1, 0, 1, 1, 1, 0, 1, 1, 0, 0, 1, 0, 0,\n",
       "       0, 0, 1, 0, 0, 0, 1, 0, 1, 0, 1, 1, 0, 1, 0, 0, 0, 0, 1, 1, 0, 0,\n",
       "       1, 1, 1, 0, 1, 1, 1, 1, 1, 0, 0, 1, 1, 0, 1, 1, 0, 0, 1, 0, 1, 1,\n",
       "       1, 1, 0, 1, 1, 1, 1, 1, 0, 1, 0, 0, 0, 0, 0, 0, 0, 0, 0, 0, 0, 0,\n",
       "       0, 0, 1, 1, 1, 1, 1, 1, 0, 1, 0, 1, 1, 0, 1, 1, 0, 1, 0, 0, 1, 1,\n",
       "       1, 1, 1, 1, 1, 1, 1, 1, 1, 1, 1, 0, 1, 1, 0, 1, 0, 1, 1, 1, 1, 1,\n",
       "       1, 1, 1, 1, 1, 1, 1, 1, 1, 0, 1, 1, 1, 0, 1, 0, 1, 1, 1, 1, 0, 0,\n",
       "       0, 1, 1, 1, 1, 0, 1, 0, 1, 0, 1, 1, 1, 0, 1, 1, 1, 1, 1, 1, 1, 0,\n",
       "       0, 0, 1, 1, 1, 1, 1, 1, 1, 1, 1, 1, 1, 0, 0, 1, 0, 0, 0, 1, 0, 0,\n",
       "       1, 1, 1, 1, 1, 0, 1, 1, 1, 1, 1, 0, 1, 1, 1, 0, 1, 1, 0, 0, 1, 1,\n",
       "       1, 1, 1, 1, 0, 1, 1, 1, 1, 1, 1, 1, 0, 1, 1, 1, 1, 1, 0, 1, 1, 0,\n",
       "       1, 1, 1, 1, 1, 1, 1, 1, 1, 1, 1, 1, 0, 1, 0, 0, 1, 0, 1, 1, 1, 1,\n",
       "       1, 0, 1, 1, 0, 1, 0, 1, 1, 0, 1, 0, 1, 1, 1, 1, 1, 1, 1, 1, 0, 0,\n",
       "       1, 1, 1, 1, 1, 1, 0, 1, 1, 1, 1, 1, 1, 1, 1, 1, 1, 0, 1, 1, 1, 1,\n",
       "       1, 1, 1, 0, 1, 0, 1, 1, 0, 1, 1, 1, 1, 1, 0, 0, 1, 0, 1, 0, 1, 1,\n",
       "       1, 1, 1, 0, 1, 1, 0, 1, 0, 1, 0, 0, 1, 1, 1, 0, 1, 1, 1, 1, 1, 1,\n",
       "       1, 1, 1, 1, 1, 0, 1, 0, 0, 1, 1, 1, 1, 1, 1, 1, 1, 1, 1, 1, 1, 1,\n",
       "       1, 1, 1, 1, 1, 1, 1, 1, 1, 1, 1, 1, 0, 0, 0, 0, 0, 0, 1])"
      ]
     },
     "execution_count": 7,
     "metadata": {},
     "output_type": "execute_result"
    }
   ],
   "source": [
    "y"
   ]
  },
  {
   "cell_type": "code",
   "execution_count": 8,
   "id": "df72a0d3",
   "metadata": {
    "ExecuteTime": {
     "end_time": "2024-08-02T00:45:27.632442Z",
     "start_time": "2024-08-02T00:45:27.625761Z"
    }
   },
   "outputs": [],
   "source": [
    "# Divisão em treino e teste\n",
    "X_train, X_test, y_train, y_test = train_test_split(X, y, test_size=0.2, random_state=123, stratify=y)"
   ]
  },
  {
   "cell_type": "code",
   "execution_count": 12,
   "id": "a142c69f",
   "metadata": {
    "ExecuteTime": {
     "end_time": "2024-08-02T00:47:48.144464Z",
     "start_time": "2024-08-02T00:47:48.141574Z"
    }
   },
   "outputs": [
    {
     "name": "stdout",
     "output_type": "stream",
     "text": [
      "Tamanho do conjunto de treino: 455\n",
      "Tamanho do conjunto de teste: 114\n"
     ]
    }
   ],
   "source": [
    "print('Tamanho do conjunto de treino: {}'.format(X_train.shape[0]))\n",
    "print('Tamanho do conjunto de teste: {}'.format(X_test.shape[0]))"
   ]
  },
  {
   "cell_type": "markdown",
   "id": "48a4457b",
   "metadata": {},
   "source": [
    "# Modelo"
   ]
  },
  {
   "cell_type": "code",
   "execution_count": 17,
   "id": "da06763f",
   "metadata": {
    "ExecuteTime": {
     "end_time": "2024-08-02T00:51:39.078201Z",
     "start_time": "2024-08-02T00:51:39.075875Z"
    }
   },
   "outputs": [],
   "source": [
    "# Instanciando o modelo\n",
    "modelo = XGBClassifier(n_estimators = 50, max_depth=3, learning_rate=0.01, subsample=0.7)"
   ]
  },
  {
   "cell_type": "code",
   "execution_count": 18,
   "id": "ee8fcc06",
   "metadata": {
    "ExecuteTime": {
     "end_time": "2024-08-02T00:51:41.059665Z",
     "start_time": "2024-08-02T00:51:40.992820Z"
    }
   },
   "outputs": [
    {
     "data": {
      "text/plain": [
       "XGBClassifier(base_score=None, booster=None, callbacks=None,\n",
       "              colsample_bylevel=None, colsample_bynode=None,\n",
       "              colsample_bytree=None, device=None, early_stopping_rounds=None,\n",
       "              enable_categorical=False, eval_metric=None, feature_types=None,\n",
       "              gamma=None, grow_policy=None, importance_type=None,\n",
       "              interaction_constraints=None, learning_rate=0.01, max_bin=None,\n",
       "              max_cat_threshold=None, max_cat_to_onehot=None,\n",
       "              max_delta_step=None, max_depth=3, max_leaves=None,\n",
       "              min_child_weight=None, missing=nan, monotone_constraints=None,\n",
       "              multi_strategy=None, n_estimators=50, n_jobs=None,\n",
       "              num_parallel_tree=None, random_state=None, ...)"
      ]
     },
     "execution_count": 18,
     "metadata": {},
     "output_type": "execute_result"
    }
   ],
   "source": [
    "# Treinando o modelo\n",
    "modelo.fit(X_train, y_train)"
   ]
  },
  {
   "cell_type": "code",
   "execution_count": 19,
   "id": "d0621c21",
   "metadata": {
    "ExecuteTime": {
     "end_time": "2024-08-02T00:53:00.511310Z",
     "start_time": "2024-08-02T00:53:00.504582Z"
    }
   },
   "outputs": [],
   "source": [
    "# Prevendo os resultados\n",
    "y_pred = modelo.predict(X_test)"
   ]
  },
  {
   "cell_type": "markdown",
   "id": "6356f121",
   "metadata": {},
   "source": [
    "## Avaliação do modelo"
   ]
  },
  {
   "cell_type": "code",
   "execution_count": 22,
   "id": "7b53c29e",
   "metadata": {
    "ExecuteTime": {
     "end_time": "2024-08-02T00:57:46.159278Z",
     "start_time": "2024-08-02T00:57:46.148673Z"
    }
   },
   "outputs": [
    {
     "name": "stdout",
     "output_type": "stream",
     "text": [
      "Acurácia: 0.9649122807017544\n",
      "Precisão: 0.9594594594594594\n",
      "Recall: 0.9861111111111112\n",
      "ROC AUC: 0.9573412698412699\n"
     ]
    }
   ],
   "source": [
    "acuracia = accuracy_score(y_test, y_pred)\n",
    "precisao = precision_score(y_test, y_pred)\n",
    "recall = recall_score(y_test, y_pred)\n",
    "AUC = roc_auc_score(y_test, y_pred)\n",
    "\n",
    "print('Acurácia: {}'.format(acuracia))\n",
    "print('Precisão: {}'.format(precisao))\n",
    "print('Recall: {}'.format(recall))\n",
    "print('ROC AUC: {}'.format(AUC))"
   ]
  },
  {
   "cell_type": "markdown",
   "id": "714aa6b8",
   "metadata": {},
   "source": [
    "- Vamos dar uma olhada na matriz de confusão:"
   ]
  },
  {
   "cell_type": "code",
   "execution_count": 25,
   "id": "583a1694",
   "metadata": {
    "ExecuteTime": {
     "end_time": "2024-08-02T01:01:32.048522Z",
     "start_time": "2024-08-02T01:01:31.771528Z"
    }
   },
   "outputs": [
    {
     "data": {
      "image/png": "[encoded data removed]",
      "text/plain": [
       "<Figure size 432x288 with 2 Axes>"
      ]
     },
     "metadata": {
      "needs_background": "light"
     },
     "output_type": "display_data"
    }
   ],
   "source": [
    "conf_mat = confusion_matrix(y_test, y_pred)\n",
    "sns.heatmap(conf_mat, annot=True, fmt='d', cmap='Blues', \n",
    "            xticklabels=data.target_names, yticklabels=data.target_names)\n",
    "plt.xlabel('Predição')\n",
    "plt.ylabel('Real')\n",
    "plt.title('Matriz de confusão XGBoost')\n",
    "plt.show()"
   ]
  },
  {
   "cell_type": "markdown",
   "id": "90b90343",
   "metadata": {},
   "source": [
    "# Exercícios"
   ]
  },
  {
   "cell_type": "markdown",
   "id": "3560fff3",
   "metadata": {},
   "source": [
    "> **Exercício 1**: Plote a curva ROC e a curva precision-recall para o modelo. \n",
    "\n",
    "> **Exercício 2**: Mude alguns valores dos hiperparâmetros e treine um novo modelo. Compare o novo modelo com o modelo anterior. Qual foi o melhor? Plot a curva ROC para os dois modelos para mostrar a comparação de desempenho. \n",
    "\n",
    "> **Exercício 3**: Treine um XGBoost para a base de dados de diabetes que já está salvo na pasta de datasets. Refaça os exercícios 1 e 2 para esse dataset."
   ]
  },
  {
   "cell_type": "markdown",
   "id": "1503cd33",
   "metadata": {
    "ExecuteTime": {
     "end_time": "2024-08-02T00:41:43.736137Z",
     "start_time": "2024-08-02T00:41:43.732042Z"
    }
   },
   "source": [
    "# Aula 02: Calculando o f1-score "
   ]
  },
  {
   "cell_type": "markdown",
   "id": "697e2aed",
   "metadata": {},
   "source": [
    "Agora que já aprendemos sobre uma nova métrica a F1-score, vamos calculá-la para o modelo que treinamos anteriormente. \n",
    "\n",
    "Para isso, não esqueça de carregar essa nova métrica a partir da sklearn.metrics"
   ]
  },
  {
   "cell_type": "code",
   "execution_count": 26,
   "id": "5012ef4c",
   "metadata": {
    "ExecuteTime": {
     "end_time": "2024-08-02T01:10:46.739303Z",
     "start_time": "2024-08-02T01:10:46.737047Z"
    }
   },
   "outputs": [],
   "source": [
    "from sklearn.metrics import f1_score"
   ]
  },
  {
   "cell_type": "code",
   "execution_count": 28,
   "id": "fd981fcf",
   "metadata": {
    "ExecuteTime": {
     "end_time": "2024-08-02T01:11:51.779160Z",
     "start_time": "2024-08-02T01:11:51.775190Z"
    }
   },
   "outputs": [
    {
     "name": "stdout",
     "output_type": "stream",
     "text": [
      "F1-Score: 0.9726027397260274\n"
     ]
    }
   ],
   "source": [
    "f1 = f1_score(y_test, y_pred)\n",
    "print('F1-Score: {}'.format(f1))"
   ]
  },
  {
   "cell_type": "markdown",
   "id": "d93a1458",
   "metadata": {},
   "source": [
    "> **Exercício:** Adicione a métrica F1-Score nos exercícios anteriores."
   ]
  }
 ],
 "metadata": {
  "kernelspec": {
   "display_name": "Python 3 (ipykernel)",
   "language": "python",
   "name": "python3"
  },
  "language_info": {
   "codemirror_mode": {
    "name": "ipython",
    "version": 3
   },
   "file_extension": ".py",
   "mimetype": "text/x-python",
   "name": "python",
   "nbconvert_exporter": "python",
   "pygments_lexer": "ipython3",
   "version": "3.9.13"
  }
 },
 "nbformat": 4,
 "nbformat_minor": 5
}
