{
 "cells": [
  {
   "cell_type": "markdown",
   "id": "7dbe3a93",
   "metadata": {},
   "source": [
    "# Imports "
   ]
  },
  {
   "cell_type": "code",
   "execution_count": 29,
   "id": "122cfda4",
   "metadata": {
    "ExecuteTime": {
     "end_time": "2024-08-08T01:16:11.326574Z",
     "start_time": "2024-08-08T01:16:11.322911Z"
    }
   },
   "outputs": [],
   "source": [
    "from sklearn.datasets import load_breast_cancer\n",
    "from sklearn.model_selection import train_test_split\n",
    "from sklearn.metrics import (accuracy_score, recall_score, precision_score, classification_report,\n",
    "                            confusion_matrix, roc_auc_score)\n",
    "from xgboost import XGBClassifier\n",
    "import matplotlib.pyplot as plt\n",
    "import seaborn as sns\n",
    "import numpy as np"
   ]
  },
  {
   "cell_type": "markdown",
   "id": "8c938fd8",
   "metadata": {},
   "source": [
    "# Dados"
   ]
  },
  {
   "cell_type": "code",
   "execution_count": 4,
   "id": "8a717f09",
   "metadata": {
    "ExecuteTime": {
     "end_time": "2024-08-07T17:26:41.786739Z",
     "start_time": "2024-08-07T17:26:41.773921Z"
    }
   },
   "outputs": [],
   "source": [
    "dados = load_breast_cancer()\n",
    "X = dados.data\n",
    "y = dados.target"
   ]
  },
  {
   "cell_type": "code",
   "execution_count": 32,
   "id": "19b8f281",
   "metadata": {
    "ExecuteTime": {
     "end_time": "2024-08-08T01:19:27.640487Z",
     "start_time": "2024-08-08T01:19:27.635870Z"
    }
   },
   "outputs": [
    {
     "name": "stdout",
     "output_type": "stream",
     "text": [
      "['malignant' 'benign']\n",
      "[0 0 0 0 0 0 0 0 0 0]\n",
      "0 => malignant\n",
      "1 => benign\n"
     ]
    }
   ],
   "source": [
    "# Verificar as classes\n",
    "print(dados.target_names)\n",
    "print(dados.target[:10])  # Exemplo dos primeiros 10 alvos\n",
    "\n",
    "# Confirmar a associação de valores com as classes\n",
    "for target_value, class_name in zip(range(len(dados.target_names)), dados.target_names):\n",
    "    print(f'{target_value} => {class_name}')"
   ]
  },
  {
   "cell_type": "code",
   "execution_count": 5,
   "id": "f8da2247",
   "metadata": {
    "ExecuteTime": {
     "end_time": "2024-08-07T17:27:42.938688Z",
     "start_time": "2024-08-07T17:27:42.934871Z"
    }
   },
   "outputs": [],
   "source": [
    "# Divisão em treino e teste\n",
    "X_train, X_test, y_train, y_test = train_test_split(X, y, test_size=0.2, random_state=123)"
   ]
  },
  {
   "cell_type": "code",
   "execution_count": 7,
   "id": "55d10260",
   "metadata": {
    "ExecuteTime": {
     "end_time": "2024-08-07T17:28:45.517335Z",
     "start_time": "2024-08-07T17:28:45.514077Z"
    }
   },
   "outputs": [
    {
     "name": "stdout",
     "output_type": "stream",
     "text": [
      "Tamanho do conjunto de treino: 455\n",
      "Tamanho do conjunto de teste: 114\n"
     ]
    }
   ],
   "source": [
    "# Tamanho dos conjuntos de treino e teste\n",
    "print('Tamanho do conjunto de treino: {}'.format(X_train.shape[0]))\n",
    "print('Tamanho do conjunto de teste: {}'.format(X_test.shape[0]))"
   ]
  },
  {
   "cell_type": "code",
   "execution_count": 31,
   "id": "884f61ae",
   "metadata": {
    "ExecuteTime": {
     "end_time": "2024-08-08T01:16:22.156155Z",
     "start_time": "2024-08-08T01:16:22.151039Z"
    }
   },
   "outputs": [
    {
     "data": {
      "text/plain": [
       "array([0.37582418, 0.62417582])"
      ]
     },
     "execution_count": 31,
     "metadata": {},
     "output_type": "execute_result"
    }
   ],
   "source": [
    "# Contar a quantidade de 0s e 1s\n",
    "unique, counts = np.unique(y_train, return_counts=True)\n",
    "\n",
    "# Calcular a proporção de cada valor\n",
    "proportions = counts / len(y_train)\n",
    "proportions"
   ]
  },
  {
   "cell_type": "markdown",
   "id": "935e4212",
   "metadata": {},
   "source": [
    "# Modelo"
   ]
  },
  {
   "cell_type": "code",
   "execution_count": 37,
   "id": "0ee2c73e",
   "metadata": {
    "ExecuteTime": {
     "end_time": "2024-08-08T01:20:42.825412Z",
     "start_time": "2024-08-08T01:20:42.822564Z"
    }
   },
   "outputs": [],
   "source": [
    "# Instanciando o modelo\n",
    "modelo = XGBClassifier(n_estimators=25,\n",
    "                      max_depth=3, learning_rate=0.01, \n",
    "                      subsample=0.7)"
   ]
  },
  {
   "cell_type": "code",
   "execution_count": 38,
   "id": "ec815022",
   "metadata": {
    "ExecuteTime": {
     "end_time": "2024-08-08T01:20:43.334012Z",
     "start_time": "2024-08-08T01:20:43.297199Z"
    }
   },
   "outputs": [
    {
     "data": {
      "text/plain": [
       "XGBClassifier(base_score=None, booster=None, callbacks=None,\n",
       "              colsample_bylevel=None, colsample_bynode=None,\n",
       "              colsample_bytree=None, device=None, early_stopping_rounds=None,\n",
       "              enable_categorical=False, eval_metric=None, feature_types=None,\n",
       "              gamma=None, grow_policy=None, importance_type=None,\n",
       "              interaction_constraints=None, learning_rate=0.01, max_bin=None,\n",
       "              max_cat_threshold=None, max_cat_to_onehot=None,\n",
       "              max_delta_step=None, max_depth=3, max_leaves=None,\n",
       "              min_child_weight=None, missing=nan, monotone_constraints=None,\n",
       "              multi_strategy=None, n_estimators=25, n_jobs=None,\n",
       "              num_parallel_tree=None, random_state=None, ...)"
      ]
     },
     "execution_count": 38,
     "metadata": {},
     "output_type": "execute_result"
    }
   ],
   "source": [
    "# Treinando o modelo\n",
    "modelo.fit(X_train, y_train)"
   ]
  },
  {
   "cell_type": "markdown",
   "id": "8144ca8d",
   "metadata": {},
   "source": [
    "Aqui está o que cada parâmetro significa:\n",
    "\n",
    "- `n_estimators=10`: Define o número de árvores que serão criadas no processo de treinamento. Neste caso, o modelo irá treinar 50 árvores.\n",
    "\n",
    "- `max_depth=3`: Define a profundidade máxima de cada árvore. Uma profundidade menor geralmente ajuda a evitar o overfitting, pois limita o número de divisões que cada árvore pode fazer.\n",
    "\n",
    "- `learning_rate=0.01`: Taxa de aprendizado do modelo. Esse valor controla o impacto de cada árvore individual no resultado final. Valores menores tendem a resultar em um modelo mais robusto, mas também pode requerer mais árvores (mais iterações) para atingir uma boa performance.\n",
    "\n",
    "- `subsample=0.7`: A fração do conjunto de dados que será usada para treinar cada árvore. Um valor de 0.7 significa que, para cada árvore, 70% dos dados de treinamento serão amostrados aleatoriamente e utilizados. Isso pode ajudar a reduzir o overfitting ao introduzir variabilidade no treinamento de cada árvore."
   ]
  },
  {
   "cell_type": "code",
   "execution_count": 39,
   "id": "d88502fa",
   "metadata": {
    "ExecuteTime": {
     "end_time": "2024-08-08T01:20:44.583201Z",
     "start_time": "2024-08-08T01:20:44.579494Z"
    }
   },
   "outputs": [],
   "source": [
    "# Predição do modelo\n",
    "y_pred = modelo.predict(X_test)"
   ]
  },
  {
   "cell_type": "markdown",
   "id": "07f76a09",
   "metadata": {},
   "source": [
    "## Avaliação do modelo"
   ]
  },
  {
   "cell_type": "code",
   "execution_count": 40,
   "id": "7901a753",
   "metadata": {
    "ExecuteTime": {
     "end_time": "2024-08-08T01:20:45.800465Z",
     "start_time": "2024-08-08T01:20:45.792390Z"
    }
   },
   "outputs": [
    {
     "name": "stdout",
     "output_type": "stream",
     "text": [
      "Acurácia: 0.8859649122807017\n",
      "Precisão: 0.8488372093023255\n",
      "Recall: 1.0\n",
      "AUC: 0.8414634146341463\n"
     ]
    }
   ],
   "source": [
    "acuracia = accuracy_score(y_test, y_pred)\n",
    "precisao = precision_score(y_test, y_pred)\n",
    "recall = recall_score(y_test, y_pred)\n",
    "AUC = roc_auc_score(y_test, y_pred)\n",
    "\n",
    "print('Acurácia: {}'.format(acuracia))\n",
    "print('Precisão: {}'.format(precisao))\n",
    "print('Recall: {}'.format(recall))\n",
    "print('AUC: {}'.format(AUC))"
   ]
  },
  {
   "cell_type": "markdown",
   "id": "61e007a0",
   "metadata": {},
   "source": [
    "**Interpretando os resultados:**\n",
    "\n",
    "- Acurácia: 0.6404 (64,04%): A acurácia mede a proporção de previsões corretas em relação ao total de previsões feitas pelo modelo. Neste caso, o modelo acertou aproximadamente 64,04% das previsões. No entanto, a acurácia pode ser enganadora se os dados estiverem desbalanceados (isto é, se uma classe for muito mais frequente que a outra).\n",
    "\n",
    "- Precisão: 0.6404 (64,04%): A precisão mede a proporção de previsões positivas corretas em relação ao total de previsões positivas feitas pelo modelo. Aqui, 64,04% das previsões que o modelo fez como sendo da classe positiva estavam corretas. Isso é importante em cenários onde as consequências de uma previsão positiva incorreta são graves (por exemplo, diagnóstico de uma doença).\n",
    "\n",
    "- Recall: 1.0 (100%): O recall (ou sensibilidade) mede a proporção de casos positivos que foram corretamente identificados pelo modelo. Um recall de 1.0 significa que o modelo conseguiu identificar corretamente todos os exemplos da classe positiva. Esse valor é o ideal quando é crucial identificar todos os casos positivos, mesmo que isso signifique ter alguns falsos positivos.\n",
    "\n",
    "- AUC (Área sob a Curva ROC): 0.5 (50%): A AUC mede a habilidade do modelo de distinguir entre classes positivas e negativas. Um valor de 0.5 indica que o modelo não tem nenhuma capacidade discriminativa entre as classes; é equivalente a fazer previsões aleatórias. Valores de AUC próximos de 1.0 indicam excelente capacidade de discriminação, enquanto valores próximos de 0.5 indicam que o modelo não está conseguindo separar as classes."
   ]
  },
  {
   "cell_type": "markdown",
   "id": "4e037485",
   "metadata": {},
   "source": [
    "- Olhando a matriz de confusão."
   ]
  },
  {
   "cell_type": "code",
   "execution_count": 41,
   "id": "279a174e",
   "metadata": {
    "ExecuteTime": {
     "end_time": "2024-08-08T01:20:56.562977Z",
     "start_time": "2024-08-08T01:20:56.559365Z"
    }
   },
   "outputs": [],
   "source": [
    "conf_mat = confusion_matrix(y_test, y_pred)"
   ]
  },
  {
   "cell_type": "code",
   "execution_count": 42,
   "id": "6373d9ca",
   "metadata": {
    "ExecuteTime": {
     "end_time": "2024-08-08T01:20:57.468505Z",
     "start_time": "2024-08-08T01:20:57.341911Z"
    }
   },
   "outputs": [
    {
     "data": {
      "image/png": "[encoded data removed]",
      "text/plain": [
       "<Figure size 432x288 with 2 Axes>"
      ]
     },
     "metadata": {
      "needs_background": "light"
     },
     "output_type": "display_data"
    }
   ],
   "source": [
    "sns.heatmap(conf_mat, annot=True, fmt='d', cmap='Blues',\n",
    "           xticklabels=dados.target_names, \n",
    "           yticklabels=dados.target_names)\n",
    "plt.xlabel('Predição')\n",
    "plt.ylabel('Real')\n",
    "plt.show()"
   ]
  },
  {
   "cell_type": "code",
   "execution_count": 43,
   "id": "34ac5af2",
   "metadata": {
    "ExecuteTime": {
     "end_time": "2024-08-08T01:21:35.172662Z",
     "start_time": "2024-08-08T01:21:35.168431Z"
    }
   },
   "outputs": [
    {
     "name": "stdout",
     "output_type": "stream",
     "text": [
      "1.0\n",
      "0.8859649122807017\n",
      "0.8488372093023255\n"
     ]
    }
   ],
   "source": [
    "VP = 73\n",
    "FP = 13\n",
    "FN = 0\n",
    "VN = 28\n",
    "\n",
    "recall = VP/(VP + FN)\n",
    "acuracia = (VP + VN)/(VP + VN + FP + FN)\n",
    "precisao = VP / (VP + FP)\n",
    "\n",
    "print(recall)\n",
    "print(acuracia)\n",
    "print(precisao)"
   ]
  },
  {
   "cell_type": "markdown",
   "id": "d08a0f58",
   "metadata": {},
   "source": [
    "# Exercício\n",
    "\n",
    "> Mude os hiperparâmetros e treine um novo modelo. Aumente o número de estimadores, a profundidade da árvore, por exemplo. \n",
    "\n",
    "> Desenhe a curva ROC comparando os dois modelos. Que conclusões podemos extrair? "
   ]
  },
  {
   "cell_type": "code",
   "execution_count": null,
   "id": "5a3bc9a7",
   "metadata": {},
   "outputs": [],
   "source": []
  }
 ],
 "metadata": {
  "kernelspec": {
   "display_name": "Python 3 (ipykernel)",
   "language": "python",
   "name": "python3"
  },
  "language_info": {
   "codemirror_mode": {
    "name": "ipython",
    "version": 3
   },
   "file_extension": ".py",
   "mimetype": "text/x-python",
   "name": "python",
   "nbconvert_exporter": "python",
   "pygments_lexer": "ipython3",
   "version": "3.9.13"
  }
 },
 "nbformat": 4,
 "nbformat_minor": 5
}
